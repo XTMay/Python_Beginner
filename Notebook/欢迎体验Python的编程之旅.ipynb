{
  "nbformat": 4,
  "nbformat_minor": 0,
  "metadata": {
    "colab": {
      "provenance": [],
      "authorship_tag": "ABX9TyMY3jEokKLiGmn61R1SJPeF",
      "include_colab_link": true
    },
    "kernelspec": {
      "name": "python3",
      "display_name": "Python 3"
    },
    "language_info": {
      "name": "python"
    }
  },
  "cells": [
    {
      "cell_type": "markdown",
      "metadata": {
        "id": "view-in-github",
        "colab_type": "text"
      },
      "source": [
        "<a href=\"https://colab.research.google.com/github/XTMay/Python_Beginner/blob/main/Notebook/%E6%AC%A2%E8%BF%8E%E4%BD%93%E9%AA%8CPython%E7%9A%84%E7%BC%96%E7%A8%8B%E4%B9%8B%E6%97%85.ipynb\" target=\"_parent\"><img src=\"https://colab.research.google.com/assets/colab-badge.svg\" alt=\"Open In Colab\"/></a>"
      ]
    },
    {
      "cell_type": "markdown",
      "source": [
        "# 👏欢迎体验Python编程之旅"
      ],
      "metadata": {
        "id": "diA16DTjY6K_"
      }
    },
    {
      "cell_type": "markdown",
      "source": [
        "## **✅ 课程目标**\n",
        "\n",
        "#### 让零基础的你在25分钟内完成人生第一个Python程序，理解变量、条件判断、循环、函数和面向对象（OOP）的基本概念，感受编程的魅力！\n"
      ],
      "metadata": {
        "id": "pnBRLY50ZAYp"
      }
    },
    {
      "cell_type": "markdown",
      "source": [
        "## 👏 Part 0: Welcome\n",
        "\n",
        "### 👩‍🏫 自我介绍（May）\n",
        "\n",
        "\t•\t拥有9年软件开发经验（全栈工程师）\n",
        "\t•\t教学经验3年以上，擅长零基础入门指导\n",
        "\t•\tClimbAI Lab讲师，强调理论+实践\n",
        "\t•\t目前从事AI研究，希望通过项目式教学帮助更多人掌握AI技能\n",
        "\n",
        "### 🧑‍🎓 关于你\n",
        "\n",
        "\t•\t你是否接触过编程？\n",
        "\t•\t为何报名这节课？\n",
        "\t•\t未来的学习目标是什么？"
      ],
      "metadata": {
        "id": "buruHv9hZHgY"
      }
    },
    {
      "cell_type": "markdown",
      "source": [
        "## 🔤 Part 1: 打印你的第一个程序"
      ],
      "metadata": {
        "id": "KpvXlgMnZaFc"
      }
    },
    {
      "cell_type": "code",
      "source": [
        "print(\"Hello world!\")"
      ],
      "metadata": {
        "colab": {
          "base_uri": "https://localhost:8080/"
        },
        "id": "Hcz_n1uLZcqi",
        "outputId": "610c3219-c554-4380-d23d-3ca80fc5d031"
      },
      "execution_count": 1,
      "outputs": [
        {
          "output_type": "stream",
          "name": "stdout",
          "text": [
            "Hello world!\n"
          ]
        }
      ]
    },
    {
      "cell_type": "markdown",
      "source": [
        "- 函数 （Function）\n",
        "- 参数 （Parameter）"
      ],
      "metadata": {
        "id": "seaca-etZhEm"
      }
    },
    {
      "cell_type": "markdown",
      "source": [
        "## 🧮 Part 2: 变量与数据类型"
      ],
      "metadata": {
        "id": "NQCVEyGbZpHt"
      }
    },
    {
      "cell_type": "code",
      "source": [
        "paper_title = \"跨国历史\"\n",
        "paper_number = 10\n",
        "repeat_rate = 0.4\n",
        "is_new = True"
      ],
      "metadata": {
        "id": "ImTndALekUp9"
      },
      "execution_count": 2,
      "outputs": []
    },
    {
      "cell_type": "code",
      "source": [
        "name = \"Alice\"\n",
        "age = 25\n",
        "height = 1.68\n",
        "is_student = True"
      ],
      "metadata": {
        "id": "ibdg3zYMZq41"
      },
      "execution_count": 3,
      "outputs": []
    },
    {
      "cell_type": "code",
      "source": [
        "paper_title"
      ],
      "metadata": {
        "colab": {
          "base_uri": "https://localhost:8080/",
          "height": 35
        },
        "id": "XwoXhw89_-eF",
        "outputId": "f9801d7e-fa87-4ed4-ef0a-c31565a88792"
      },
      "execution_count": 4,
      "outputs": [
        {
          "output_type": "execute_result",
          "data": {
            "text/plain": [
              "'跨国历史'"
            ],
            "application/vnd.google.colaboratory.intrinsic+json": {
              "type": "string"
            }
          },
          "metadata": {},
          "execution_count": 4
        }
      ]
    },
    {
      "cell_type": "code",
      "source": [
        "name"
      ],
      "metadata": {
        "colab": {
          "base_uri": "https://localhost:8080/",
          "height": 35
        },
        "id": "CBUterNGAAU-",
        "outputId": "b820d1fe-8af4-49cd-b9f4-30028077b294"
      },
      "execution_count": 5,
      "outputs": [
        {
          "output_type": "execute_result",
          "data": {
            "text/plain": [
              "'Alice'"
            ],
            "application/vnd.google.colaboratory.intrinsic+json": {
              "type": "string"
            }
          },
          "metadata": {},
          "execution_count": 5
        }
      ]
    },
    {
      "cell_type": "code",
      "source": [
        "name = \"跨国历史\"\n",
        "name"
      ],
      "metadata": {
        "colab": {
          "base_uri": "https://localhost:8080/",
          "height": 35
        },
        "id": "qY3EYnxgABKp",
        "outputId": "29d53b1b-78e7-4e9f-faf2-0999b9cd8d5e"
      },
      "execution_count": 6,
      "outputs": [
        {
          "output_type": "execute_result",
          "data": {
            "text/plain": [
              "'跨国历史'"
            ],
            "application/vnd.google.colaboratory.intrinsic+json": {
              "type": "string"
            }
          },
          "metadata": {},
          "execution_count": 6
        }
      ]
    },
    {
      "cell_type": "code",
      "source": [
        "print(paper_title, paper_number, repeat_rate, is_new)"
      ],
      "metadata": {
        "colab": {
          "base_uri": "https://localhost:8080/"
        },
        "id": "oc_TjuraZsi8",
        "outputId": "adfba007-beab-40ea-9518-a1ed93b592fc"
      },
      "execution_count": 7,
      "outputs": [
        {
          "output_type": "stream",
          "name": "stdout",
          "text": [
            "跨国历史 10 0.4 True\n"
          ]
        }
      ]
    },
    {
      "cell_type": "code",
      "source": [
        "print(type(height))       # 字符串 str (string), int (1, 2, 3 100), float 3.1415926"
      ],
      "metadata": {
        "colab": {
          "base_uri": "https://localhost:8080/"
        },
        "id": "b7c0J9BuZuAx",
        "outputId": "b7b5865f-fc5d-489d-d3d3-af103e3d3d89"
      },
      "execution_count": 8,
      "outputs": [
        {
          "output_type": "stream",
          "name": "stdout",
          "text": [
            "<class 'float'>\n"
          ]
        }
      ]
    },
    {
      "cell_type": "code",
      "source": [
        "print(type(is_student)) # 布尔值 bool"
      ],
      "metadata": {
        "colab": {
          "base_uri": "https://localhost:8080/"
        },
        "id": "lEjzJVvkZva1",
        "outputId": "4fcfb5aa-ab8c-4b0d-80ab-e81a74cb5637"
      },
      "execution_count": 9,
      "outputs": [
        {
          "output_type": "stream",
          "name": "stdout",
          "text": [
            "<class 'bool'>\n"
          ]
        }
      ]
    },
    {
      "cell_type": "markdown",
      "source": [
        "- 什么是变量：用于存储信息\n",
        "- 常见类型：字符串、整数、浮点数、布尔值"
      ],
      "metadata": {
        "id": "kITHuswlZx-G"
      }
    },
    {
      "cell_type": "markdown",
      "source": [
        "## 🔁 Part 3: 列表 & 循环"
      ],
      "metadata": {
        "id": "NfLyBlXWZ35v"
      }
    },
    {
      "cell_type": "code",
      "source": [
        "names = [\"Alice\", \"John\", \"May\"] # list"
      ],
      "metadata": {
        "id": "O48m9QpzZ3ea"
      },
      "execution_count": 21,
      "outputs": []
    },
    {
      "cell_type": "code",
      "source": [
        "name_dic = {\"Alice\": 1, \"John\": 2, \"May\": 3}"
      ],
      "metadata": {
        "id": "Pi7i93ffASl4"
      },
      "execution_count": 13,
      "outputs": []
    },
    {
      "cell_type": "code",
      "source": [
        "name_dic.get('May')"
      ],
      "metadata": {
        "colab": {
          "base_uri": "https://localhost:8080/"
        },
        "id": "eSVoXOsgAjO4",
        "outputId": "4a5365ff-13c3-41f7-cd9e-b8144f329b35"
      },
      "execution_count": 14,
      "outputs": [
        {
          "output_type": "execute_result",
          "data": {
            "text/plain": [
              "3"
            ]
          },
          "metadata": {},
          "execution_count": 14
        }
      ]
    },
    {
      "cell_type": "code",
      "source": [
        "name_dic['May']"
      ],
      "metadata": {
        "colab": {
          "base_uri": "https://localhost:8080/"
        },
        "id": "2eFcdZ6wArYE",
        "outputId": "c1420617-e88d-49b3-8736-9021a1e13ec3"
      },
      "execution_count": 15,
      "outputs": [
        {
          "output_type": "execute_result",
          "data": {
            "text/plain": [
              "3"
            ]
          },
          "metadata": {},
          "execution_count": 15
        }
      ]
    },
    {
      "cell_type": "code",
      "source": [
        "names[1]"
      ],
      "metadata": {
        "colab": {
          "base_uri": "https://localhost:8080/",
          "height": 35
        },
        "id": "sLGnHOSLAu5F",
        "outputId": "9a2a6f42-b616-492b-b245-61452cf1e30a"
      },
      "execution_count": 16,
      "outputs": [
        {
          "output_type": "execute_result",
          "data": {
            "text/plain": [
              "'John'"
            ],
            "application/vnd.google.colaboratory.intrinsic+json": {
              "type": "string"
            }
          },
          "metadata": {},
          "execution_count": 16
        }
      ]
    },
    {
      "cell_type": "code",
      "source": [
        "names = [\"Alice\", True, \"May\", 3.14]"
      ],
      "metadata": {
        "id": "hLhD_0_hAy26"
      },
      "execution_count": 17,
      "outputs": []
    },
    {
      "cell_type": "markdown",
      "source": [
        "for [item] in [list_name]:\n",
        "logic"
      ],
      "metadata": {
        "id": "ck0ch8v5lT_7"
      }
    },
    {
      "cell_type": "code",
      "source": [
        "set([91, 1, 23, 1])"
      ],
      "metadata": {
        "colab": {
          "base_uri": "https://localhost:8080/"
        },
        "id": "Kyg9wxwUA6BO",
        "outputId": "d4060ab6-8afe-4eac-8889-0595206c6b1b"
      },
      "execution_count": 20,
      "outputs": [
        {
          "output_type": "execute_result",
          "data": {
            "text/plain": [
              "{1, 23, 91}"
            ]
          },
          "metadata": {},
          "execution_count": 20
        }
      ]
    },
    {
      "cell_type": "code",
      "source": [
        "for name in names: # loop\n",
        "    print(\"姓名:\", name)"
      ],
      "metadata": {
        "colab": {
          "base_uri": "https://localhost:8080/"
        },
        "id": "IuCfeAJYZ60_",
        "outputId": "3013262b-57a0-44b3-a05e-49e23bc444e5"
      },
      "execution_count": 22,
      "outputs": [
        {
          "output_type": "stream",
          "name": "stdout",
          "text": [
            "姓名: Alice\n",
            "姓名: John\n",
            "姓名: May\n"
          ]
        }
      ]
    },
    {
      "cell_type": "markdown",
      "source": [
        "- 列表（List）：可以存储多个值\n",
        "- for 循环（Loop）：逐个访问列表中的元素"
      ],
      "metadata": {
        "id": "NsHMclqGZ8ZR"
      }
    },
    {
      "cell_type": "markdown",
      "source": [
        "## 🧠 Part 4: 条件判断 If-Else"
      ],
      "metadata": {
        "id": "l5SLasckaD8J"
      }
    },
    {
      "cell_type": "code",
      "source": [
        "score = 30"
      ],
      "metadata": {
        "id": "W8qc1YoUaGqT"
      },
      "execution_count": 29,
      "outputs": []
    },
    {
      "cell_type": "code",
      "source": [
        "score"
      ],
      "metadata": {
        "colab": {
          "base_uri": "https://localhost:8080/"
        },
        "id": "Y71GPQvUBhkd",
        "outputId": "f6747d51-a808-401d-fbcd-b2420115eeba"
      },
      "execution_count": 31,
      "outputs": [
        {
          "output_type": "execute_result",
          "data": {
            "text/plain": [
              "30"
            ]
          },
          "metadata": {},
          "execution_count": 31
        }
      ]
    },
    {
      "cell_type": "code",
      "source": [
        "score >= 90"
      ],
      "metadata": {
        "colab": {
          "base_uri": "https://localhost:8080/"
        },
        "id": "ErF8KlmiBkM9",
        "outputId": "1240c4fb-8c97-428d-e6c3-851462bcd030"
      },
      "execution_count": 32,
      "outputs": [
        {
          "output_type": "execute_result",
          "data": {
            "text/plain": [
              "False"
            ]
          },
          "metadata": {},
          "execution_count": 32
        }
      ]
    },
    {
      "cell_type": "code",
      "source": [
        "score < 100"
      ],
      "metadata": {
        "colab": {
          "base_uri": "https://localhost:8080/"
        },
        "id": "Zg5K6HAmBl1x",
        "outputId": "a0167d3c-4d2c-4962-ce62-c39baab02b84"
      },
      "execution_count": 33,
      "outputs": [
        {
          "output_type": "execute_result",
          "data": {
            "text/plain": [
              "True"
            ]
          },
          "metadata": {},
          "execution_count": 33
        }
      ]
    },
    {
      "cell_type": "code",
      "source": [
        "bool_T = True\n",
        "bool_F = False"
      ],
      "metadata": {
        "id": "f6fR8l6jBqI7"
      },
      "execution_count": 35,
      "outputs": []
    },
    {
      "cell_type": "code",
      "source": [
        "bool_T and bool_F # at least 1 False --> False"
      ],
      "metadata": {
        "colab": {
          "base_uri": "https://localhost:8080/"
        },
        "id": "ESg-PrYXB3_X",
        "outputId": "2ed4e271-029a-4e0d-97ca-cd210490f88d"
      },
      "execution_count": 36,
      "outputs": [
        {
          "output_type": "execute_result",
          "data": {
            "text/plain": [
              "False"
            ]
          },
          "metadata": {},
          "execution_count": 36
        }
      ]
    },
    {
      "cell_type": "code",
      "source": [
        "bool_T and bool_T"
      ],
      "metadata": {
        "colab": {
          "base_uri": "https://localhost:8080/"
        },
        "id": "Ia1DWOx2B8Nd",
        "outputId": "6ddaf0d8-70f9-4336-8310-bfa3e085b433"
      },
      "execution_count": 37,
      "outputs": [
        {
          "output_type": "execute_result",
          "data": {
            "text/plain": [
              "True"
            ]
          },
          "metadata": {},
          "execution_count": 37
        }
      ]
    },
    {
      "cell_type": "code",
      "source": [
        "bool_T or bool_F # at least 1 True --> True"
      ],
      "metadata": {
        "colab": {
          "base_uri": "https://localhost:8080/"
        },
        "id": "kpqpkk4aCCnl",
        "outputId": "afd802ed-48d2-4043-9341-ea8b33a57c3a"
      },
      "execution_count": 38,
      "outputs": [
        {
          "output_type": "execute_result",
          "data": {
            "text/plain": [
              "True"
            ]
          },
          "metadata": {},
          "execution_count": 38
        }
      ]
    },
    {
      "cell_type": "code",
      "source": [
        "bool_F or bool_F"
      ],
      "metadata": {
        "colab": {
          "base_uri": "https://localhost:8080/"
        },
        "id": "OG_ZgQXUCGJm",
        "outputId": "4d80f293-7b88-4f25-bb7a-e51381e9181f"
      },
      "execution_count": 39,
      "outputs": [
        {
          "output_type": "execute_result",
          "data": {
            "text/plain": [
              "False"
            ]
          },
          "metadata": {},
          "execution_count": 39
        }
      ]
    },
    {
      "cell_type": "code",
      "source": [
        "if score >= 90 or score < 100: # False OR True --> True\n",
        "    print(\"优秀！\")\n",
        "elif score >= 60:\n",
        "    print(\"通过！\")\n",
        "elif score < 40:\n",
        "  print(\"No 通过！\")\n",
        "else:\n",
        "    print(\"再试一次。\")"
      ],
      "metadata": {
        "colab": {
          "base_uri": "https://localhost:8080/"
        },
        "id": "Fke04ZlRaF6Y",
        "outputId": "e954aa90-58da-4073-b5bf-89705d58ff93"
      },
      "execution_count": 30,
      "outputs": [
        {
          "output_type": "stream",
          "name": "stdout",
          "text": [
            "优秀！\n"
          ]
        }
      ]
    },
    {
      "cell_type": "markdown",
      "source": [
        "- if 判断条件\n",
        "- 使用逻辑符号：>=, <, and, or"
      ],
      "metadata": {
        "id": "TPmUc4G8aJFy"
      }
    },
    {
      "cell_type": "markdown",
      "source": [
        "## ⚙️ Part 5: 函数与BMI计算器"
      ],
      "metadata": {
        "id": "S5l5Md4IaMwJ"
      }
    },
    {
      "cell_type": "markdown",
      "source": [
        "val --> def, return"
      ],
      "metadata": {
        "id": "x3DKDKdaCUQb"
      }
    },
    {
      "cell_type": "code",
      "source": [
        "def bmi(weight, height):\n",
        "    return weight / (height ** 2) # +, -, *, /, **"
      ],
      "metadata": {
        "id": "wo3eKKjvaOz9"
      },
      "execution_count": 41,
      "outputs": []
    },
    {
      "cell_type": "code",
      "source": [
        "weight = 60\n",
        "height = 1.68"
      ],
      "metadata": {
        "id": "zU7BWHLFm1Dt"
      },
      "execution_count": 42,
      "outputs": []
    },
    {
      "cell_type": "code",
      "source": [
        "bmi(weight, height)"
      ],
      "metadata": {
        "colab": {
          "base_uri": "https://localhost:8080/"
        },
        "id": "6ZP_JLxjmzx5",
        "outputId": "20d27700-361a-4ead-e709-c48e53adf873"
      },
      "execution_count": 43,
      "outputs": [
        {
          "output_type": "execute_result",
          "data": {
            "text/plain": [
              "21.258503401360546"
            ]
          },
          "metadata": {},
          "execution_count": 43
        }
      ]
    },
    {
      "cell_type": "code",
      "source": [
        "import math"
      ],
      "metadata": {
        "id": "YWIxse0VCxZT"
      },
      "execution_count": 44,
      "outputs": []
    },
    {
      "cell_type": "code",
      "source": [
        "math.floor(2.3)"
      ],
      "metadata": {
        "colab": {
          "base_uri": "https://localhost:8080/"
        },
        "id": "3F4Lv9swCzBQ",
        "outputId": "4bbb90fb-e25d-43fc-a699-c733baeeee8f"
      },
      "execution_count": 45,
      "outputs": [
        {
          "output_type": "execute_result",
          "data": {
            "text/plain": [
              "2"
            ]
          },
          "metadata": {},
          "execution_count": 45
        }
      ]
    },
    {
      "cell_type": "code",
      "source": [
        "bmi(60, 1.68)"
      ],
      "metadata": {
        "colab": {
          "base_uri": "https://localhost:8080/"
        },
        "id": "BxoGPEN5mxSG",
        "outputId": "e3e2cdac-21e5-47fb-8242-a2ade0a8f84b"
      },
      "execution_count": null,
      "outputs": [
        {
          "output_type": "execute_result",
          "data": {
            "text/plain": [
              "21.258503401360546"
            ]
          },
          "metadata": {},
          "execution_count": 39
        }
      ]
    },
    {
      "cell_type": "code",
      "source": [
        "print(bmi(60, 1.68))"
      ],
      "metadata": {
        "colab": {
          "base_uri": "https://localhost:8080/"
        },
        "id": "Bb32rbwjaQKh",
        "outputId": "451b2318-e338-407b-9623-c85a7c50b82e"
      },
      "execution_count": null,
      "outputs": [
        {
          "output_type": "stream",
          "name": "stdout",
          "text": [
            "21.258503401360546\n"
          ]
        }
      ]
    },
    {
      "cell_type": "markdown",
      "source": [
        "- def 定义函数\n",
        "- 参数 vs 返回值\n",
        "- 示例：体重60kg，身高1.68m 计算BMI"
      ],
      "metadata": {
        "id": "L4mlCQHTaRwM"
      }
    },
    {
      "cell_type": "markdown",
      "source": [
        "## 🧱 Part 6: 初识面向对象编程 OOP"
      ],
      "metadata": {
        "id": "f9kPhEDFaXTa"
      }
    },
    {
      "cell_type": "code",
      "source": [
        "class Person:\n",
        "    def __init__(self, name, age):\n",
        "        self.name = name\n",
        "        self.age = age\n",
        "\n",
        "    def greet(self):\n",
        "        print(f\"嗨，我是 {self.name}，我今年 {self.age} 岁。\")"
      ],
      "metadata": {
        "id": "XBTXfRYYaY_e"
      },
      "execution_count": 46,
      "outputs": []
    },
    {
      "cell_type": "code",
      "source": [
        "p1 = Person(\"Alice\", 25)"
      ],
      "metadata": {
        "id": "ypO20hoKaaWe"
      },
      "execution_count": 47,
      "outputs": []
    },
    {
      "cell_type": "code",
      "source": [
        "p1.greet()"
      ],
      "metadata": {
        "id": "Z01av83YabxU",
        "colab": {
          "base_uri": "https://localhost:8080/"
        },
        "outputId": "d0a57a54-1cca-42c0-acc3-afa1e6ee28e2"
      },
      "execution_count": 48,
      "outputs": [
        {
          "output_type": "stream",
          "name": "stdout",
          "text": [
            "嗨，我是 Alice，我今年 25 岁。\n"
          ]
        }
      ]
    },
    {
      "cell_type": "markdown",
      "source": [
        "- class 是模版，创建真实对象\n",
        "- __init__ 是初始化方法\n",
        "- self 指的是对象自己\n",
        "- p1 是实例，调用方法 greet()"
      ],
      "metadata": {
        "id": "0evXHbQ4adah"
      }
    },
    {
      "cell_type": "markdown",
      "source": [
        "## 🧰 Bonus: 简单计算器类"
      ],
      "metadata": {
        "id": "XM_dmKFQaj6t"
      }
    },
    {
      "cell_type": "code",
      "source": [
        "class Calculator:\n",
        "    def add(self, a, b):\n",
        "        return a + b\n",
        "    # - , * , /"
      ],
      "metadata": {
        "id": "y47um0m6alWH"
      },
      "execution_count": null,
      "outputs": []
    },
    {
      "cell_type": "markdown",
      "source": [
        "- 如果我再加一个乘法方法，怎么写？"
      ],
      "metadata": {
        "id": "0cNhcTBPanDO"
      }
    },
    {
      "cell_type": "markdown",
      "source": [
        "## ✅ 课程小结\n",
        "\n",
        "\t•\t如何编写第一个程序\n",
        "\t•\t变量、类型、列表、循环、条件判断、函数\n",
        "\t•\t面向对象编程OOP的基本概念"
      ],
      "metadata": {
        "id": "a-iaXO5kY1_T"
      }
    }
  ]
}