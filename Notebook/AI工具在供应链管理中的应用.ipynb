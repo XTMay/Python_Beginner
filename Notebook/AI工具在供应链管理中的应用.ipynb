{
  "nbformat": 4,
  "nbformat_minor": 0,
  "metadata": {
    "colab": {
      "provenance": [],
      "collapsed_sections": [
        "-WEhRrwWpVJX",
        "RJWdr9MFqETD",
        "Dpwpw6vbqdoc",
        "zBPPbZPYqrcA",
        "ixcM-8lXq-tX"
      ],
      "authorship_tag": "ABX9TyMbjrg/J8Rb49QD8HbdTMqi",
      "include_colab_link": true
    },
    "kernelspec": {
      "name": "python3",
      "display_name": "Python 3"
    },
    "language_info": {
      "name": "python"
    }
  },
  "cells": [
    {
      "cell_type": "markdown",
      "metadata": {
        "id": "view-in-github",
        "colab_type": "text"
      },
      "source": [
        "<a href=\"https://colab.research.google.com/github/XTMay/Python_Beginner/blob/main/Notebook/AI%E5%B7%A5%E5%85%B7%E5%9C%A8%E4%BE%9B%E5%BA%94%E9%93%BE%E7%AE%A1%E7%90%86%E4%B8%AD%E7%9A%84%E5%BA%94%E7%94%A8.ipynb\" target=\"_parent\"><img src=\"https://colab.research.google.com/assets/colab-badge.svg\" alt=\"Open In Colab\"/></a>"
      ]
    },
    {
      "cell_type": "markdown",
      "source": [
        "# AI工具在供应链管理中的应用 - 体验课程"
      ],
      "metadata": {
        "id": "grrnNI7t1f7a"
      }
    },
    {
      "cell_type": "markdown",
      "source": [
        "## 自我介绍"
      ],
      "metadata": {
        "id": "1lFEmL0Ut4Lb"
      }
    },
    {
      "cell_type": "markdown",
      "source": [
        "### 🧑‍🏫 May\n",
        "\n",
        "- 9+年系统开发工程师 🇨🇳🇯🇵🇺🇸\n",
        "- ClimbAI Lab 讲师\n",
        "- 3+年教学经验\n",
        "- 强调理论 + 实践\n",
        "- 认知科学AI研究"
      ],
      "metadata": {
        "id": "OMivZEUjt8Gt"
      }
    },
    {
      "cell_type": "markdown",
      "source": [
        "## 🧑‍🎓 关于你\n",
        "- 报名课程目的，想学习的内容\n",
        "- 编程经验，工具使用，常用AI工具\n",
        "- 对AI的了解，如机器学习（Machine Learning），深度学习（Deep Learning），自然语言处理（NLP），大语言模型（LLM）等\n",
        "- 通过课程最终想实现的目标"
      ],
      "metadata": {
        "id": "i38WIsc5uiHw"
      }
    },
    {
      "cell_type": "markdown",
      "source": [
        "## 环境准备\n",
        "\n",
        "首先安装必要的库并设置API密钥："
      ],
      "metadata": {
        "id": "fT9XUt53ojg6"
      }
    },
    {
      "cell_type": "code",
      "source": [
        "# 安装必要的库\n",
        "!pip install anthropic pandas numpy matplotlib seaborn\n",
        "\n",
        "import anthropic\n",
        "import pandas as pd\n",
        "import numpy as np\n",
        "import matplotlib.pyplot as plt\n",
        "import json\n",
        "from datetime import datetime, timedelta\n",
        "import warnings\n",
        "warnings.filterwarnings('ignore')\n",
        "\n",
        "# 设置中文字体\n",
        "plt.rcParams['font.sans-serif'] = ['SimHei']\n",
        "plt.rcParams['axes.unicode_minus'] = False\n",
        "\n",
        "# 设置Claude API\n",
        "client = anthropic.Anthropic(\n",
        "    api_key=\"\"  # 请替换为你的API密钥\n",
        ")\n",
        "\n",
        "print(\"环境设置完成！\")"
      ],
      "metadata": {
        "id": "ZrEra_ZoolVF"
      },
      "execution_count": null,
      "outputs": []
    },
    {
      "cell_type": "code",
      "source": [],
      "metadata": {
        "id": "L-75MPsm44Yz"
      },
      "execution_count": null,
      "outputs": []
    },
    {
      "cell_type": "markdown",
      "source": [
        "\n",
        "## 第一部分：Prompt Engineering基础\n",
        "\n",
        "### 概念介绍\n",
        "\n",
        "**Prompt Engineering** 是与AI模型有效沟通的艺术和科学。在供应链管理中，好的prompt能让AI准确理解你的需求并给出专业的回答。\n"
      ],
      "metadata": {
        "id": "-WEhRrwWpVJX"
      }
    },
    {
      "cell_type": "markdown",
      "source": [
        "### 核心原则\n",
        "\n",
        "1. **角色定位** - 让AI扮演合适的专家角色\n",
        "2. **任务明确** - 清楚说明要完成什么任务\n",
        "3. **上下文丰富** - 提供足够的背景信息\n",
        "4. **输出结构** - 指定期望的回答格式"
      ],
      "metadata": {
        "id": "fkOZQHippW6Z"
      }
    },
    {
      "cell_type": "markdown",
      "source": [
        "### 实战对比：不同Prompt的效果差异"
      ],
      "metadata": {
        "id": "juO-_gUqpYwL"
      }
    },
    {
      "cell_type": "code",
      "source": [
        "def call_claude(prompt, max_tokens=1000):\n",
        "    \"\"\"调用Claude API\"\"\"\n",
        "    try:\n",
        "        message = client.messages.create(\n",
        "            model=\"claude-3-5-sonnet-20241022\",\n",
        "            max_tokens=max_tokens,\n",
        "            messages=[{\"role\": \"user\", \"content\": prompt}]\n",
        "        )\n",
        "        return message.content[0].text\n",
        "    except Exception as e:\n",
        "        return f\"错误: {str(e)}\""
      ],
      "metadata": {
        "id": "AwZS3dcRpdct"
      },
      "execution_count": 63,
      "outputs": []
    },
    {
      "cell_type": "code",
      "source": [
        "# 示例邮件内容\n",
        "sample_email = \"\"\"\n",
        "Subject: Urgent - Copper Price Increase Notice\n",
        "\n",
        "Dear Josie,\n",
        "\n",
        "Hope this email finds you well. Due to the recent surge in global copper prices and supply chain disruptions, we regret to inform you that we need to implement a price adjustment of 8% for all copper-related materials, effective from November 1st, 2024.\n",
        "\n",
        "This decision was not made lightly, and we've absorbed cost increases for the past six months. However, the current market conditions make this adjustment necessary to maintain our service quality and business sustainability.\n",
        "\n",
        "We value our long-term partnership and are open to discussing alternative arrangements or volume-based discounts for future orders.\n",
        "\n",
        "Please let us know your thoughts and how you'd like to proceed.\n",
        "\n",
        "Best regards,\n",
        "Mike Chen\n",
        "ABC Copper Solutions\n",
        "\"\"\""
      ],
      "metadata": {
        "id": "Um7vnKWMpboC"
      },
      "execution_count": 64,
      "outputs": []
    },
    {
      "cell_type": "code",
      "source": [
        "print(\"邮件内容准备完成，接下来我们将演示不同Prompt的效果\")"
      ],
      "metadata": {
        "colab": {
          "base_uri": "https://localhost:8080/"
        },
        "id": "9U7KtY4Fphy1",
        "outputId": "c57d061e-67b8-4b39-ed57-494fdce39349"
      },
      "execution_count": 65,
      "outputs": [
        {
          "output_type": "stream",
          "name": "stdout",
          "text": [
            "邮件内容准备完成，接下来我们将演示不同Prompt的效果\n"
          ]
        }
      ]
    },
    {
      "cell_type": "markdown",
      "source": [
        "#### 演示1：基础Prompt vs 专业Prompt"
      ],
      "metadata": {
        "id": "znx43zNiplDL"
      }
    },
    {
      "cell_type": "code",
      "source": [
        "# 基础Prompt - 模糊且缺乏专业性\n",
        "basic_prompt = f\"分析这封邮件：\\n\\n{sample_email}\"\n",
        "\n",
        "# 专业Prompt - 角色明确，任务具体\n",
        "professional_prompt = f\"\"\"\n",
        "你是一位经验丰富的供应链经理，请分析以下供应商邮件。\n",
        "\n",
        "邮件内容：\n",
        "{sample_email}\n",
        "\n",
        "请从以下角度进行专业分析：\n",
        "1. 关键信息提取（价格、时间、原因）\n",
        "2. 供应商策略分析\n",
        "3. 对我方业务的影响评估\n",
        "4. 建议的应对措施\n",
        "5. 谈判要点识别\n",
        "\n",
        "请用结构化的方式呈现分析结果。\n",
        "\"\"\""
      ],
      "metadata": {
        "id": "KpD8RWZMpoV8"
      },
      "execution_count": 66,
      "outputs": []
    },
    {
      "cell_type": "code",
      "source": [
        "print(\"=== 基础Prompt结果 ===\")\n",
        "basic_result = call_claude(basic_prompt)\n",
        "print(basic_result)"
      ],
      "metadata": {
        "colab": {
          "base_uri": "https://localhost:8080/"
        },
        "id": "JYinj3zXpsBP",
        "outputId": "6598c93b-72d9-43ed-b0b0-98f983036635"
      },
      "execution_count": 67,
      "outputs": [
        {
          "output_type": "stream",
          "name": "stdout",
          "text": [
            "=== 基础Prompt结果 ===\n",
            "我来分析这封邮件的关键要素：\n",
            "\n",
            "主要内容：\n",
            "- 这是一封价格调整通知邮件,通知铜材料价格将上调8%\n",
            "- 调价原因是全球铜价上涨和供应链中断\n",
            "- 新价格将从2024年11月1日开始生效\n",
            "\n",
            "写作特点：\n",
            "1. 语气专业而委婉：\n",
            "- 开头友好(\"Hope this email finds you well\")\n",
            "- 用\"regret to inform\"表示歉意\n",
            "- 强调这是经过慎重考虑的决定\n",
            "\n",
            "2. 合理性解释：\n",
            "- 提到公司已经承担了6个月的成本上涨\n",
            "- 解释这是为了维持服务质量和业务可持续性\n",
            "\n",
            "3. 灵活性处理：\n",
            "- 表示愿意讨论其他方案\n",
            "- 提供批量订单折扣的可能性\n",
            "\n",
            "4. 专业格式：\n",
            "- 清晰的主题行标明紧急性和内容\n",
            "- 规范的商务信函格式\n",
            "- 完整的签名信息\n",
            "\n",
            "沟通策略：\n",
            "- 提前通知给予客户准备时间\n",
            "- 保持透明度解释涨价原因\n",
            "- 展现灵活性维护客户关系\n",
            "- 为进一步沟通留有余地\n",
            "\n",
            "这是一封措辞专业、态度得当的商务涨价通知。\n"
          ]
        }
      ]
    },
    {
      "cell_type": "code",
      "source": [
        "print(\"\\n\" + \"=\"*50)\n",
        "print(\"=== 专业Prompt结果 ===\")\n",
        "professional_result = call_claude(professional_prompt)\n",
        "print(professional_result)"
      ],
      "metadata": {
        "colab": {
          "base_uri": "https://localhost:8080/"
        },
        "id": "oJcH9KYlptcH",
        "outputId": "f8caae65-6f4b-4e57-ad65-8c18838f4fc0"
      },
      "execution_count": 68,
      "outputs": [
        {
          "output_type": "stream",
          "name": "stdout",
          "text": [
            "\n",
            "==================================================\n",
            "=== 专业Prompt结果 ===\n",
            "作为供应链经理，我针对这封邮件进行如下分析：\n",
            "\n",
            "1. 关键信息提取\n",
            "- 涨价幅度：8%\n",
            "- 生效时间：2024年11月1日\n",
            "- 涨价原因：\n",
            "  * 全球铜价上涨\n",
            "  * 供应链中断\n",
            "  * 供应商已承担6个月成本上涨\n",
            "\n",
            "2. 供应商策略分析\n",
            "- 时机选择：提前通知，给予缓冲期\n",
            "- 沟通方式：\n",
            "  * 强调不得已性\n",
            "  * 展现诚意（提及已吸收6个月成本）\n",
            "  * 保持谈判空间（提出替代方案可能）\n",
            "- 策略意图：通过volume discount暗示希望锁定更多订单\n",
            "\n",
            "3. 业务影响评估\n",
            "- 直接影响：\n",
            "  * 原材料成本上升\n",
            "  * 产品毛利率下降\n",
            "- 潜在影响：\n",
            "  * 可能需要调整产品定价\n",
            "  * 可能影响市场竞争力\n",
            "  * 现有合同执行成本增加\n",
            "\n",
            "4. 建议应对措施\n",
            "短期措施：\n",
            "- 立即评估库存状况\n",
            "- 在涨价前提前备货\n",
            "- 检查现有合同中的价格调整条款\n",
            "\n",
            "中长期措施：\n",
            "- 开发备选供应商\n",
            "- 评估替代材料可能性\n",
            "- 优化产品设计减少铜材使用\n",
            "- 考虑与客户协商调价\n",
            "\n",
            "5. 谈判要点识别\n",
            "关键议题：\n",
            "- 涨价幅度的合理性证明\n",
            "- 实施时间表的灵活性\n",
            "- 阶梯式价格方案\n",
            "- 长期供货保障\n",
            "\n",
            "谈判筹码：\n",
            "- 历史采购量\n",
            "- 付款条件优化\n",
            "- 最低采购承诺换取价格优惠\n",
            "- 寻求更长的价格锁定期\n",
            "\n",
            "建议谈判策略：\n",
            "1. 要求提供详细的成本分析数据\n",
            "2. 提出分步调价方案\n",
            "3. 以增加采购量为条件争取更优惠的价格\n",
            "4. 商讨库存优化方案降低总成本\n",
            "\n",
            "整体建议：\n",
            "采取积极但务实的应对方式，在认可市场变化的同时，通过多维度谈判争取最优条件，同时加快供应链优化以增强风险应对能力。\n"
          ]
        }
      ]
    },
    {
      "cell_type": "markdown",
      "source": [
        "#### 演示2：不同输出格式的对比"
      ],
      "metadata": {
        "id": "AIx-NESepv-W"
      }
    },
    {
      "cell_type": "code",
      "source": [
        "# JSON格式输出Prompt\n",
        "json_prompt = f\"\"\"\n",
        "作为供应链专家，请分析以下邮件并以JSON格式输出结果：\n",
        "\n",
        "邮件内容：\n",
        "{sample_email}\n",
        "\n",
        "请返回JSON格式，包含以下字段：\n",
        "{{\n",
        "    \"summary\": \"邮件摘要\",\n",
        "    \"key_points\": {{\n",
        "        \"price_change\": \"价格变动信息\",\n",
        "        \"effective_date\": \"生效日期\",\n",
        "        \"reason\": \"涨价原因\"\n",
        "    }},\n",
        "    \"impact_level\": \"影响等级(高/中/低)\",\n",
        "    \"recommended_actions\": [\"行动建议1\", \"行动建议2\", \"...\"],\n",
        "    \"negotiation_points\": [\"谈判要点1\", \"谈判要点2\", \"...\"]\n",
        "}}\n",
        "\"\"\""
      ],
      "metadata": {
        "id": "binC99mwpyIZ"
      },
      "execution_count": 69,
      "outputs": []
    },
    {
      "cell_type": "code",
      "source": [
        "print(\"=== JSON格式输出 ===\")\n",
        "json_result = call_claude(json_prompt)\n",
        "print(json_result)\n",
        "\n",
        "# 尝试解析JSON结果\n",
        "try:\n",
        "    parsed_result = json.loads(json_result)\n",
        "    print(\"\\n=== 解析后的结构化数据 ===\")\n",
        "    for key, value in parsed_result.items():\n",
        "        print(f\"{key}: {value}\")\n",
        "except:\n",
        "    print(\"JSON格式解析失败，但输出已经很结构化了\")"
      ],
      "metadata": {
        "colab": {
          "base_uri": "https://localhost:8080/"
        },
        "id": "fsX8wuMop0Fa",
        "outputId": "8768b030-a14b-4d73-be5d-afcac1db061b"
      },
      "execution_count": 70,
      "outputs": [
        {
          "output_type": "stream",
          "name": "stdout",
          "text": [
            "=== JSON格式输出 ===\n",
            "{\n",
            "    \"summary\": \"ABC Copper Solutions通知铜材相关产品价格上调8%\",\n",
            "    \"key_points\": {\n",
            "        \"price_change\": \"上涨8%\",\n",
            "        \"effective_date\": \"2024年11月1日\",\n",
            "        \"reason\": \"全球铜价上涨及供应链中断\"\n",
            "    },\n",
            "    \"impact_level\": \"高\",\n",
            "    \"recommended_actions\": [\n",
            "        \"立即评估现有库存水平\",\n",
            "        \"计算价格调整对成本结构的影响\",\n",
            "        \"考虑提前采购以锁定当前价格\",\n",
            "        \"评估向下游客户转移成本的可能性\",\n",
            "        \"研究替代供应商或替代材料的可能性\"\n",
            "    ],\n",
            "    \"negotiation_points\": [\n",
            "        \"探讨数量折扣方案\",\n",
            "        \"要求提供阶梯式价格调整而非一次性涨价\",\n",
            "        \"商讨延长价格锁定期\",\n",
            "        \"要求提供详细的成本上涨数据支持\",\n",
            "        \"讨论签订长期供货协议以获得更优惠的价格条件\"\n",
            "    ]\n",
            "}\n",
            "\n",
            "=== 解析后的结构化数据 ===\n",
            "summary: ABC Copper Solutions通知铜材相关产品价格上调8%\n",
            "key_points: {'price_change': '上涨8%', 'effective_date': '2024年11月1日', 'reason': '全球铜价上涨及供应链中断'}\n",
            "impact_level: 高\n",
            "recommended_actions: ['立即评估现有库存水平', '计算价格调整对成本结构的影响', '考虑提前采购以锁定当前价格', '评估向下游客户转移成本的可能性', '研究替代供应商或替代材料的可能性']\n",
            "negotiation_points: ['探讨数量折扣方案', '要求提供阶梯式价格调整而非一次性涨价', '商讨延长价格锁定期', '要求提供详细的成本上涨数据支持', '讨论签订长期供货协议以获得更优惠的价格条件']\n"
          ]
        }
      ]
    },
    {
      "cell_type": "markdown",
      "source": [
        "## 第二部分：邮件自动处理系统"
      ],
      "metadata": {
        "id": "oThbDCCGp3go"
      }
    },
    {
      "cell_type": "markdown",
      "source": [
        "### 概念：智能邮件助手\n",
        "\n",
        "通过AI实现邮件的自动分类、总结、回复草稿生成，大大提高工作效率。"
      ],
      "metadata": {
        "id": "ry4VyaYKp4vA"
      }
    },
    {
      "cell_type": "code",
      "source": [
        "class EmailAssistant:\n",
        "    def __init__(self, claude_client):\n",
        "        self.client = claude_client\n",
        "\n",
        "    def summarize_email(self, email_content):\n",
        "        \"\"\"邮件总结功能\"\"\"\n",
        "        prompt = f\"\"\"\n",
        "        作为供应链专业人士的AI助手，请总结以下邮件的核心内容：\n",
        "\n",
        "        邮件内容：\n",
        "        {email_content}\n",
        "\n",
        "        请提供：\n",
        "        1. 一句话摘要\n",
        "        2. 关键数字和日期\n",
        "        3. 需要关注的重点\n",
        "        4. 紧急程度评估（高/中/低）\n",
        "\n",
        "        保持简洁专业。\n",
        "        \"\"\"\n",
        "        return call_claude(prompt)\n",
        "\n",
        "    def generate_reply(self, email_content, reply_tone=\"专业友善\", key_points=[]):\n",
        "        \"\"\"智能回复生成\"\"\"\n",
        "        key_points_str = \"、\".join(key_points) if key_points else \"需要更多信息\"\n",
        "\n",
        "        prompt = f\"\"\"\n",
        "        请帮我起草一封{reply_tone}的商务邮件回复。\n",
        "\n",
        "        原邮件：\n",
        "        {email_content}\n",
        "\n",
        "        回复要点：{key_points_str}\n",
        "\n",
        "        回复要求：\n",
        "        1. 语调{reply_tone}\n",
        "        2. 体现供应链专业性\n",
        "        3. 保持合作态度但保护公司利益\n",
        "        4. 提出合理的问题或要求\n",
        "        5. 使用中文\n",
        "\n",
        "        请生成完整的邮件回复。\n",
        "        \"\"\"\n",
        "        return call_claude(prompt)\n"
      ],
      "metadata": {
        "id": "CiLb7bSJp7fU"
      },
      "execution_count": 71,
      "outputs": []
    },
    {
      "cell_type": "code",
      "source": [
        "# 初始化邮件助手\n",
        "email_assistant = EmailAssistant(client)\n",
        "\n",
        "# 演示邮件总结\n",
        "print(\"=== 邮件智能总结 ===\")\n",
        "summary = email_assistant.summarize_email(sample_email)\n",
        "print(summary)"
      ],
      "metadata": {
        "colab": {
          "base_uri": "https://localhost:8080/"
        },
        "id": "JsDSFzpCp-99",
        "outputId": "ffd81ec8-7f41-4025-ffde-a4500f8c8207"
      },
      "execution_count": 72,
      "outputs": [
        {
          "output_type": "stream",
          "name": "stdout",
          "text": [
            "=== 邮件智能总结 ===\n",
            "以下是邮件内容分析：\n",
            "\n",
            "1. 一句话摘要：\n",
            "供应商发出铜材相关产品价格上调通知，因应全球铜价上涨和供应链中断。\n",
            "\n",
            "2. 关键数字和日期：\n",
            "- 涨价幅度：8%\n",
            "- 生效日期：2024年11月1日\n",
            "- 已吸收成本上涨时间：过去6个月\n",
            "\n",
            "3. 需要关注的重点：\n",
            "- 价格调整的原因：全球铜价上涨+供应链中断\n",
            "- 供应商愿意讨论替代方案\n",
            "- 提供大量订购折扣的可能性\n",
            "- 供应商强调维持服务质量和业务可持续性\n",
            "\n",
            "4. 紧急程度评估：高\n",
            "理由：\n",
            "- 涉及显著成本上涨\n",
            "- 实施日期明确\n",
            "- 需要及时回应以商讨可能的替代方案\n",
            "- 影响未来采购预算和成本控制\n"
          ]
        }
      ]
    },
    {
      "cell_type": "code",
      "source": [
        "# 演示自动回复生成\n",
        "print(\"\\n=== 智能回复生成 ===\")\n",
        "reply = email_assistant.generate_reply(\n",
        "    sample_email,\n",
        "    reply_tone=\"专业但坚定\",\n",
        "    key_points=[\"需要详细的市场数据支持\", \"希望讨论渐进式调价方案\", \"要求提供竞争对手价格对比\"]\n",
        ")\n",
        "print(reply)"
      ],
      "metadata": {
        "colab": {
          "base_uri": "https://localhost:8080/"
        },
        "id": "f3hnu--4qAVe",
        "outputId": "c38bbc48-5432-4bdb-8a24-2ad471c2b3d3"
      },
      "execution_count": 73,
      "outputs": [
        {
          "output_type": "stream",
          "name": "stdout",
          "text": [
            "\n",
            "=== 智能回复生成 ===\n",
            "Subject: Re: Urgent - Copper Price Increase Notice\n",
            "\n",
            "尊敬的 Mike Chen 先生：\n",
            "\n",
            "感谢您的邮件通知。我们理解当前全球铜材市场的波动情况，也感谢贵司过去半年来在成本控制方面所做的努力。作为长期合作伙伴，我们希望就价格调整事宜进行更深入的沟通。\n",
            "\n",
            "关于此次调价提议，我们需要以下补充信息以便进行全面评估：\n",
            "\n",
            "1. 详细的市场数据支持\n",
            "   - 近6个月全球铜材现货价格走势\n",
            "   - 主要铜材交易所的期货价格走势\n",
            "   - 供应链成本增长的具体构成\n",
            "\n",
            "2. 渐进式调价方案建议\n",
            "   - 建议将8%的涨幅分为2-3个阶段实施\n",
            "   - 每个阶段的具体时间节点和幅度\n",
            "   - 相应的价格保护期限\n",
            "\n",
            "3. 市场竞争力分析\n",
            "   - 主要竞争对手的现行价格水平\n",
            "   - 同类产品市场价格区间\n",
            "   - 贵司产品的差异化优势说明\n",
            "\n",
            "基于我司年度预算和成本控制要求，我们建议安排一次线上会议，具体讨论：\n",
            "- 批量订单的优惠方案\n",
            "- 长期合约的价格锁定机制\n",
            "- 供应链优化方案\n",
            "\n",
            "建议会议时间：下周二或周四（您方便的时段）\n",
            "\n",
            "我们珍视与贵司的战略合作关系，相信通过坦诚沟通，一定能够达成互利共赢的解决方案。\n",
            "\n",
            "期待您的回复。\n",
            "\n",
            "顺祝商祺\n",
            "\n",
            "[您的姓名]\n",
            "[职位]\n",
            "[公司名称]\n",
            "[日期]\n"
          ]
        }
      ]
    },
    {
      "cell_type": "markdown",
      "source": [
        "## 第三部分：供应链数据分析\n",
        "\n",
        "### 概念：AI驱动的数据洞察\n",
        "利用AI分析供应链数据，识别趋势、异常和风险，支持决策制定。\n"
      ],
      "metadata": {
        "id": "RJWdr9MFqETD"
      }
    },
    {
      "cell_type": "code",
      "source": [
        "# 生成模拟供应链数据\n",
        "def generate_supply_chain_data():\n",
        "    \"\"\"生成模拟的供应链数据\"\"\"\n",
        "    dates = pd.date_range('2024-01-01', periods=20, freq='W')\n",
        "\n",
        "    # 订单数据\n",
        "    np.random.seed(42)\n",
        "    base_orders = 1200\n",
        "    trend = np.linspace(0, 200, 20)\n",
        "    seasonal = 100 * np.sin(np.linspace(0, 4*np.pi, 20))\n",
        "    noise = np.random.normal(0, 50, 20)\n",
        "    orders = base_orders + trend + seasonal + noise\n",
        "\n",
        "    # 价格数据\n",
        "    base_price = 100\n",
        "    price_trend = np.linspace(0, 15, 20)\n",
        "    price_volatility = np.random.normal(0, 3, 20)\n",
        "    prices = base_price + price_trend + price_volatility\n",
        "\n",
        "    df = pd.DataFrame({\n",
        "        'date': dates,\n",
        "        'orders': orders.astype(int),\n",
        "        'copper_price': prices.round(2),\n",
        "        'week': range(1, 21)\n",
        "    })\n",
        "\n",
        "    return df"
      ],
      "metadata": {
        "id": "XpuXGmFjqIWw"
      },
      "execution_count": 74,
      "outputs": []
    },
    {
      "cell_type": "code",
      "source": [
        "# Generated and display data\n",
        "supply_data = generate_supply_chain_data()\n",
        "print(\"=== 供应链数据概览 ===\")\n",
        "print(supply_data.head(10))\n",
        "\n",
        "# 数据可视化\n",
        "fig, (ax1, ax2) = plt.subplots(1, 2, figsize=(15, 5))\n",
        "\n",
        "# Set font family for all text elements in the plot\n",
        "plt.rcParams['font.family'] = ['SimHei']\n",
        "\n",
        "ax1.plot(supply_data['week'], supply_data['orders'], marker='o')\n",
        "ax1.set_title('Weekly order volume trends')\n",
        "ax1.set_xlabel('Weeks')\n",
        "ax1.set_ylabel('order amount')\n",
        "ax1.grid(True)\n",
        "\n",
        "ax2.plot(supply_data['week'], supply_data['copper_price'], marker='s', color='orange')\n",
        "ax2.set_title('Copper price trends')\n",
        "ax2.set_xlabel('Weeks')\n",
        "ax2.set_ylabel('price (CNY/kg)')\n",
        "ax2.grid(True)\n",
        "\n",
        "plt.tight_layout()\n",
        "plt.show()"
      ],
      "metadata": {
        "colab": {
          "base_uri": "https://localhost:8080/",
          "height": 1000
        },
        "id": "2wjxQ8eyqJ4x",
        "outputId": "98d98f98-c894-414e-cac4-f5f94ddb53bb"
      },
      "execution_count": 75,
      "outputs": [
        {
          "output_type": "stream",
          "name": "stderr",
          "text": [
            "WARNING:matplotlib.font_manager:findfont: Font family 'SimHei' not found.\n",
            "WARNING:matplotlib.font_manager:findfont: Font family 'SimHei' not found.\n",
            "WARNING:matplotlib.font_manager:findfont: Font family 'SimHei' not found.\n",
            "WARNING:matplotlib.font_manager:findfont: Font family 'SimHei' not found.\n",
            "WARNING:matplotlib.font_manager:findfont: Font family 'SimHei' not found.\n",
            "WARNING:matplotlib.font_manager:findfont: Font family 'SimHei' not found.\n",
            "WARNING:matplotlib.font_manager:findfont: Font family 'SimHei' not found.\n",
            "WARNING:matplotlib.font_manager:findfont: Font family 'SimHei' not found.\n",
            "WARNING:matplotlib.font_manager:findfont: Font family 'SimHei' not found.\n",
            "WARNING:matplotlib.font_manager:findfont: Font family 'SimHei' not found.\n",
            "WARNING:matplotlib.font_manager:findfont: Font family 'SimHei' not found.\n",
            "WARNING:matplotlib.font_manager:findfont: Font family 'SimHei' not found.\n",
            "WARNING:matplotlib.font_manager:findfont: Font family 'SimHei' not found.\n",
            "WARNING:matplotlib.font_manager:findfont: Font family 'SimHei' not found.\n",
            "WARNING:matplotlib.font_manager:findfont: Font family 'SimHei' not found.\n",
            "WARNING:matplotlib.font_manager:findfont: Font family 'SimHei' not found.\n",
            "WARNING:matplotlib.font_manager:findfont: Font family 'SimHei' not found.\n",
            "WARNING:matplotlib.font_manager:findfont: Font family 'SimHei' not found.\n",
            "WARNING:matplotlib.font_manager:findfont: Font family 'SimHei' not found.\n"
          ]
        },
        {
          "output_type": "stream",
          "name": "stdout",
          "text": [
            "=== 供应链数据概览 ===\n",
            "        date  orders  copper_price  week\n",
            "0 2024-01-07    1224        104.40     1\n",
            "1 2024-01-14    1265        100.11     2\n",
            "2 2024-01-21    1350        101.78     3\n",
            "3 2024-01-28    1399         98.09     4\n",
            "4 2024-02-04    1277        101.52     5\n",
            "5 2024-02-11    1224        104.28     6\n",
            "6 2024-02-18    1268        101.28     7\n",
            "7 2024-02-25    1212        106.65     8\n",
            "8 2024-03-03    1177        104.51     9\n",
            "9 2024-03-10    1289        106.23    10\n"
          ]
        },
        {
          "output_type": "stream",
          "name": "stderr",
          "text": [
            "WARNING:matplotlib.font_manager:findfont: Font family 'SimHei' not found.\n",
            "WARNING:matplotlib.font_manager:findfont: Font family 'SimHei' not found.\n",
            "WARNING:matplotlib.font_manager:findfont: Font family 'SimHei' not found.\n",
            "WARNING:matplotlib.font_manager:findfont: Font family 'SimHei' not found.\n",
            "WARNING:matplotlib.font_manager:findfont: Font family 'SimHei' not found.\n",
            "WARNING:matplotlib.font_manager:findfont: Font family 'SimHei' not found.\n",
            "WARNING:matplotlib.font_manager:findfont: Font family 'SimHei' not found.\n",
            "WARNING:matplotlib.font_manager:findfont: Font family 'SimHei' not found.\n",
            "WARNING:matplotlib.font_manager:findfont: Font family 'SimHei' not found.\n",
            "WARNING:matplotlib.font_manager:findfont: Font family 'SimHei' not found.\n",
            "WARNING:matplotlib.font_manager:findfont: Font family 'SimHei' not found.\n",
            "WARNING:matplotlib.font_manager:findfont: Font family 'SimHei' not found.\n",
            "WARNING:matplotlib.font_manager:findfont: Font family 'SimHei' not found.\n",
            "WARNING:matplotlib.font_manager:findfont: Font family 'SimHei' not found.\n",
            "WARNING:matplotlib.font_manager:findfont: Font family 'SimHei' not found.\n",
            "WARNING:matplotlib.font_manager:findfont: Font family 'SimHei' not found.\n",
            "WARNING:matplotlib.font_manager:findfont: Font family 'SimHei' not found.\n",
            "WARNING:matplotlib.font_manager:findfont: Font family 'SimHei' not found.\n",
            "WARNING:matplotlib.font_manager:findfont: Font family 'SimHei' not found.\n",
            "WARNING:matplotlib.font_manager:findfont: Font family 'SimHei' not found.\n",
            "WARNING:matplotlib.font_manager:findfont: Font family 'SimHei' not found.\n",
            "WARNING:matplotlib.font_manager:findfont: Font family 'SimHei' not found.\n",
            "WARNING:matplotlib.font_manager:findfont: Font family 'SimHei' not found.\n",
            "WARNING:matplotlib.font_manager:findfont: Font family 'SimHei' not found.\n",
            "WARNING:matplotlib.font_manager:findfont: Font family 'SimHei' not found.\n",
            "WARNING:matplotlib.font_manager:findfont: Font family 'SimHei' not found.\n",
            "WARNING:matplotlib.font_manager:findfont: Font family 'SimHei' not found.\n",
            "WARNING:matplotlib.font_manager:findfont: Font family 'SimHei' not found.\n",
            "WARNING:matplotlib.font_manager:findfont: Font family 'SimHei' not found.\n",
            "WARNING:matplotlib.font_manager:findfont: Font family 'SimHei' not found.\n",
            "WARNING:matplotlib.font_manager:findfont: Font family 'SimHei' not found.\n",
            "WARNING:matplotlib.font_manager:findfont: Font family 'SimHei' not found.\n",
            "WARNING:matplotlib.font_manager:findfont: Font family 'SimHei' not found.\n",
            "WARNING:matplotlib.font_manager:findfont: Font family 'SimHei' not found.\n",
            "WARNING:matplotlib.font_manager:findfont: Font family 'SimHei' not found.\n",
            "WARNING:matplotlib.font_manager:findfont: Font family 'SimHei' not found.\n",
            "WARNING:matplotlib.font_manager:findfont: Font family 'SimHei' not found.\n",
            "WARNING:matplotlib.font_manager:findfont: Font family 'SimHei' not found.\n",
            "WARNING:matplotlib.font_manager:findfont: Font family 'SimHei' not found.\n",
            "WARNING:matplotlib.font_manager:findfont: Font family 'SimHei' not found.\n",
            "WARNING:matplotlib.font_manager:findfont: Font family 'SimHei' not found.\n",
            "WARNING:matplotlib.font_manager:findfont: Font family 'SimHei' not found.\n",
            "WARNING:matplotlib.font_manager:findfont: Font family 'SimHei' not found.\n",
            "WARNING:matplotlib.font_manager:findfont: Font family 'SimHei' not found.\n",
            "WARNING:matplotlib.font_manager:findfont: Font family 'SimHei' not found.\n",
            "WARNING:matplotlib.font_manager:findfont: Font family 'SimHei' not found.\n",
            "WARNING:matplotlib.font_manager:findfont: Font family 'SimHei' not found.\n",
            "WARNING:matplotlib.font_manager:findfont: Font family 'SimHei' not found.\n",
            "WARNING:matplotlib.font_manager:findfont: Font family 'SimHei' not found.\n",
            "WARNING:matplotlib.font_manager:findfont: Font family 'SimHei' not found.\n",
            "WARNING:matplotlib.font_manager:findfont: Font family 'SimHei' not found.\n",
            "WARNING:matplotlib.font_manager:findfont: Font family 'SimHei' not found.\n",
            "WARNING:matplotlib.font_manager:findfont: Font family 'SimHei' not found.\n",
            "WARNING:matplotlib.font_manager:findfont: Font family 'SimHei' not found.\n",
            "WARNING:matplotlib.font_manager:findfont: Font family 'SimHei' not found.\n",
            "WARNING:matplotlib.font_manager:findfont: Font family 'SimHei' not found.\n",
            "WARNING:matplotlib.font_manager:findfont: Font family 'SimHei' not found.\n",
            "WARNING:matplotlib.font_manager:findfont: Font family 'SimHei' not found.\n",
            "WARNING:matplotlib.font_manager:findfont: Font family 'SimHei' not found.\n",
            "WARNING:matplotlib.font_manager:findfont: Font family 'SimHei' not found.\n",
            "WARNING:matplotlib.font_manager:findfont: Font family 'SimHei' not found.\n",
            "WARNING:matplotlib.font_manager:findfont: Font family 'SimHei' not found.\n",
            "WARNING:matplotlib.font_manager:findfont: Font family 'SimHei' not found.\n",
            "WARNING:matplotlib.font_manager:findfont: Font family 'SimHei' not found.\n",
            "WARNING:matplotlib.font_manager:findfont: Font family 'SimHei' not found.\n",
            "WARNING:matplotlib.font_manager:findfont: Font family 'SimHei' not found.\n",
            "WARNING:matplotlib.font_manager:findfont: Font family 'SimHei' not found.\n",
            "WARNING:matplotlib.font_manager:findfont: Font family 'SimHei' not found.\n",
            "WARNING:matplotlib.font_manager:findfont: Font family 'SimHei' not found.\n",
            "WARNING:matplotlib.font_manager:findfont: Font family 'SimHei' not found.\n",
            "WARNING:matplotlib.font_manager:findfont: Font family 'SimHei' not found.\n",
            "WARNING:matplotlib.font_manager:findfont: Font family 'SimHei' not found.\n",
            "WARNING:matplotlib.font_manager:findfont: Font family 'SimHei' not found.\n",
            "WARNING:matplotlib.font_manager:findfont: Font family 'SimHei' not found.\n",
            "WARNING:matplotlib.font_manager:findfont: Font family 'SimHei' not found.\n"
          ]
        },
        {
          "output_type": "display_data",
          "data": {
            "text/plain": [
              "<Figure size 1500x500 with 2 Axes>"
            ],
            "image/png": "[encoded data removed]"
          },
          "metadata": {}
        }
      ]
    },
    {
      "cell_type": "markdown",
      "source": [
        "### AI数据分析助手"
      ],
      "metadata": {
        "id": "BDiD7EprtiHa"
      }
    },
    {
      "cell_type": "code",
      "source": [
        "class SupplyChainAnalyzer:\n",
        "    def __init__(self, claude_client):\n",
        "        self.client = claude_client\n",
        "\n",
        "    def analyze_trend(self, data_summary):\n",
        "        \"\"\"趋势分析\"\"\"\n",
        "        prompt = f\"\"\"\n",
        "        作为数据分析专家，请分析以下供应链数据：\n",
        "\n",
        "        {data_summary}\n",
        "\n",
        "        请提供：\n",
        "        1. 趋势识别（上升/下降/稳定）\n",
        "        2. 异常值检测\n",
        "        3. 可能的影响因素\n",
        "        4. 风险评估\n",
        "        5. actionable建议\n",
        "\n",
        "        请用专业但易懂的语言回答。\n",
        "        \"\"\"\n",
        "        return call_claude(prompt)\n",
        "\n",
        "    def detect_anomalies(self, data_summary):\n",
        "        \"\"\"异常检测和预警\"\"\"\n",
        "        prompt = f\"\"\"\n",
        "        作为供应链风险管理专家，请分析以下数据中的异常情况：\n",
        "\n",
        "        {data_summary}\n",
        "\n",
        "        请识别：\n",
        "        1. 异常数据点及其特征\n",
        "        2. 异常的可能原因\n",
        "        3. 风险等级评估\n",
        "        4. 应对措施建议\n",
        "        5. 预防措施\n",
        "\n",
        "        以预警报告的格式输出。\n",
        "        \"\"\"\n",
        "        return call_claude(prompt)"
      ],
      "metadata": {
        "id": "kvhuVlV2qU6a"
      },
      "execution_count": 76,
      "outputs": []
    },
    {
      "cell_type": "code",
      "source": [
        "# 准备数据摘要\n",
        "data_summary = f\"\"\"\n",
        "过去20周的供应链关键指标：\n",
        "\n",
        "订单量统计：\n",
        "- 平均订单量：{supply_data['orders'].mean():.0f}\n",
        "- 最高订单量：{supply_data['orders'].max():.0f} (第{supply_data.loc[supply_data['orders'].idxmax(), 'week']:.0f}周)\n",
        "- 最低订单量：{supply_data['orders'].min():.0f} (第{supply_data.loc[supply_data['orders'].idxmin(), 'week']:.0f}周)\n",
        "- 标准差：{supply_data['orders'].std():.0f}\n",
        "\n",
        "铜价统计：\n",
        "- 平均价格：{supply_data['copper_price'].mean():.2f} 元/kg\n",
        "- 最高价格：{supply_data['copper_price'].max():.2f} 元/kg (第{supply_data.loc[supply_data['copper_price'].idxmax(), 'week']:.0f}周)\n",
        "- 最低价格：{supply_data['copper_price'].min():.2f} 元/kg (第{supply_data.loc[supply_data['copper_price'].idxmin(), 'week']:.0f}周)\n",
        "- 价格波动率：{supply_data['copper_price'].std():.2f}\n",
        "\n",
        "近期数据：\n",
        "{supply_data.tail(5).to_string()}\n",
        "\"\"\""
      ],
      "metadata": {
        "id": "yNji_ZX1qXTN"
      },
      "execution_count": 77,
      "outputs": []
    },
    {
      "cell_type": "code",
      "source": [
        "# 初始化分析器\n",
        "analyzer = SupplyChainAnalyzer(client)\n",
        "\n",
        "print(\"=== AI趋势分析 ===\")\n",
        "trend_analysis = analyzer.analyze_trend(data_summary)\n",
        "print(trend_analysis)"
      ],
      "metadata": {
        "colab": {
          "base_uri": "https://localhost:8080/"
        },
        "id": "2-cDPPssqZEE",
        "outputId": "855e0ab9-b15c-4fa8-c110-5c1978761b80"
      },
      "execution_count": 78,
      "outputs": [
        {
          "output_type": "stream",
          "name": "stdout",
          "text": [
            "=== AI趋势分析 ===\n",
            "基于提供的供应链数据，我将从多个维度进行分析：\n",
            "\n",
            "1. 趋势识别\n",
            "- 订单量：整体呈现相对稳定状态，波动范围在1177-1438之间，标准差65表明波动程度可控\n",
            "- 铜价：呈现明显上升趋势，特别是最近几周，从第16周的108.18元/kg上升至第20周的115.59元/kg，涨幅显著\n",
            "\n",
            "2. 异常值检测\n",
            "- 订单量：第13周的1438单属于明显高峰，第9周的1177单属于明显低谷\n",
            "- 铜价：最近第20周达到115.59元/kg的高点，显著高于平均水平，需要特别关注\n",
            "\n",
            "3. 可能的影响因素\n",
            "- 宏观经济：铜价上涨可能与全球经济复苏、通货膨胀预期有关\n",
            "- 供需关系：订单量波动可能受季节性因素影响\n",
            "- 市场竞争：订单量的稳定性表明市场份额相对稳固\n",
            "\n",
            "4. 风险评估\n",
            "高风险：\n",
            "- 原材料成本压力持续上升\n",
            "- 铜价波动率4.94显示价格波动风险较大\n",
            "中等风险：\n",
            "- 订单量波动可能影响生产计划稳定性\n",
            "- 库存管理压力增加\n",
            "\n",
            "5. Actionable建议\n",
            "\n",
            "短期行动：\n",
            "- 适当增加铜材库存，对冲近期价格上涨风险\n",
            "- 与重要客户沟通可能的价格调整方案\n",
            "\n",
            "中期策略：\n",
            "- 优化采购策略，考虑签订更多长期供应合同\n",
            "- 开发替代材料或优化产品设计，减少铜用量\n",
            "\n",
            "长期规划：\n",
            "- 建立更完善的价格风险管理机制\n",
            "- 加强供应链韧性建设，增加供应商多样性\n",
            "\n",
            "监控指标：\n",
            "- 设立铜价预警机制（如价格超过120元/kg启动应急预案）\n",
            "- 密切关注订单量与铜价相关性\n",
            "- 每周跟踪库存周转率变化\n",
            "\n",
            "这些分析和建议旨在帮助企业更好地应对供应链波动，确保业务持续稳定运营。建议根据实际情况进行适当调整和实施。\n"
          ]
        }
      ]
    },
    {
      "cell_type": "code",
      "source": [
        "print(\"\\n=== AI异常检测 ===\")\n",
        "anomaly_analysis = analyzer.detect_anomalies(data_summary)\n",
        "print(anomaly_analysis)"
      ],
      "metadata": {
        "colab": {
          "base_uri": "https://localhost:8080/"
        },
        "id": "ejrGc3U8qaZ7",
        "outputId": "b30fa7ab-08a0-4ac7-ae6d-99624be77a6d"
      },
      "execution_count": 79,
      "outputs": [
        {
          "output_type": "stream",
          "name": "stdout",
          "text": [
            "\n",
            "=== AI异常检测 ===\n",
            "# 供应链风险预警报告\n",
            "\n",
            "## 一、异常情况识别\n",
            "\n",
            "### 1.1 铜价异常\n",
            "- 第20周铜价达到115.59元/kg，创20周新高\n",
            "- 近3周铜价波动显著，呈现明显上涨趋势\n",
            "- 最近5周内铜价波动范围：107.54-115.59元/kg，高于平均水平\n",
            "\n",
            "### 1.2 订单量波动\n",
            "- 第17周订单量下降至1226单，低于平均值1291单\n",
            "- 订单量波动幅度在正常范围内（±1个标准差以内）\n",
            "\n",
            "## 二、异常原因分析\n",
            "\n",
            "### 2.1 铜价上涨可能原因\n",
            "1. 大宗商品市场供需关系变化\n",
            "2. 国际市场波动影响\n",
            "3. 季节性需求增加\n",
            "4. 上游供应链压力\n",
            "\n",
            "### 2.2 订单波动可能原因\n",
            "1. 正常的市场需求波动\n",
            "2. 季节性因素影响\n",
            "3. 客户采购策略调整\n",
            "\n",
            "## 三、风险等级评估\n",
            "\n",
            "- 整体风险等级：中等\n",
            "- 铜价风险：高\n",
            "- 订单量风险：低\n",
            "\n",
            "风险影响：\n",
            "1. 原材料成本上升影响利润率\n",
            "2. 采购预算压力增大\n",
            "3. 定价策略需要调整\n",
            "\n",
            "## 四、应对措施建议\n",
            "\n",
            "### 即时措施\n",
            "1. 评估现有铜材库存，合理调配\n",
            "2. 与供应商协商锁定部分采购价格\n",
            "3. 适当提前采购，规避近期高价\n",
            "4. 审查成本结构，必要时调整产品定价\n",
            "\n",
            "### 中长期措施\n",
            "1. 建立铜价走势预警机制\n",
            "2. 开发多元化供应商渠道\n",
            "3. 优化库存管理策略\n",
            "4. 考虑签订长期供货协议\n",
            "\n",
            "## 五、预防措施\n",
            "\n",
            "1. 完善供应链风险监测系统\n",
            "- 设置关键指标预警阈值\n",
            "- 建立每日监测机制\n",
            "- 定期分析市场趋势\n",
            "\n",
            "2. 优化采购策略\n",
            "- 实施战略性采购\n",
            "- 建立价格对冲机制\n",
            "- 维护供应商关系\n",
            "\n",
            "3. 加强内部控制\n",
            "- 提高库存管理效率\n",
            "- 优化成本控制流程\n",
            "- 加强预算管理\n",
            "\n",
            "## 六、后续跟进建议\n",
            "\n",
            "1. 每周跟踪铜价走势\n",
            "2. 密切关注订单量变化\n",
            "3. 定期评估应对措施效果\n",
            "4. 及时调整风险管理策略\n",
            "\n",
            "报告完成日期：2024-05-20\n",
            "风险管理部门负责人：[待填写]\n"
          ]
        }
      ]
    },
    {
      "cell_type": "markdown",
      "source": [
        "## 第四部分：智能报告生成系统\n",
        "\n",
        "### 概念：自动化报告生成\n",
        "将数据分析结果自动生成结构化的商务报告，节省大量手工整理时间。"
      ],
      "metadata": {
        "id": "Dpwpw6vbqdoc"
      }
    },
    {
      "cell_type": "code",
      "source": [
        "class ReportGenerator:\n",
        "    def __init__(self, claude_client):\n",
        "        self.client = claude_client\n",
        "\n",
        "    def generate_weekly_report(self, data_summary, analysis_results):\n",
        "        \"\"\"生成周报\"\"\"\n",
        "        prompt = f\"\"\"\n",
        "        作为供应链总监的助手，请基于以下信息生成专业的周报：\n",
        "\n",
        "        数据概况：\n",
        "        {data_summary}\n",
        "\n",
        "        分析结果：\n",
        "        {analysis_results}\n",
        "\n",
        "        报告要求：\n",
        "        1. 执行摘要（2-3句话）\n",
        "        2. 关键指标表现\n",
        "        3. 重要发现和洞察\n",
        "        4. 风险提示\n",
        "        5. 下周重点关注事项\n",
        "        6. 推荐行动方案\n",
        "\n",
        "        请以正式商务报告格式输出，使用清晰的段落结构。\n",
        "        \"\"\"\n",
        "        return call_claude(prompt)\n",
        "\n",
        "    def generate_supplier_evaluation(self, supplier_info):\n",
        "        \"\"\"供应商评估报告\"\"\"\n",
        "        prompt = f\"\"\"\n",
        "        作为采购专家，请基于以下信息生成供应商评估报告：\n",
        "\n",
        "        {supplier_info}\n",
        "\n",
        "        评估维度：\n",
        "        1. 价格竞争力\n",
        "        2. 质量稳定性\n",
        "        3. 交货可靠性\n",
        "        4. 财务健康度\n",
        "        5. 合作配合度\n",
        "        6. 风险因素\n",
        "\n",
        "        请给出综合评分(1-10分)和详细评估意见。\n",
        "        \"\"\"\n",
        "        return call_claude(prompt)\n"
      ],
      "metadata": {
        "id": "ARLxD80DqkGc"
      },
      "execution_count": 80,
      "outputs": []
    },
    {
      "cell_type": "code",
      "source": [
        "# 模拟供应商信息\n",
        "supplier_info = \"\"\"\n",
        "供应商：ABC铜业有限公司\n",
        "\n",
        "基本信息：\n",
        "- 合作时长：3年\n",
        "- 主要产品：铜材料、铜制品\n",
        "- 月均供货量：500吨\n",
        "- 平均交货期：15天\n",
        "\n",
        "近期表现：\n",
        "- 价格调整：过去6个月涨价8%\n",
        "- 质量问题：无重大质量事故\n",
        "- 交货准时率：95%\n",
        "- 付款条件：净30天\n",
        "- 响应速度：24小时内回复\n",
        "\n",
        "财务状况：\n",
        "- 年营收：2亿元\n",
        "- 信用评级：AA-\n",
        "- 现金流：良好\n",
        "\n",
        "竞争对手对比：\n",
        "- 价格水平：比市场平均高3%\n",
        "- 质量水平：行业领先\n",
        "- 服务水平：优秀\n",
        "\"\"\""
      ],
      "metadata": {
        "id": "dBlxb_oUqmkm"
      },
      "execution_count": 81,
      "outputs": []
    },
    {
      "cell_type": "code",
      "source": [
        "# 生成报告\n",
        "report_gen = ReportGenerator(client)\n",
        "\n",
        "print(\"=== 供应链周报 ===\")\n",
        "weekly_report = report_gen.generate_weekly_report(data_summary, trend_analysis)\n",
        "print(weekly_report)"
      ],
      "metadata": {
        "colab": {
          "base_uri": "https://localhost:8080/"
        },
        "id": "TIN3aPqrqn-q",
        "outputId": "e279d2d2-f564-47ca-c63b-9eb0c5fc7627"
      },
      "execution_count": 82,
      "outputs": [
        {
          "output_type": "stream",
          "name": "stdout",
          "text": [
            "=== 供应链周报 ===\n",
            "# 供应链周报\n",
            "**报告周期：** 第20周（截至2024年5月19日）  \n",
            "**报告人：** 供应链分析团队  \n",
            "**日期：** 2024年5月20日\n",
            "\n",
            "## 执行摘要\n",
            "本周供应链整体运行平稳，订单量达1329单，环比上升3.7%；但铜价持续攀升至115.59元/kg，创20周新高，对成本管控带来显著压力。建议立即启动原材料成本管控预案，并加强库存优化管理。\n",
            "\n",
            "## 关键指标表现\n",
            "| 指标 | 本周数据 | 环比变化 | 20周均值 | 状态 |\n",
            "|------|----------|----------|-----------|------|\n",
            "| 订单量 | 1329 | +3.7% | 1291 | ✅ |\n",
            "| 铜价(元/kg) | 115.59 | +4.9% | 106.70 | ⚠️ |\n",
            "\n",
            "## 重要发现和洞察\n",
            "1. **订单趋势**\n",
            "   - 近5周订单量保持稳定，波动范围在1226-1329之间\n",
            "   - 本周订单量高于20周平均水平，显示需求稳健\n",
            "\n",
            "2. **价格走势**\n",
            "   - 铜价连续两周大幅上涨，累计涨幅达7.4%\n",
            "   - 当前价格已显著高于20周平均水平(超出8.3%)\n",
            "\n",
            "## 风险提示\n",
            "1. **高度关注**\n",
            "   - 原材料成本压力持续增大\n",
            "   - 铜价波动率达4.94，显示市场不确定性增加\n",
            "\n",
            "2. **持续监控**\n",
            "   - 订单交付能力可能受到成本上涨影响\n",
            "   - 库存价值波动风险加大\n",
            "\n",
            "## 下周重点关注事项\n",
            "1. 密切监控铜价走势，特别是是否突破120元/kg关口\n",
            "2. 评估价格上涨对订单利润的影响\n",
            "3. 跟踪重要客户订单变化情况\n",
            "4. 监控库存水平及周转效率\n",
            "\n",
            "## 推荐行动方案\n",
            "### 即时行动（1周内）\n",
            "- 召开紧急成本管控会议\n",
            "- 与核心供应商沟通稳价措施\n",
            "- 评估提前采购可能性\n",
            "\n",
            "### 短期措施（1个月内）\n",
            "- 优化库存结构，适度增加低价库存\n",
            "- 制定价格调整方案\n",
            "- 加强供应商渠道多元化\n",
            "\n",
            "### 中期规划（3个月内）\n",
            "- 研究替代材料方案\n",
            "- 完善价格风险对冲机制\n",
            "- 强化供应链韧性建设\n",
            "\n",
            "---\n",
            "**备注：** 本报告基于最新供应链数据编制，建议相关部门根据实际情况调整执行力度和优先级。\n"
          ]
        }
      ]
    },
    {
      "cell_type": "code",
      "source": [
        "print(\"\\n=== 供应商评估报告 ===\")\n",
        "supplier_report = report_gen.generate_supplier_evaluation(supplier_info)\n",
        "print(supplier_report)"
      ],
      "metadata": {
        "colab": {
          "base_uri": "https://localhost:8080/"
        },
        "id": "cIZRdVg8qpRe",
        "outputId": "9dffa298-9927-49ba-e79a-939931aef223"
      },
      "execution_count": 83,
      "outputs": [
        {
          "output_type": "stream",
          "name": "stdout",
          "text": [
            "\n",
            "=== 供应商评估报告 ===\n",
            "**供应商评估报告**\n",
            "\n",
            "供应商名称：ABC铜业有限公司\n",
            "评估日期：[当前日期]\n",
            "综合评分：8.5/10\n",
            "\n",
            "**详细评估分析：**\n",
            "\n",
            "1. 价格竞争力：7.5分\n",
            "- 虽高于市场平均3%，但考虑其产品质量和服务水平，性价比尚可\n",
            "- 近期8%涨幅需关注，建议进行价格谈判\n",
            "- 付款条件（净30天）较为合理\n",
            "\n",
            "2. 质量稳定性：9分\n",
            "- 无重大质量事故记录\n",
            "- 行业领先的质量水平\n",
            "- 质量管控体系完善\n",
            "\n",
            "3. 交货可靠性：9分\n",
            "- 95%的准时交货率表现优异\n",
            "- 15天的交货周期符合行业标准\n",
            "- 月均供货量稳定，供应能力有保障\n",
            "\n",
            "4. 财务健康度：8.5分\n",
            "- AA-信用评级显示财务状况稳健\n",
            "- 2亿元年营收规模适中\n",
            "- 良好的现金流保障供应稳定性\n",
            "\n",
            "5. 合作配合度：9分\n",
            "- 24小时响应速度优秀\n",
            "- 3年合作经验表明双方有良好默契\n",
            "- 服务水平评价优秀\n",
            "\n",
            "6. 风险因素：7.5分\n",
            "- 价格上涨趋势需警惕\n",
            "- 对单一供应商依赖度较高\n",
            "- 市场竞争加剧可能带来不确定性\n",
            "\n",
            "**综合评估意见：**\n",
            "\n",
            "ABC铜业作为战略供应商表现优异，建议继续保持合作关系。但建议：\n",
            "\n",
            "1. 开展价格谈判，争取更优惠的采购条件\n",
            "2. 适当发展备选供应商，降低依赖风险\n",
            "3. 建立季度绩效回顾机制\n",
            "4. 加强长期战略合作关系\n",
            "\n",
            "**改进建议：**\n",
            "\n",
            "1. 协商建立价格联动机制\n",
            "2. 优化库存管理，提升供应链效率\n",
            "3. 深化技术合作，推动产品创新\n",
            "4. 建立更紧密的信息共享机制\n",
            "\n",
            "**后续跟进重点：**\n",
            "\n",
            "1. 密切监控价格变动\n",
            "2. 持续跟踪质量表现\n",
            "3. 定期评估财务状况\n",
            "4. 维护良好合作关系\n",
            "\n",
            "签署：[采购专家姓名]\n",
            "部门：供应商管理部\n"
          ]
        }
      ]
    },
    {
      "cell_type": "markdown",
      "source": [
        "## 第五部分：实战练习与互动\n",
        "\n",
        "### 互动练习1：Prompt优化挑战"
      ],
      "metadata": {
        "id": "zBPPbZPYqrcA"
      }
    },
    {
      "cell_type": "code",
      "source": [
        "def prompt_optimization_challenge():\n",
        "    \"\"\"Prompt优化挑战\"\"\"\n",
        "\n",
        "    scenario = \"\"\"\n",
        "    情景：你收到一份8D报告，需要AI帮你快速识别其中的问题点。\n",
        "\n",
        "    8D报告内容摘要：\n",
        "    - 问题描述：产品A出现表面划痕\n",
        "    - 根本原因：操作员培训不足\n",
        "    - 纠正措施：重新培训所有操作员\n",
        "    - 预防措施：更新操作手册\n",
        "    \"\"\"\n",
        "\n",
        "    print(\"挑战：请设计一个prompt来分析这份8D报告\")\n",
        "    print(\"情景：\", scenario)\n",
        "    print(\"\\n请在下面代码块中写出你的prompt：\")\n",
        "\n",
        "    # 学员可以在这里写自己的prompt\n",
        "    student_prompt = input(\"请输入你的prompt: \")\n",
        "\n",
        "    # 专家级参考prompt\n",
        "    expert_prompt = f\"\"\"\n",
        "    作为质量管理专家，请深度分析以下8D报告的有效性：\n",
        "\n",
        "    {scenario}\n",
        "\n",
        "    分析要求：\n",
        "    1. 问题定义的准确性和完整性\n",
        "    2. 根因分析的逻辑性和深度\n",
        "    3. 纠正措施的针对性和可执行性\n",
        "    4. 预防措施的系统性和长期有效性\n",
        "    5. 整体报告的严谨性评估\n",
        "\n",
        "    请指出潜在的缺陷和改进建议，并给出1-10分的质量评分。\n",
        "    \"\"\"\n",
        "\n",
        "    print(\"\\n=== 你的Prompt结果 ===\")\n",
        "    student_result = call_claude(student_prompt)\n",
        "    print(student_result)\n",
        "\n",
        "    print(\"\\n=== 专家级Prompt结果 ===\")\n",
        "    expert_result = call_claude(expert_prompt)\n",
        "    print(expert_result)\n",
        "\n",
        "    return student_prompt, expert_prompt"
      ],
      "metadata": {
        "id": "eTP6W2yJqyk0"
      },
      "execution_count": 84,
      "outputs": []
    },
    {
      "cell_type": "code",
      "source": [
        "# 运行挑战（注释掉input部分用于演示）\n",
        "# prompt_optimization_challenge()\n",
        "\n",
        "# 演示版本\n",
        "demo_student_prompt = \"分析这个8D报告有什么问题\"\n",
        "demo_expert_prompt = \"\"\"\n",
        "作为质量管理专家，请深度分析以下8D报告的有效性：\n",
        "\n",
        "8D报告内容摘要：\n",
        "- 问题描述：产品A出现表面划痕\n",
        "- 根本原因：操作员培训不足\n",
        "- 纠正措施：重新培训所有操作员\n",
        "- 预防措施：更新操作手册\n",
        "\n",
        "分析要求：\n",
        "1. 问题定义的准确性和完整性\n",
        "2. 根因分析的逻辑性和深度\n",
        "3. 纠正措施的针对性和可执行性\n",
        "4. 预防措施的系统性和长期有效性\n",
        "5. 整体报告的严谨性评估\n",
        "\n",
        "请指出潜在的缺陷和改进建议，并给出1-10分的质量评分。\n",
        "\"\"\"\n",
        "\n",
        "print(\"=== Prompt对比演示 ===\")\n",
        "print(\"学员Prompt：\", demo_student_prompt)\n",
        "student_demo_result = call_claude(demo_student_prompt)\n",
        "print(\"结果：\", student_demo_result[:200] + \"...\")\n",
        "\n",
        "print(\"\\n专家Prompt结果：\")\n",
        "expert_demo_result = call_claude(demo_expert_prompt)\n",
        "print(expert_demo_result[:300] + \"...\")"
      ],
      "metadata": {
        "colab": {
          "base_uri": "https://localhost:8080/"
        },
        "id": "iv_GwvPOq1kw",
        "outputId": "8f4172d6-8e30-49f5-9919-8ce8155ce327"
      },
      "execution_count": 85,
      "outputs": [
        {
          "output_type": "stream",
          "name": "stdout",
          "text": [
            "=== Prompt对比演示 ===\n",
            "学员Prompt： 分析这个8D报告有什么问题\n",
            "结果： 我没有看到任何8D报告。请您发送8D报告,这样我才能帮您分析其中可能存在的问题。如果您愿意分享,我可以从以下几个方面来评估该报告:\n",
            "\n",
            "1. 团队成员的组成是否合适\n",
            "2. 问题描述是否清晰具体\n",
            "3. 临时措施是否有效\n",
            "4. 根本原因分析是否深入\n",
            "5. 纠正措施是否适当\n",
            "6. 预防措施是否到位\n",
            "7. 验证效果是否可靠\n",
            "8. 经验教训总结是否充分\n",
            "\n",
            "请将8D报告分享给我,我会仔细分析并提出改进建议。...\n",
            "\n",
            "专家Prompt结果：\n",
            "以下是对该8D报告的深度分析：\n",
            "\n",
            "一、问题定义分析（5分）\n",
            "缺陷：\n",
            "- 未详细说明划痕的具体特征（长度、深度、位置等）\n",
            "- 未量化问题发生频率和影响范围\n",
            "- 缺少问题发现时间、批次信息等关键数据\n",
            "\n",
            "改进建议：\n",
            "- 添加详细的问题描述参数和标准\n",
            "- 提供具体的不良率数据\n",
            "- 补充问题对客户影响的评估\n",
            "\n",
            "二、根因分析（4分）\n",
            "缺陷：\n",
            "- \"操作员培训不足\"过于表面和笼统\n",
            "- 缺少系统性分析工具（如5Why、鱼骨图等）的应用\n",
            "- 未考虑其他潜在因素（如工装、工艺等）\n",
            "\n",
            "改进建议：\n",
            "- 运用结构化分析工具深入挖掘\n",
            "- 从人机料法环等多维度分析\n",
            "- 提供具体的证据支持根因结论\n",
            "\n",
            "三、纠正措施（5分）\n",
            "缺...\n"
          ]
        }
      ]
    },
    {
      "cell_type": "markdown",
      "source": [
        "### 互动练习2：个人Prompt模板库构建"
      ],
      "metadata": {
        "id": "EUzn2vp1q4PC"
      }
    },
    {
      "cell_type": "code",
      "source": [
        "# 个人Prompt模板库\n",
        "personal_prompt_library = {\n",
        "    \"邮件总结\": \"\"\"\n",
        "作为供应链专员，请总结以下邮件：\n",
        "\n",
        "邮件内容：{email_content}\n",
        "\n",
        "输出格式：\n",
        "- 主题：\n",
        "- 关键信息：\n",
        "- 时间节点：\n",
        "- 需要行动：\n",
        "- 紧急程度：\n",
        "\"\"\",\n",
        "\n",
        "    \"数据异常分析\": \"\"\"\n",
        "作为数据分析专家，请分析以下供应链数据异常：\n",
        "\n",
        "数据：{data}\n",
        "异常值：{anomaly}\n",
        "\n",
        "请分析：\n",
        "1. 异常特征描述\n",
        "2. 可能原因（至少3个）\n",
        "3. 影响评估\n",
        "4. 建议措施\n",
        "\"\"\",\n",
        "\n",
        "    \"供应商谈判准备\": \"\"\"\n",
        "作为采购谈判专家，请帮我准备与供应商的谈判：\n",
        "\n",
        "供应商：{supplier_name}\n",
        "谈判议题：{topic}\n",
        "我方目标：{target}\n",
        "市场情况：{market_info}\n",
        "\n",
        "请提供：\n",
        "1. 谈判策略\n",
        "2. 关键论据\n",
        "3. 预期阻力和应对\n",
        "4. 备选方案\n",
        "\"\"\",\n",
        "\n",
        "    \"风险评估\": \"\"\"\n",
        "作为供应链风险管理专家，请评估以下情况的风险：\n",
        "\n",
        "情况描述：{situation}\n",
        "涉及供应商：{suppliers}\n",
        "影响产品：{products}\n",
        "\n",
        "评估维度：\n",
        "1. 风险等级（高/中/低）\n",
        "2. 影响范围\n",
        "3. 可能损失\n",
        "4. 应对措施\n",
        "5. 监控指标\n",
        "\"\"\"\n",
        "}"
      ],
      "metadata": {
        "id": "N7jIGp19q6cV"
      },
      "execution_count": 86,
      "outputs": []
    },
    {
      "cell_type": "code",
      "source": [
        "def use_template(template_name, **kwargs):\n",
        "    \"\"\"使用模板生成prompt\"\"\"\n",
        "    if template_name in personal_prompt_library:\n",
        "        template = personal_prompt_library[template_name]\n",
        "        filled_prompt = template.format(**kwargs)\n",
        "        return call_claude(filled_prompt)\n",
        "    else:\n",
        "        return \"模板不存在\"\n",
        "\n",
        "# 演示模板使用\n",
        "print(\"=== 个人模板库演示 ===\")\n",
        "print(\"可用模板：\", list(personal_prompt_library.keys()))\n",
        "\n",
        "# 使用邮件总结模板\n",
        "email_summary_result = use_template(\n",
        "    \"邮件总结\",\n",
        "    email_content=\"供应商通知下月起铜材料涨价8%，希望我们理解并确认是否接受新价格。\"\n",
        ")\n",
        "print(\"\\n邮件总结结果：\")\n",
        "print(email_summary_result)\n",
        "\n",
        "# 使用风险评估模板\n",
        "risk_assessment_result = use_template(\n",
        "    \"风险评估\",\n",
        "    situation=\"主要铜材料供应商可能因环保问题停产2个月\",\n",
        "    suppliers=\"ABC铜业（主供应商，占比60%）\",\n",
        "    products=\"电子连接器、线缆产品\"\n",
        ")\n",
        "print(\"\\n风险评估结果：\")\n",
        "print(risk_assessment_result)"
      ],
      "metadata": {
        "colab": {
          "base_uri": "https://localhost:8080/"
        },
        "id": "Trxa6u0xq8Km",
        "outputId": "6a6153d9-d6b9-4fcd-fa68-7834300fee95"
      },
      "execution_count": 87,
      "outputs": [
        {
          "output_type": "stream",
          "name": "stdout",
          "text": [
            "=== 个人模板库演示 ===\n",
            "可用模板： ['邮件总结', '数据异常分析', '供应商谈判准备', '风险评估']\n",
            "\n",
            "邮件总结结果：\n",
            "\n",
            "- 主题：供应商铜材料价格调整通知\n",
            "\n",
            "- 关键信息：\n",
            "  * 铜材料价格上调8%\n",
            "  * 供应商要求确认新价格\n",
            "\n",
            "- 时间节点：\n",
            "  * 价格调整生效时间：下月起\n",
            "\n",
            "- 需要行动：\n",
            "  * 评估价格调整的影响\n",
            "  * 向供应商回复是否接受新价格\n",
            "  * 如需议价，及时与供应商沟通\n",
            "\n",
            "- 紧急程度：中等\n",
            "  * 需在本月内完成价格确认\n",
            "  * 涉及成本变动，需及时处理\n",
            "\n",
            "风险评估结果：\n",
            "作为供应链风险管理专家，我将从以下几个维度进行分析评估：\n",
            "\n",
            "1. 风险等级：高风险\n",
            "理由：\n",
            "- 供应商集中度高(60%)\n",
            "- 停产时间较长(2个月)\n",
            "- 铜材料为关键原材料\n",
            "- 影响终端产品生产连续性\n",
            "\n",
            "2. 影响范围：\n",
            "- 直接影响：\n",
            "  * 电子连接器、线缆产品生产计划\n",
            "  * 库存水平\n",
            "  * 交付时间\n",
            "- 间接影响：\n",
            "  * 客户订单履约\n",
            "  * 公司声誉\n",
            "  * 市场份额\n",
            "\n",
            "3. 可能损失：\n",
            "- 财务损失：\n",
            "  * 原材料采购成本上升(备选供应商价格可能更高)\n",
            "  * 产能利用率下降导致的效率损失\n",
            "  * 可能的违约赔偿\n",
            "- 非财务损失：\n",
            "  * 客户关系受损\n",
            "  * 市场信誉影响\n",
            "  * 员工工时损失\n",
            "\n",
            "4. 应对措施：\n",
            "立即行动：\n",
            "- 评估现有库存水平,制定库存调配计划\n",
            "- 启动备选供应商资源\n",
            "- 与ABC铜业沟通具体停产计划和恢复时间表\n",
            "\n",
            "中期措施：\n",
            "- 寻找并认证新的合格供应商\n",
            "- 优化供应商结构,降低单一依赖\n",
            "- 调整生产计划,优先保障重要客户订单\n",
            "- 与客户沟通可能的交期调整\n",
            "\n",
            "长期策略：\n",
            "- 建立供应商分级管理机制\n",
            "- 完善供应商风险评估体系\n",
            "- 建立战略库存管理制度\n",
            "- 优化产品设计,考虑材料替代方案\n",
            "\n",
            "5. 监控指标：\n",
            "关键指标：\n",
            "- 库存水平监控\n",
            "- 替代供应商产能和交付能力\n",
            "- 订单履约率\n",
            "- 材料成本变动\n",
            "- 客户满意度\n",
            "\n",
            "预警指标：\n",
            "- 供应商库存水平\n",
            "- 原材料市场价格波动\n",
            "- 客户订单变化\n",
            "- 生产计划完成率\n",
            "\n",
            "建议设立专项应急小组,定期追踪以上指标,确保风险可控。同时完善应急预案,提高供应链韧性。\n"
          ]
        }
      ]
    },
    {
      "cell_type": "markdown",
      "source": [
        "## 课程总结与下一步规划\n",
        "\n",
        "### 今天学到的核心技能"
      ],
      "metadata": {
        "id": "ixcM-8lXq-tX"
      }
    },
    {
      "cell_type": "code",
      "source": [
        "# 总结今天的学习成果\n",
        "learning_summary = {\n",
        "    \"Prompt Engineering\": {\n",
        "        \"概念\": \"与AI有效沟通的技能\",\n",
        "        \"核心要素\": [\"角色定位\", \"任务明确\", \"上下文丰富\", \"输出结构\"],\n",
        "        \"实践价值\": \"提高AI回答质量和准确性\"\n",
        "    },\n",
        "\n",
        "    \"邮件自动化\": {\n",
        "        \"功能\": [\"智能总结\", \"自动回复\", \"语调调整\"],\n",
        "        \"效果\": \"节省80%的邮件处理时间\"\n",
        "    },\n",
        "\n",
        "    \"数据分析\": {\n",
        "        \"应用\": [\"趋势识别\", \"异常检测\", \"风险评估\"],\n",
        "        \"价值\": \"数据驱动的决策支持\"\n",
        "    },\n",
        "\n",
        "    \"报告生成\": {\n",
        "        \"类型\": [\"周报\", \"供应商评估\", \"风险报告\"],\n",
        "        \"优势\": \"结构化、专业性、效率高\"\n",
        "    },\n",
        "\n",
        "    \"个人工具库\": {\n",
        "        \"组成\": \"常用Prompt模板集合\",\n",
        "        \"目标\": \"快速复用，提高工作效率\"\n",
        "    }\n",
        "}\n",
        "\n",
        "for category, details in learning_summary.items():\n",
        "    print(f\"\\n【{category}】\")\n",
        "    for key, value in details.items():\n",
        "        print(f\"  {key}: {value}\")"
      ],
      "metadata": {
        "colab": {
          "base_uri": "https://localhost:8080/"
        },
        "id": "Qi_w2aJMrAxS",
        "outputId": "c840e688-5e46-4f10-ce4d-11b9b5c7db2f"
      },
      "execution_count": 88,
      "outputs": [
        {
          "output_type": "stream",
          "name": "stdout",
          "text": [
            "\n",
            "【Prompt Engineering】\n",
            "  概念: 与AI有效沟通的技能\n",
            "  核心要素: ['角色定位', '任务明确', '上下文丰富', '输出结构']\n",
            "  实践价值: 提高AI回答质量和准确性\n",
            "\n",
            "【邮件自动化】\n",
            "  功能: ['智能总结', '自动回复', '语调调整']\n",
            "  效果: 节省80%的邮件处理时间\n",
            "\n",
            "【数据分析】\n",
            "  应用: ['趋势识别', '异常检测', '风险评估']\n",
            "  价值: 数据驱动的决策支持\n",
            "\n",
            "【报告生成】\n",
            "  类型: ['周报', '供应商评估', '风险报告']\n",
            "  优势: 结构化、专业性、效率高\n",
            "\n",
            "【个人工具库】\n",
            "  组成: 常用Prompt模板集合\n",
            "  目标: 快速复用，提高工作效率\n"
          ]
        }
      ]
    },
    {
      "cell_type": "markdown",
      "source": [
        "### 课后作业和下一步规划"
      ],
      "metadata": {
        "id": "D1SbWQ87rFw6"
      }
    },
    {
      "cell_type": "code",
      "source": [
        "homework_and_next_steps = \"\"\"\n",
        "【本周作业】\n",
        "1. 完成3个实际工作邮件的AI处理练习\n",
        "2. 用AI分析一组真实的工作数据（订单、价格、质量等）\n",
        "3. 建立个人Prompt模板库（包含5-10个常用场景）\n",
        "4. 尝试用AI生成一份工作报告\n",
        "\n",
        "【1个月学习规划】\n",
        "- 第2周：Python基础语法，数据处理入门\n",
        "- 第3周：API集成，自动化工作流\n",
        "- 第4周：高级分析技巧，预测模型基础\n",
        "\n",
        "【3个月目标】\n",
        "- 建立完整的AI工作助手系统\n",
        "- 实现供应链关键环节的自动化\n",
        "- 掌握基本的数据科学技能\n",
        "\n",
        "【推荐资源】\n",
        "1. Anthropic Claude文档\n",
        "2. Python数据分析教程\n",
        "3. 供应链管理在线课程\n",
        "4. GitHub开源项目参考\n",
        "\"\"\"\n",
        "\n",
        "print(homework_and_next_steps)"
      ],
      "metadata": {
        "colab": {
          "base_uri": "https://localhost:8080/"
        },
        "id": "3d2d-ZZsrHbr",
        "outputId": "0b5e8a4c-2d28-4713-e747-bd789a336f7e"
      },
      "execution_count": 89,
      "outputs": [
        {
          "output_type": "stream",
          "name": "stdout",
          "text": [
            "\n",
            "【本周作业】\n",
            "1. 完成3个实际工作邮件的AI处理练习\n",
            "2. 用AI分析一组真实的工作数据（订单、价格、质量等）\n",
            "3. 建立个人Prompt模板库（包含5-10个常用场景）\n",
            "4. 尝试用AI生成一份工作报告\n",
            "\n",
            "【1个月学习规划】\n",
            "- 第2周：Python基础语法，数据处理入门\n",
            "- 第3周：API集成，自动化工作流\n",
            "- 第4周：高级分析技巧，预测模型基础\n",
            "\n",
            "【3个月目标】\n",
            "- 建立完整的AI工作助手系统\n",
            "- 实现供应链关键环节的自动化\n",
            "- 掌握基本的数据科学技能\n",
            "\n",
            "【推荐资源】\n",
            "1. Anthropic Claude文档\n",
            "2. Python数据分析教程\n",
            "3. 供应链管理在线课程\n",
            "4. GitHub开源项目参考\n",
            "\n"
          ]
        }
      ]
    },
    {
      "cell_type": "markdown",
      "source": [
        "### 个人学习计划制定\n"
      ],
      "metadata": {
        "id": "IwKShCwqrPoa"
      }
    },
    {
      "cell_type": "code",
      "source": [
        "def create_personal_plan():\n",
        "    \"\"\"帮助制定个人学习计划\"\"\"\n",
        "\n",
        "    planning_prompt = \"\"\"\n",
        "    作为AI学习规划师，请帮Josie制定个人化的学习计划：\n",
        "\n",
        "    背景信息：\n",
        "    - 职业：供应链管理\n",
        "    - 编程基础：零基础\n",
        "    - 学习目标：将AI应用到日常工作\n",
        "    - 时间投入：每周5-8小时\n",
        "    - 优先需求：邮件处理、数据分析、报告生成\n",
        "\n",
        "    请提供：\n",
        "    1. 4周详细学习计划\n",
        "    2. 每周具体学习目标和任务\n",
        "    3. 推荐的学习资源\n",
        "    4. 实践项目建议\n",
        "    5. 进度评估方法\n",
        "\n",
        "    计划要实用、可执行、循序渐进。\n",
        "    \"\"\"\n",
        "\n",
        "    personal_plan = call_claude(planning_prompt)\n",
        "    return personal_plan\n",
        "\n",
        "print(\"=== 个人学习计划 ===\")\n",
        "plan = create_personal_plan()\n",
        "print(plan)\n",
        "\n",
        "print(\"\\n\" + \"=\"*50)\n",
        "print(\"恭喜完成AI供应链管理工具入门课程！\")\n",
        "print(\"记住：AI是工具，关键是学会提出正确的问题。\")\n",
        "print(\"继续练习，你很快就能成为AI驱动的供应链专家！\")"
      ],
      "metadata": {
        "colab": {
          "base_uri": "https://localhost:8080/"
        },
        "id": "pzHQ67gNrSWG",
        "outputId": "8cf81b5b-fb1e-4d06-e7f3-8778763374e0"
      },
      "execution_count": 90,
      "outputs": [
        {
          "output_type": "stream",
          "name": "stdout",
          "text": [
            "=== 个人学习计划 ===\n",
            "基于您的背景和需求，我为您制定了一个循序渐进的4周学习计划：\n",
            "\n",
            "第1周：AI基础认知与邮件处理\n",
            "- 学习目标：\n",
            "  * 了解AI基础概念\n",
            "  * 掌握ChatGPT基本使用\n",
            "  * 学习AI辅助邮件处理\n",
            "- 具体任务：\n",
            "  * 观看AI入门视频 (2小时)\n",
            "  * 注册并熟悉ChatGPT (2小时)\n",
            "  * 练习用AI优化邮件写作 (3小时)\n",
            "- 实践项目：\n",
            "  * 用AI处理5封工作邮件\n",
            "  * 创建邮件模板库\n",
            "\n",
            "第2周：数据分析基础\n",
            "- 学习目标：\n",
            "  * 学习Excel与AI结合\n",
            "  * 掌握基础数据处理\n",
            "- 具体任务：\n",
            "  * 学习Excel数据分析功能 (3小时)\n",
            "  * 练习用AI生成Excel公式 (2小时)\n",
            "  * 数据可视化基础 (3小时)\n",
            "- 实践项目：\n",
            "  * 处理一份供应链数据\n",
            "  * 生成数据分析图表\n",
            "\n",
            "第3周：报告生成与优化\n",
            "- 学习目标：\n",
            "  * 掌握AI辅助报告写作\n",
            "  * 学习数据可视化展示\n",
            "- 具体任务：\n",
            "  * 学习报告结构设计 (2小时)\n",
            "  * 练习用AI生成报告 (3小时)\n",
            "  * 报告美化与排版 (3小时)\n",
            "- 实践项目：\n",
            "  * 完成一份供应链月度报告\n",
            "\n",
            "第4周：工作流程自动化\n",
            "- 学习目标：\n",
            "  * 整合AI到日常工作\n",
            "  * 建立个性化工作流\n",
            "- 具体任务：\n",
            "  * 学习常用AI工具集成 (3小时)\n",
            "  * 工作流程优化 (3小时)\n",
            "  * 总结与复习 (2小时)\n",
            "- 实践项目：\n",
            "  * 设计个人AI工作流程\n",
            "  * 完成一个完整的项目\n",
            "\n",
            "推荐学习资源：\n",
            "1. ChatGPT官方教程\n",
            "2. LinkedIn Learning的Excel课程\n",
            "3. Coursera的数据分析入门课程\n",
            "4. YouTube上的AI应用教学视频\n",
            "\n",
            "进度评估方法：\n",
            "1. 周任务完成检查表\n",
            "2. 实践项目成果评估\n",
            "3. 工作效率提升测量\n",
            "4. 每周学习总结记录\n",
            "\n",
            "建议：\n",
            "1. 建立学习笔记系统\n",
            "2. 保存常用AI提示词\n",
            "3. 多实践、多应用\n",
            "4. 与同事分享学习成果\n",
            "\n",
            "需要调整或有任何问题都可以随时提出，祝学习顺利！\n",
            "\n",
            "==================================================\n",
            "恭喜完成AI供应链管理工具入门课程！\n",
            "记住：AI是工具，关键是学会提出正确的问题。\n",
            "继续练习，你很快就能成为AI驱动的供应链专家！\n"
          ]
        }
      ]
    },
    {
      "cell_type": "markdown",
      "source": [
        "## 附录：常用代码模板\n",
        "\n",
        "### Claude API调用模板\n",
        "\n",
        "```python\n",
        "# 基础调用模板\n",
        "def claude_call_template(system_message, user_message, max_tokens=1000):\n",
        "    \"\"\"标准Claude API调用模板\"\"\"\n",
        "    try:\n",
        "        message = client.messages.create(\n",
        "            model=\"claude-3-sonnet-20240229\",\n",
        "            max_tokens=max_tokens,\n",
        "            system=system_message,\n",
        "            messages=[{\"role\": \"user\", \"content\": user_message}]\n",
        "        )\n",
        "        return message.content[0].text\n",
        "    except Exception as e:\n",
        "        return f\"API调用失败: {str(e)}\"\n",
        "\n",
        "# 使用示例\n",
        "system_msg = \"你是专业的供应链顾问\"\n",
        "user_msg = \"请分析铜价上涨对电子制造业的影响\"\n",
        "result = claude_call_template(system_msg, user_msg)\n",
        "print(\"API调用结果：\", result[:100] + \"...\")\n",
        "```\n",
        "\n",
        "### 数据可视化模板\n",
        "\n",
        "```python\n",
        "def create_supply_chain_dashboard(data):\n",
        "    \"\"\"创建供应链数据看板\"\"\"\n",
        "    fig, axes = plt.subplots(2, 2, figsize=(15, 10))\n",
        "    \n",
        "    # 订单趋势\n",
        "    axes[0,0].plot(data['week'], data['orders'], marker='o')\n",
        "    axes[0,0].set_title('订单量趋势')\n",
        "    axes[0,0].grid(True)\n",
        "    \n",
        "    # 价格变化\n",
        "    axes[0,1].plot(data['week'], data['copper_price'], marker='s', color='orange')\n",
        "    axes[0,1].set_title('铜价变化')\n",
        "    axes[0,1].grid(True)\n",
        "    \n",
        "    # 订单分布\n",
        "    axes[1,0].hist(data['orders'], bins=10, alpha=0.7, color='skyblue')\n",
        "    axes[1,0].set_title('订单量分布')\n",
        "    \n",
        "    # 价格分布\n",
        "    axes[1,1].hist(data['copper_price'], bins=10, alpha=0.7, color='lightcoral')\n",
        "    axes[1,1].set_title('价格分布')\n",
        "    \n",
        "    plt.tight_layout()\n",
        "    plt.show()\n",
        "\n",
        "# 创建看板\n",
        "create_supply_chain_dashboard(supply_data)\n",
        "```"
      ],
      "metadata": {
        "id": "yFhfDcQg1f40"
      }
    }
  ]
}