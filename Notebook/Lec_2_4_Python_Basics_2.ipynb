{
  "nbformat": 4,
  "nbformat_minor": 0,
  "metadata": {
    "colab": {
      "provenance": [],
      "collapsed_sections": [
        "GLVG-WO8zQnR",
        "71415744",
        "f7a2a42d"
      ],
      "mount_file_id": "13B2iMJq87b4HRQrUAeLZjtywSTG5lNpC",
      "authorship_tag": "ABX9TyMhmhTlh4xAYFJLByp0Hh1o",
      "include_colab_link": true
    },
    "kernelspec": {
      "name": "python3",
      "display_name": "Python 3"
    },
    "language_info": {
      "name": "python"
    }
  },
  "cells": [
    {
      "cell_type": "markdown",
      "metadata": {
        "id": "view-in-github",
        "colab_type": "text"
      },
      "source": [
        "<a href=\"https://colab.research.google.com/github/XTMay/Python_Beginner/blob/main/Notebook/Lec_2_4_Python_Basics_2.ipynb\" target=\"_parent\"><img src=\"https://colab.research.google.com/assets/colab-badge.svg\" alt=\"Open In Colab\"/></a>"
      ]
    },
    {
      "cell_type": "markdown",
      "source": [
        "# Python 数据科学基础：数据结构"
      ],
      "metadata": {
        "id": "zXObiq7rcpIK"
      }
    },
    {
      "cell_type": "markdown",
      "source": [
        "**目标**：掌握 Python 中常用的数据结构：列表 (List)、字典 (Dictionary)、元组 (Tuple) 和集合 (Set)，理解它们的特点、基本操作、性能及适用场景，为后续的数据处理和分析打下基础。\n",
        "\n",
        "## 📚 课程提纲\n",
        "\n",
        "*   1 变量与基本数据类型 (已完成)\n",
        "*   2 常见数据结构\n",
        "    *   列表 (List)\n",
        "    *   字典 (Dictionary)\n",
        "    *   元组 (Tuple)\n",
        "    *   集合 (Set)\n",
        "\n",
        "---\n",
        "\n",
        "## 列表 (List)\n",
        "\n",
        "列表是 Python 中最常用的一种数据结构，用于存储一系列有序的元素。\n",
        "\n",
        "### 概念与特点\n",
        "\n",
        "*   **有序 (Ordered)**: 列表中的元素按照插入顺序排列，可以通过索引访问。\n",
        "*   **可变 (Mutable)**: 列表创建后，可以修改、添加或删除元素。\n",
        "*   **允许重复元素 (Allows Duplicates)**: 列表中可以包含相同的元素。\n",
        "*   **异构 (Heterogeneous)**: 列表中可以存储不同数据类型的元素（如整数、字符串、浮点数、布尔值等）。\n",
        "\n",
        "### 基本语法\n",
        "\n",
        "列表使用方括号 `[]` 定义，元素之间用逗号 `,` 分隔。\n",
        "\n",
        "*   创建空列表：`my_list = []`\n",
        "*   创建包含元素的列表：`my_list = [1, \"hello\", 3.14, True]`\n",
        "\n",
        "### 常用方法表\n",
        "\n",
        "| 方法/操作         | 描述                                       | 示例                                     |\n",
        "|-----------------|--------------------------------------------|------------------------------------------|\n",
        "| `append(item)`    | 在列表末尾添加一个元素                      | `my_list.append(5)`                      |\n",
        "| `extend(iterable)`| 在列表末尾添加另一个可迭代对象的所有元素   | `my_list.extend([6, 7])`                 |\n",
        "| `insert(index, item)`| 在指定索引位置插入一个元素                 | `my_list.insert(1, \"world\")`             |\n",
        "| `remove(item)`    | 删除列表中第一个匹配的元素                 | `my_list.remove(\"hello\")`                |\n",
        "| `pop([index])`    | 删除并返回指定索引（默认为最后一个）的元素 | `last_item = my_list.pop()`              |\n",
        "| `index(item, [start, end])`| 返回第一个匹配元素的索引                  | `index_of_hello = my_list.index(\"world\")`|\n",
        "| `count(item)`     | 返回元素在列表中出现的次数                 | `count_of_one = my_list.count(1)`        |\n",
        "| `sort()`          | 对列表进行原地排序（升序或降序）           | `my_list.sort()`                         |\n",
        "| `reverse()`       | 反转列表中的元素（原地操作）               | `my_list.reverse()`                      |\n",
        "| `len(list)`       | 返回列表的元素个数                          | `list_length = len(my_list)`             |\n",
        "| `list[index]`     | 访问指定索引的元素                         | `first_item = my_list[0]`                |\n",
        "| `list[start:end:step]`| 列表切片，获取子列表                       | `sub_list = my_list[1:3]`                |"
      ],
      "metadata": {
        "id": "iLRnJg256Okc"
      }
    },
    {
      "cell_type": "markdown",
      "metadata": {
        "id": "2bb3efa0"
      },
      "source": [
        "## 列表 (List)\n",
        "\n",
        "列表是 Python 中最常用的一种数据结构，用于存储一系列有序的元素。\n",
        "\n",
        "### 概念与特点\n",
        "\n",
        "* **有序 (Ordered)**: 列表中的元素按照插入顺序排列，可以通过索引访问。\n",
        "* **可变 (Mutable)**: 列表创建后，可以修改、添加或删除元素。\n",
        "* **允许重复元素 (Allows Duplicates)**: 列表中可以包含相同的元素。\n",
        "* **异构 (Heterogeneous)**: 列表中可以存储不同数据类型的元素（如整数、字符串、浮点数、布尔值等）。\n",
        "\n",
        "### 基本语法\n",
        "\n",
        "列表使用方括号 `[]` 定义，元素之间用逗号 `,` 分隔。\n",
        "\n",
        "* 创建空列表：`my_list = []`\n",
        "* 创建包含元素的列表：`my_list = [1, \"hello\", 3.14, True]`"
      ]
    },
    {
      "cell_type": "markdown",
      "source": [
        "### 常用方法表\n",
        "\n",
        "| 方法/操作              | 描述                                      | 示例                                      |\n",
        "|------------------------|-------------------------------------------|-------------------------------------------|\n",
        "| `append(item)`         | 在列表末尾添加一个元素                     | `my_list.append(5)`                        |\n",
        "| `extend(iterable)`     | 在列表末尾添加另一个可迭代对象的所有元素   | `my_list.extend([6, 7])`                   |\n",
        "| `insert(index, item)`  | 在指定索引位置插入一个元素                 | `my_list.insert(1, \"world\")`               |\n",
        "| `remove(item)`         | 删除列表中第一个匹配的元素                 | `my_list.remove(\"hello\")`                  |\n",
        "| `pop([index])`         | 删除并返回指定索引（默认为最后一个）的元素 | `last_item = my_list.pop()`                |\n",
        "| `index(item, [start, end])` | 返回第一个匹配元素的索引                | `index_of_hello = my_list.index(\"world\")`  |\n",
        "| `count(item)`          | 返回元素在列表中出现的次数                 | `count_of_one = my_list.count(1)`          |\n",
        "| `sort()`               | 对列表进行原地排序（升序或降序）          | `my_list.sort()`                           |\n",
        "| `reverse()`            | 反转列表中的元素（原地操作）              | `my_list.reverse()`                        |\n",
        "| `len(list)`            | 返回列表的元素个数                         | `list_length = len(my_list)`               |\n",
        "| `list[index]`          | 访问指定索引的元素                         | `first_item = my_list[0]`                  |\n",
        "| `list[start:end:step]` | 列表切片，获取子列表                       | `sub_list = my_list[1:3]`                  |"
      ],
      "metadata": {
        "id": "hF4MRALxx9yk"
      }
    },
    {
      "cell_type": "code",
      "source": [
        "# 创建列表\n",
        "my_list = [1, 2, 3, 4, 5]\n",
        "print(\"原始列表:\", my_list)"
      ],
      "metadata": {
        "colab": {
          "base_uri": "https://localhost:8080/"
        },
        "id": "HJ1tKbwfyB8k",
        "outputId": "4200a50d-9e1a-4a0a-d6f2-94fd172401bb"
      },
      "execution_count": 95,
      "outputs": [
        {
          "output_type": "stream",
          "name": "stdout",
          "text": [
            "原始列表: [1, 2, 3, 4, 5]\n"
          ]
        }
      ]
    },
    {
      "cell_type": "code",
      "source": [
        "# 元素访问（通过索引）\n",
        "first_element = my_list[3]\n",
        "print(\"第一个元素:\", first_element)"
      ],
      "metadata": {
        "colab": {
          "base_uri": "https://localhost:8080/"
        },
        "id": "SYDCXx1NyFvk",
        "outputId": "7e4da0cc-49d8-47fb-a5bf-607877bb1cec"
      },
      "execution_count": 96,
      "outputs": [
        {
          "output_type": "stream",
          "name": "stdout",
          "text": [
            "第一个元素: 4\n"
          ]
        }
      ]
    },
    {
      "cell_type": "code",
      "source": [
        "last_element = my_list[-3]\n",
        "print(\"最后一个元素:\", last_element)"
      ],
      "metadata": {
        "colab": {
          "base_uri": "https://localhost:8080/"
        },
        "id": "_Q0ZHs8byIqy",
        "outputId": "4674c94a-1663-4c6d-8fdd-999a0fc44ee6"
      },
      "execution_count": 98,
      "outputs": [
        {
          "output_type": "stream",
          "name": "stdout",
          "text": [
            "最后一个元素: 3\n"
          ]
        }
      ]
    },
    {
      "cell_type": "code",
      "source": [
        "# 元素访问（通过切片）\n",
        "sub_list = my_list[1:4] # 索引 1 到 4 (不包含 4), start : end ---> start <= index < end\n",
        "print(\"切片 [1:4]:\", sub_list)"
      ],
      "metadata": {
        "colab": {
          "base_uri": "https://localhost:8080/"
        },
        "id": "fW8XfUpHyKty",
        "outputId": "7823a98d-32e2-4d48-bf39-e2ed2b33513e"
      },
      "execution_count": 99,
      "outputs": [
        {
          "output_type": "stream",
          "name": "stdout",
          "text": [
            "切片 [1:4]: [2, 3, 4]\n"
          ]
        }
      ]
    },
    {
      "cell_type": "code",
      "source": [
        "my_list_2 = [\"TEXT\", 89, 0.123, \"APPLE\", True, False]"
      ],
      "metadata": {
        "id": "CySRJfvXWHbo"
      },
      "execution_count": 100,
      "outputs": []
    },
    {
      "cell_type": "code",
      "source": [
        "my_list_2[3:5]"
      ],
      "metadata": {
        "colab": {
          "base_uri": "https://localhost:8080/"
        },
        "id": "emBJDbVwWOwp",
        "outputId": "88a453f0-7f40-4b5a-d0be-9f857e3c585b"
      },
      "execution_count": 101,
      "outputs": [
        {
          "output_type": "execute_result",
          "data": {
            "text/plain": [
              "['APPLE', True]"
            ]
          },
          "metadata": {},
          "execution_count": 101
        }
      ]
    },
    {
      "cell_type": "code",
      "source": [
        "my_list_2[::3]"
      ],
      "metadata": {
        "colab": {
          "base_uri": "https://localhost:8080/"
        },
        "id": "V75lQbw6WbqA",
        "outputId": "8604abc3-c3ef-43b3-bb26-4c83e0adacc6"
      },
      "execution_count": 104,
      "outputs": [
        {
          "output_type": "execute_result",
          "data": {
            "text/plain": [
              "['TEXT', 'APPLE']"
            ]
          },
          "metadata": {},
          "execution_count": 104
        }
      ]
    },
    {
      "cell_type": "code",
      "source": [
        "my_list"
      ],
      "metadata": {
        "colab": {
          "base_uri": "https://localhost:8080/"
        },
        "id": "S5Fg3UREXNO3",
        "outputId": "917432ce-85c6-4ba8-f249-207fd0d5f1aa"
      },
      "execution_count": 107,
      "outputs": [
        {
          "output_type": "execute_result",
          "data": {
            "text/plain": [
              "[1, 2, 3, 4, 5]"
            ]
          },
          "metadata": {},
          "execution_count": 107
        }
      ]
    },
    {
      "cell_type": "code",
      "source": [
        "my_list[1:4]"
      ],
      "metadata": {
        "colab": {
          "base_uri": "https://localhost:8080/"
        },
        "id": "LgtZ9I5uXhGg",
        "outputId": "c22bede0-744c-4970-b354-4db4d012f9a2"
      },
      "execution_count": 108,
      "outputs": [
        {
          "output_type": "execute_result",
          "data": {
            "text/plain": [
              "[2, 3, 4]"
            ]
          },
          "metadata": {},
          "execution_count": 108
        }
      ]
    },
    {
      "cell_type": "code",
      "source": [
        "new_list = my_list[1:4:2]"
      ],
      "metadata": {
        "id": "LpC4hwyQYRga"
      },
      "execution_count": 115,
      "outputs": []
    },
    {
      "cell_type": "code",
      "source": [
        "my_list[1:4:2][1:2]"
      ],
      "metadata": {
        "colab": {
          "base_uri": "https://localhost:8080/"
        },
        "id": "O9w9IPefXr-4",
        "outputId": "c9570ea1-c61c-4a67-d5a0-5b5554e41c7d"
      },
      "execution_count": 119,
      "outputs": [
        {
          "output_type": "execute_result",
          "data": {
            "text/plain": [
              "[4]"
            ]
          },
          "metadata": {},
          "execution_count": 119
        }
      ]
    },
    {
      "cell_type": "code",
      "source": [
        "sub_list_step = my_list[1:4:2] # 每隔一个元素\n",
        "print(\"切片 [1:4:2]:\", sub_list_step)"
      ],
      "metadata": {
        "colab": {
          "base_uri": "https://localhost:8080/"
        },
        "id": "wW25pEETyQ2P",
        "outputId": "f623a5ec-912b-4c00-c827-f5fa595baa69"
      },
      "execution_count": 110,
      "outputs": [
        {
          "output_type": "stream",
          "name": "stdout",
          "text": [
            "切片 [1:4:2]: [2, 4]\n"
          ]
        }
      ]
    },
    {
      "cell_type": "code",
      "source": [
        "my_list = [1, 2, 3, 4, 5]"
      ],
      "metadata": {
        "id": "Ddds8mxcX2hW"
      },
      "execution_count": 134,
      "outputs": []
    },
    {
      "cell_type": "code",
      "source": [
        "my_list"
      ],
      "metadata": {
        "colab": {
          "base_uri": "https://localhost:8080/"
        },
        "id": "crlHQQKBY22Q",
        "outputId": "e7ef7472-5086-4f4a-c20b-18740739050a"
      },
      "execution_count": 135,
      "outputs": [
        {
          "output_type": "execute_result",
          "data": {
            "text/plain": [
              "[1, 2, 3, 4, 5]"
            ]
          },
          "metadata": {},
          "execution_count": 135
        }
      ]
    },
    {
      "cell_type": "code",
      "source": [
        "# 元素修改\n",
        "my_list[-2] = 99\n",
        "print(\"修改第一个元素后:\", my_list)"
      ],
      "metadata": {
        "colab": {
          "base_uri": "https://localhost:8080/"
        },
        "id": "i2uyAT1DyUDf",
        "outputId": "9869f727-c109-45be-9cce-3137cf5733e4"
      },
      "execution_count": 128,
      "outputs": [
        {
          "output_type": "stream",
          "name": "stdout",
          "text": [
            "修改第一个元素后: [10, 2, 3, 99, 5]\n"
          ]
        }
      ]
    },
    {
      "cell_type": "code",
      "source": [
        "# 元素添加\n",
        "my_list.append(222) # 在末尾添加\n",
        "print(\"使用 append 添加元素后:\", my_list)"
      ],
      "metadata": {
        "colab": {
          "base_uri": "https://localhost:8080/"
        },
        "id": "-v6jZxI7ypPN",
        "outputId": "87f02083-a462-45c4-da8b-d553096cffdc"
      },
      "execution_count": 130,
      "outputs": [
        {
          "output_type": "stream",
          "name": "stdout",
          "text": [
            "使用 append 添加元素后: [10, 2, 3, 99, 5, 6, 222]\n"
          ]
        }
      ]
    },
    {
      "cell_type": "code",
      "source": [
        "my_list"
      ],
      "metadata": {
        "colab": {
          "base_uri": "https://localhost:8080/"
        },
        "id": "8QuGrHuHZQck",
        "outputId": "171d3b24-6ce8-4de1-cd96-f8c54b96b0de"
      },
      "execution_count": 131,
      "outputs": [
        {
          "output_type": "execute_result",
          "data": {
            "text/plain": [
              "[10, 2, 3, 99, 5, 6, 222]"
            ]
          },
          "metadata": {},
          "execution_count": 131
        }
      ]
    },
    {
      "cell_type": "code",
      "source": [
        "my_list.extend([7, 8, 199, 233, 445]) # 添加多个元素\n",
        "print(\"使用 extend 添加元素后:\", my_list)"
      ],
      "metadata": {
        "colab": {
          "base_uri": "https://localhost:8080/"
        },
        "id": "gtSeSnspyqwF",
        "outputId": "619d07c3-4284-43c7-d08e-2f426234e46c"
      },
      "execution_count": 133,
      "outputs": [
        {
          "output_type": "stream",
          "name": "stdout",
          "text": [
            "使用 extend 添加元素后: [10, 2, 3, 99, 5, 6, 222, 7, 8, 7, 8, 199, 233, 445]\n"
          ]
        }
      ]
    },
    {
      "cell_type": "code",
      "source": [
        "my_list"
      ],
      "metadata": {
        "colab": {
          "base_uri": "https://localhost:8080/"
        },
        "id": "0RnxwnHnZpG8",
        "outputId": "be31bd83-7ce6-4719-e778-21aff06ad46b"
      },
      "execution_count": 142,
      "outputs": [
        {
          "output_type": "execute_result",
          "data": {
            "text/plain": [
              "[1, 99, 2, 3.14, 4, 5]"
            ]
          },
          "metadata": {},
          "execution_count": 142
        }
      ]
    },
    {
      "cell_type": "code",
      "source": [
        "my_list.insert(-2, 3.14) # 在索引 1 处插入\n",
        "print(\"使用 insert 添加元素后:\", my_list)"
      ],
      "metadata": {
        "colab": {
          "base_uri": "https://localhost:8080/"
        },
        "id": "W8oVcoIbyr1m",
        "outputId": "4e8c0ba0-3d44-4c59-f3a2-cb6fe9c73624"
      },
      "execution_count": 139,
      "outputs": [
        {
          "output_type": "stream",
          "name": "stdout",
          "text": [
            "使用 insert 添加元素后: [1, 99, 2, 3, 3.14, 4, 5]\n"
          ]
        }
      ]
    },
    {
      "cell_type": "code",
      "source": [
        "my_list.append(4)"
      ],
      "metadata": {
        "id": "lZzwW1tTaoBI"
      },
      "execution_count": 143,
      "outputs": []
    },
    {
      "cell_type": "code",
      "source": [
        "my_list"
      ],
      "metadata": {
        "colab": {
          "base_uri": "https://localhost:8080/"
        },
        "id": "2ZxEPWpaayaI",
        "outputId": "b3eb2951-06c9-4152-ef2b-7344d54c8180"
      },
      "execution_count": 146,
      "outputs": [
        {
          "output_type": "execute_result",
          "data": {
            "text/plain": [
              "[1, 99, 2, 3.14, 5, 4]"
            ]
          },
          "metadata": {},
          "execution_count": 146
        }
      ]
    },
    {
      "cell_type": "code",
      "source": [
        "# 元素删除\n",
        "my_list.remove(4) # 删除第一个匹配的 3\n",
        "print(\"使用 remove 删除元素 3 后:\", my_list)"
      ],
      "metadata": {
        "colab": {
          "base_uri": "https://localhost:8080/"
        },
        "id": "PtU82DtUyuT8",
        "outputId": "69731e02-5e0d-4d22-f677-07528b1ee50b"
      },
      "execution_count": 145,
      "outputs": [
        {
          "output_type": "stream",
          "name": "stdout",
          "text": [
            "使用 remove 删除元素 3 后: [1, 99, 2, 3.14, 5, 4]\n"
          ]
        }
      ]
    },
    {
      "cell_type": "code",
      "source": [
        "popped_item = my_list.pop() # 删除并返回最后一个元素\n",
        "print(\"使用 pop 删除最后一个元素后:\", my_list)\n",
        "print(\"被删除的元素:\", popped_item)"
      ],
      "metadata": {
        "colab": {
          "base_uri": "https://localhost:8080/"
        },
        "id": "uEVb7ONoyvzA",
        "outputId": "e2874d54-48bc-4fea-90a4-6cf5e234d2e0"
      },
      "execution_count": 147,
      "outputs": [
        {
          "output_type": "stream",
          "name": "stdout",
          "text": [
            "使用 pop 删除最后一个元素后: [1, 99, 2, 3.14, 5]\n",
            "被删除的元素: 4\n"
          ]
        }
      ]
    },
    {
      "cell_type": "code",
      "source": [
        "name = ['Alice', 'May', 'John', 'Jupyter']\n",
        "name"
      ],
      "metadata": {
        "colab": {
          "base_uri": "https://localhost:8080/"
        },
        "id": "IHTUU4v_bS_h",
        "outputId": "2dcd3d47-6a70-4639-9f51-9e4e2121153a"
      },
      "execution_count": 148,
      "outputs": [
        {
          "output_type": "execute_result",
          "data": {
            "text/plain": [
              "['Alice', 'May', 'John', 'Jupyter']"
            ]
          },
          "metadata": {},
          "execution_count": 148
        }
      ]
    },
    {
      "cell_type": "code",
      "source": [
        "popped_item = name.pop()"
      ],
      "metadata": {
        "id": "h8VgXYXKba4v"
      },
      "execution_count": 149,
      "outputs": []
    },
    {
      "cell_type": "code",
      "source": [
        "popped_item"
      ],
      "metadata": {
        "colab": {
          "base_uri": "https://localhost:8080/",
          "height": 35
        },
        "id": "xgIzYv52bdBe",
        "outputId": "e2cf9d79-689d-42fd-bee9-0304b2440758"
      },
      "execution_count": 150,
      "outputs": [
        {
          "output_type": "execute_result",
          "data": {
            "text/plain": [
              "'Jupyter'"
            ],
            "application/vnd.google.colaboratory.intrinsic+json": {
              "type": "string"
            }
          },
          "metadata": {},
          "execution_count": 150
        }
      ]
    },
    {
      "cell_type": "code",
      "source": [
        "name"
      ],
      "metadata": {
        "colab": {
          "base_uri": "https://localhost:8080/"
        },
        "id": "8s86B7nWbnlh",
        "outputId": "bc2a59ac-f996-46b0-ae4f-291b6681acdd"
      },
      "execution_count": 151,
      "outputs": [
        {
          "output_type": "execute_result",
          "data": {
            "text/plain": [
              "['Alice', 'May', 'John']"
            ]
          },
          "metadata": {},
          "execution_count": 151
        }
      ]
    },
    {
      "cell_type": "code",
      "source": [
        "popped_item_index = my_list.pop(1) # 删除并返回索引 1 的元素\n",
        "print(\"使用 pop(1) 删除索引 1 的元素后:\", my_list)\n",
        "print(\"被删除的元素:\", popped_item_index)"
      ],
      "metadata": {
        "id": "a3eubzI-yxDd"
      },
      "execution_count": null,
      "outputs": []
    },
    {
      "cell_type": "code",
      "source": [
        "# 查找元素\n",
        "index_of_4 = my_list.index(4)\n",
        "print(\"元素 4 的索引:\", index_of_4)"
      ],
      "metadata": {
        "id": "43S8FDBRyzh1"
      },
      "execution_count": null,
      "outputs": []
    },
    {
      "cell_type": "code",
      "source": [
        "count_of_1 = my_list.count(1)\n",
        "print(\"元素 1 出现的次数:\", count_of_1)"
      ],
      "metadata": {
        "id": "P6Lxqa7ey0oR"
      },
      "execution_count": null,
      "outputs": []
    },
    {
      "cell_type": "code",
      "source": [
        "# 排序\n",
        "sort_list = [5, 2, 8, 1, 9]\n",
        "print(\"原始待排序列表:\", sort_list)"
      ],
      "metadata": {
        "id": "6tjp2898y2ZS"
      },
      "execution_count": null,
      "outputs": []
    },
    {
      "cell_type": "code",
      "source": [
        "sort_list.sort() # 默认升序\n",
        "print(\"使用 sort() 排序后:\", sort_list)"
      ],
      "metadata": {
        "id": "nPBVfGrsy3oc"
      },
      "execution_count": null,
      "outputs": []
    },
    {
      "cell_type": "code",
      "source": [
        "sort_list.sort(reverse=True) # 降序\n",
        "print(\"使用 sort(reverse=True) 排序后:\", sort_list)"
      ],
      "metadata": {
        "id": "BwgfO-6Qy4rd"
      },
      "execution_count": null,
      "outputs": []
    },
    {
      "cell_type": "code",
      "source": [
        "# 反转\n",
        "reverse_list = [1, 2, 3, 4, 5]\n",
        "print(\"原始待反转列表:\", reverse_list)"
      ],
      "metadata": {
        "id": "hhkYNR_6y6em"
      },
      "execution_count": null,
      "outputs": []
    },
    {
      "cell_type": "code",
      "source": [
        "reverse_list.reverse()\n",
        "print(\"使用 reverse() 反转后:\", reverse_list)"
      ],
      "metadata": {
        "id": "vbaQbeyWy71-"
      },
      "execution_count": null,
      "outputs": []
    },
    {
      "cell_type": "code",
      "source": [
        "# 长度获取\n",
        "list_length = len(my_list)\n",
        "print(\"列表的长度:\", list_length)"
      ],
      "metadata": {
        "id": "eehojZDwy9bp"
      },
      "execution_count": null,
      "outputs": []
    },
    {
      "cell_type": "markdown",
      "metadata": {
        "id": "1feee2c7"
      },
      "source": [
        "### 时间复杂度总结\n",
        "\n",
        "了解列表操作的时间复杂度有助于编写更高效的代码。以下是一些常见操作的平均时间复杂度：\n",
        "\n",
        "| 操作                     | 时间复杂度    | 说明                                       |\n",
        "|--------------------------|-------------|--------------------------------------------|\n",
        "| 按索引访问 (`list[i]`)   | O(1)        | 直接通过内存地址访问，非常快                |\n",
        "| 修改元素 (`list[i] = x`) | O(1)        | 直接修改对应位置的元素                     |\n",
        "| 在末尾添加 (`append`)    | O(1)        | 通常情况下是 O(1)，偶尔需要扩容时是 O(n)     |\n",
        "| 在末尾添加多个 (`extend`) | O(k)       | k 是要添加的元素个数，通常情况下是 O(k)      |\n",
        "| 在头部插入 (`insert(0, x)`) | O(n)      | 需要移动所有现有元素                       |\n",
        "| 在中间插入 (`insert(i, x)`) | O(n)      | 需要移动插入点之后的所有元素                |\n",
        "| 在头部删除 (`pop(0)`)    | O(n)        | 需要移动所有剩余元素                       |\n",
        "| 在末尾删除 (`pop()`)     | O(1)        | 直接删除最后一个元素                       |\n",
        "| 删除指定元素 (`remove(x)`) | O(n)      | 需要查找元素（最坏情况 O(n)）并移动后续元素 |\n",
        "| 查找元素 (`index(x)`)    | O(n)        | 需要遍历列表查找元素（最坏情况 O(n)）       |\n",
        "| 计数元素 (`count(x)`)    | O(n)        | 需要遍历列表计数元素                       |\n",
        "| 排序 (`sort()`)           | O(n log n)  | 比较高效的排序算法                         |\n",
        "| 反转 (`reverse()`)        | O(n)       | 需要遍历列表并重新排列元素                  |\n",
        "| 获取长度 (`len(list)`)    | O(1)       | 列表对象直接存储了长度信息                 |\n",
        "| 切片 (`list[start:end]`)  | O(k)       | k 是切片中元素的个数                       |"
      ]
    },
    {
      "cell_type": "markdown",
      "source": [
        "### 常见错误\n",
        "\n",
        "1. **索引越界 (IndexError)**: 尝试访问不存在的索引。"
      ],
      "metadata": {
        "id": "GLVG-WO8zQnR"
      }
    },
    {
      "cell_type": "code",
      "source": [
        "my_list = [1, 2, 3]\n",
        "print(my_list[3]) # 会引发 IndexError"
      ],
      "metadata": {
        "id": "45CAQBuDzSpG"
      },
      "execution_count": null,
      "outputs": []
    },
    {
      "cell_type": "markdown",
      "source": [
        "**2.\t尝试修改元组或字符串中的元素:** 元组和字符串是不可变类型，不能通过索引修改其元素。"
      ],
      "metadata": {
        "id": "4jBh1EyHzWww"
      }
    },
    {
      "cell_type": "code",
      "source": [
        "my_tuple = (1, 2, 3)\n",
        "my_tuple[0] = 10 # 会引发 TypeError"
      ],
      "metadata": {
        "id": "ivPlJ2y0zaaW"
      },
      "execution_count": null,
      "outputs": []
    },
    {
      "cell_type": "code",
      "source": [
        "my_string = \"hello\"\n",
        "my_string[0] = \"H\" # 会引发 TypeError"
      ],
      "metadata": {
        "id": "hUjBNikUzccV"
      },
      "execution_count": null,
      "outputs": []
    },
    {
      "cell_type": "markdown",
      "source": [
        "**3.\t使用 remove() 删除不存在的元素:** 如果尝试删除列表中不存在的元素，会引发 ValueError。"
      ],
      "metadata": {
        "id": "eiUG1GCWzgLm"
      }
    },
    {
      "cell_type": "code",
      "source": [
        "my_list = [1, 2, 3]\n",
        "my_list.remove(4) # 会引发 ValueError"
      ],
      "metadata": {
        "id": "2fxl86bBzjAa"
      },
      "execution_count": null,
      "outputs": []
    },
    {
      "cell_type": "markdown",
      "source": [
        "**4.\t在循环中修改正在遍历的列表:** 可能导致意外行为或跳过元素。如果需要修改列表，可以遍历副本或使用 while 循环。"
      ],
      "metadata": {
        "id": "5asO2SCZzlkY"
      }
    },
    {
      "cell_type": "code",
      "source": [
        "my_list = [1, 2, 3, 4]\n",
        "for item in my_list:\n",
        "    if item % 2 == 0:\n",
        "        my_list.remove(item) # 可能导致跳过元素或错误"
      ],
      "metadata": {
        "id": "WVlqSzk0zpXZ"
      },
      "execution_count": null,
      "outputs": []
    },
    {
      "cell_type": "markdown",
      "metadata": {
        "id": "71415744"
      },
      "source": [
        "## 字典 (Dictionary)\n",
        "\n",
        "字典是 Python 中另一种非常重要的数据结构，用于存储**键值对 (key-value pairs)** 的集合。\n",
        "\n",
        "### 概念与特点\n",
        "\n",
        "* **无序 (Unordered)**: 在 Python 3.7+ 版本中，字典保持元素的插入顺序；在更早的版本中，字典是无序的。\n",
        "* **可变 (Mutable)**: 字典创建后，可以添加、修改或删除键值对。\n",
        "* **键是唯一的 (Keys are Unique)**: 字典中的键必须是唯一的，不能重复。如果添加了具有相同键的键值对，则后面的值会覆盖前面的值。\n",
        "* **键必须是不可变的 (Keys must be Immutable)**: 字典的键只能使用不可变的数据类型，如字符串、数字、元组。列表或集合等可变类型不能作为字典的键。\n",
        "* **值可以是任意类型 (Values can be any type)**: 字典的值可以是任意数据类型，包括其他字典、列表、元组等。\n",
        "\n",
        "### 基本语法\n",
        "\n",
        "字典使用花括号 `{}` 定义，每个键值对之间用逗号 `,` 分隔，键和值之间用冒号 `:` 分隔。\n",
        "\n",
        "* 创建空字典：`my_dict = {}`\n",
        "* 创建包含元素的字典：`my_dict = {\"name\": \"Alice\", \"age\": 28, \"city\": \"New York\"}`"
      ]
    },
    {
      "cell_type": "markdown",
      "metadata": {
        "id": "b5e387de"
      },
      "source": [
        "### 常用方法表\n",
        "\n",
        "| 方法/操作                  | 描述                                                                 | 示例                                                              |\n",
        "|----------------------------|--------------------------------------------------------------------|-------------------------------------------------------------------|\n",
        "| `dict[key]`               | 访问指定键的值                                                     | `value = my_dict[\"name\"]`                                         |\n",
        "| `dict[key] = value`       | 添加或修改指定键的键值对                                           | `my_dict[\"age\"] = 29`, `my_dict[\"job\"] = \"Engineer\"`              |\n",
        "| `dict.get(key, default)`  | 安全地访问指定键的值，如果键不存在返回 default (默认为 None)        | `city = my_dict.get(\"city\", \"Unknown\")`                           |\n",
        "| `dict.pop(key[, default])`| 删除指定键的键值对并返回其值，如果键不存在返回 default (默认为 KeyError) | `age = my_dict.pop(\"age\")`                                      |\n",
        "| `dict.popitem()`          | 删除并返回任意（通常是最后一个）键值对（Python 3.7+）             | `item = my_dict.popitem()`                                        |\n",
        "| `dict.keys()`             | 返回字典中所有键的视图对象                                         | `keys_view = my_dict.keys()`                                      |\n",
        "| `dict.values()`           | 返回字典中所有值的视图对象                                         | `values_view = my_dict.values()`                                  |\n",
        "| `dict.items()`            | 返回字典中所有键值对的视图对象                                     | `items_view = my_dict.items()`                                    |\n",
        "| `dict.update(iterable)`   | 使用来自另一个字典或键值对可迭代对象的键值对更新字典               | `my_dict.update({\"city\": \"London\", \"zip\": \"SW1A 0AA\"})`           |\n",
        "| `key in dict`             | 检查键是否存在于字典中                                             | `is_name_present = \"name\" in my_dict`                             |\n",
        "| `len(dict)`               | 返回字典中的键值对数量                                             | `dict_length = len(my_dict)`                                      |\n",
        "| `dict.clear()`            | 移除字典中的所有键值对                                             | `my_dict.clear()`                                                 |\n",
        "| `dict.copy()`             | 返回字典的浅拷贝                                                   | `dict_copy = my_dict.copy()`                                      |"
      ]
    },
    {
      "cell_type": "code",
      "source": [
        "# 创建字典\n",
        "person = {\"name\": \"Alice\", \"age\": 28, \"city\": \"New York\"}\n",
        "print(\"原始字典:\", person)"
      ],
      "metadata": {
        "id": "h3kKM0yb0NJQ"
      },
      "execution_count": null,
      "outputs": []
    },
    {
      "cell_type": "code",
      "source": [
        "# 访问元素 (通过键)\n",
        "name = person[\"name\"]\n",
        "print(\"姓名:\", name)"
      ],
      "metadata": {
        "id": "rHQ0bqiz0Ost"
      },
      "execution_count": null,
      "outputs": []
    },
    {
      "cell_type": "code",
      "source": [
        "age = person.get(\"age\") # 使用 get 方法，更安全\n",
        "print(\"年龄:\", age)"
      ],
      "metadata": {
        "id": "-KI73l0M0TPX"
      },
      "execution_count": null,
      "outputs": []
    },
    {
      "cell_type": "code",
      "source": [
        "# 添加新键值对\n",
        "person[\"job\"] = \"Data Scientist\"\n",
        "print(\"添加 'job' 后:\", person)"
      ],
      "metadata": {
        "id": "_l8bGADA0VLT"
      },
      "execution_count": null,
      "outputs": []
    },
    {
      "cell_type": "code",
      "source": [
        "# 修改键值对\n",
        "person[\"age\"] = 29\n",
        "print(\"修改 'age' 后:\", person)"
      ],
      "metadata": {
        "id": "-KSc9NGv0W_o"
      },
      "execution_count": null,
      "outputs": []
    },
    {
      "cell_type": "code",
      "source": [
        "# 删除键值对\n",
        "removed_city = person.pop(\"city\") # 删除并返回 'city' 键的值\n",
        "print(\"删除 'city' 后:\", person)\n",
        "print(\"被删除的城市:\", removed_city)"
      ],
      "metadata": {
        "id": "BXIPi4KM0Y77"
      },
      "execution_count": null,
      "outputs": []
    },
    {
      "cell_type": "code",
      "source": [
        "# 添加一个键值对用于 popitem 测试 (Python 3.7+ 保持插入顺序)\n",
        "person[\"country\"] = \"USA\"\n",
        "print(\"添加 'country' 用于 popitem 测试:\", person)"
      ],
      "metadata": {
        "id": "gL2cWUY80bE5"
      },
      "execution_count": null,
      "outputs": []
    },
    {
      "cell_type": "code",
      "source": [
        "# 删除任意键值对 (通常是最后一个，Python 3.7+)\n",
        "removed_item = person.popitem()\n",
        "print(\"使用 popitem 删除任意元素后:\", person)\n",
        "print(\"被删除的键值对:\", removed_item)"
      ],
      "metadata": {
        "id": "teHS9nyu0c2M"
      },
      "execution_count": null,
      "outputs": []
    },
    {
      "cell_type": "code",
      "source": [
        "# 获取键、值、键值对的视图\n",
        "keys_view = person.keys()\n",
        "print(\"键视图:\", keys_view)"
      ],
      "metadata": {
        "id": "8wvsXPqb0eqm"
      },
      "execution_count": null,
      "outputs": []
    },
    {
      "cell_type": "code",
      "source": [
        "values_view = person.values()\n",
        "print(\"值视图:\", values_view)"
      ],
      "metadata": {
        "id": "cg47z3qu0iQh"
      },
      "execution_count": null,
      "outputs": []
    },
    {
      "cell_type": "code",
      "source": [
        "items_view = person.items()\n",
        "print(\"键值对视图:\", items_view)"
      ],
      "metadata": {
        "id": "_wpI8WA10kzi"
      },
      "execution_count": null,
      "outputs": []
    },
    {
      "cell_type": "code",
      "source": [
        "# 更新字典\n",
        "person_update = {\"city\": \"London\", \"zip\": \"SW1A 0AA\"}\n",
        "person.update(person_update)\n",
        "print(\"使用 update 更新后:\", person)"
      ],
      "metadata": {
        "id": "SxlmTLJU0mel"
      },
      "execution_count": null,
      "outputs": []
    },
    {
      "cell_type": "code",
      "source": [
        "# 检查键是否存在\n",
        "is_name_present = \"name\" in person\n",
        "is_city_present = \"city\" in person\n",
        "is_salary_present = \"salary\" in person\n",
        "print(\"'name' 键是否存在:\", is_name_present)\n",
        "print(\"'city' 键是否存在:\", is_city_present)\n",
        "print(\"'salary' 键是否存在:\", is_salary_present)"
      ],
      "metadata": {
        "id": "q20EUIJZ0oUT"
      },
      "execution_count": null,
      "outputs": []
    },
    {
      "cell_type": "code",
      "source": [
        "# 遍历字典\n",
        "print(\"遍历字典的键:\")\n",
        "for key in person.keys(): # 或者直接 for key in person:\n",
        "    print(key)"
      ],
      "metadata": {
        "id": "0s1Qb1nz0qA4"
      },
      "execution_count": null,
      "outputs": []
    },
    {
      "cell_type": "code",
      "source": [
        "print(\"\\n遍历字典的值:\")\n",
        "for value in person.values():\n",
        "    print(value)"
      ],
      "metadata": {
        "id": "gL7VTyjZ0rKE"
      },
      "execution_count": null,
      "outputs": []
    },
    {
      "cell_type": "code",
      "source": [
        "print(\"\\n遍历字典的键值对:\")\n",
        "for key, value in person.items():\n",
        "    print(f\"{key}: {value}\")"
      ],
      "metadata": {
        "id": "pMRxLHYg0sKX"
      },
      "execution_count": null,
      "outputs": []
    },
    {
      "cell_type": "code",
      "source": [
        "# 长度获取\n",
        "dict_length = len(person)\n",
        "print(\"字典的长度:\", dict_length)"
      ],
      "metadata": {
        "id": "aK3CFf580tXI"
      },
      "execution_count": null,
      "outputs": []
    },
    {
      "cell_type": "code",
      "source": [
        "# 清空字典\n",
        "person.clear()\n",
        "print(\"清空字典后:\", person)"
      ],
      "metadata": {
        "id": "BmTQgbGe0vFi"
      },
      "execution_count": null,
      "outputs": []
    },
    {
      "cell_type": "code",
      "source": [
        "# 复制字典\n",
        "original_dict = {\"a\": 1, \"b\": 2}\n",
        "print(\"原始字典:\", original_dict)"
      ],
      "metadata": {
        "id": "NL3zsQS00yT4"
      },
      "execution_count": null,
      "outputs": []
    },
    {
      "cell_type": "code",
      "source": [
        "dict_copy = original_dict.copy()\n",
        "print(\"复制的字典:\", dict_copy)"
      ],
      "metadata": {
        "id": "21Bw0rSw0zZa"
      },
      "execution_count": null,
      "outputs": []
    },
    {
      "cell_type": "markdown",
      "metadata": {
        "id": "869aa2cc"
      },
      "source": [
        "### 时间复杂度总结\n",
        "\n",
        "理解字典操作的时间复杂度对于优化代码性能至关重要。以下是一些常见操作的平均时间复杂度：\n",
        "\n",
        "| 操作                                    | 平均时间复杂度 | 说明                                       |\n",
        "|----------------------------------------|----------------|--------------------------------------------|\n",
        "| 按键访问 (`dict[key]`)                  | O(1)           | 基于哈希表实现，平均查找速度快              |\n",
        "| 修改元素 (`dict[key] = x`)              | O(1)           | 基于哈希表实现，平均修改速度快              |\n",
        "| 添加元素 (`dict[key] = x`)              | O(1)           | 基于哈希表实现，平均添加速度快              |\n",
        "| 删除指定键 (`pop(key)`)                 | O(1)           | 基于哈希表实现，平均删除速度快              |\n",
        "| 删除任意项 (`popitem()`)                | O(1)           | 通常删除最后一个插入的项，平均速度快        |\n",
        "| 检查键是否存在 (`key in dict`)          | O(1)           | 基于哈希表实现，平均检查速度快              |\n",
        "| 获取长度 (`len(dict)`)                  | O(1)           | 字典对象直接存储了长度信息，非常快          |\n",
        "| 遍历键/值/项 (`keys()`, `values()`, `items()`) | O(n)           | 需要遍历字典中的所有元素，n 是元素数量    |\n",
        "| 更新字典 (`update()`)                   | O(k)           | k 是要更新的键值对数量，需要处理每个键值对 |\n",
        "\n",
        "**注意**: 以上时间复杂度是平均情况下的，最坏情况（例如哈希冲突严重）下某些操作可能达到 O(n)。但 Python 的字典实现采用了优化措施，使得最坏情况不常发生。"
      ]
    },
    {
      "cell_type": "markdown",
      "source": [
        "### 常见错误"
      ],
      "metadata": {
        "id": "ZvFBvVmu1gfI"
      }
    },
    {
      "cell_type": "markdown",
      "source": [
        "1.  **KeyError**: 尝试访问或删除字典中不存在的键。"
      ],
      "metadata": {
        "id": "I3fVy3Jk1h0B"
      }
    },
    {
      "cell_type": "code",
      "source": [
        "my_dict = {\"name\": \"Alice\"}\n",
        "print(my_dict[\"age\"]) # 会引发 KeyError\n",
        "my_dict.pop(\"city\")   # 会引发 KeyError"
      ],
      "metadata": {
        "id": "pBrffvm31jBn"
      },
      "execution_count": null,
      "outputs": []
    },
    {
      "cell_type": "markdown",
      "source": [
        "**解决方法**: 使用 `dict.get()` 方法安全访问，或者先使用 `key in dict` 检查键是否存在。"
      ],
      "metadata": {
        "id": "_CLMYGGC1ngl"
      }
    },
    {
      "cell_type": "markdown",
      "source": [
        "2.  **TypeError**: 使用可变类型（如列表、集合）作为字典的键。"
      ],
      "metadata": {
        "id": "iNdXyLPi1pG2"
      }
    },
    {
      "cell_type": "code",
      "source": [
        "my_list = [1, 2]\n",
        "my_dict = {my_list: \"test\"} # 会引发 TypeError"
      ],
      "metadata": {
        "id": "FxjxtjRT1qdp"
      },
      "execution_count": null,
      "outputs": []
    },
    {
      "cell_type": "markdown",
      "source": [
        "**解决方法**: 使用不可变类型（如字符串、数字、元组）作为字典的键。"
      ],
      "metadata": {
        "id": "-gUuDt3C1uQH"
      }
    },
    {
      "cell_type": "markdown",
      "source": [
        "3.  **修改视图对象时影响原字典**: `keys()`, `values()`, `items()` 返回的是视图对象，它们是动态的，对原字典的修改会反映在视图中。但不能直接修改视图对象本身。"
      ],
      "metadata": {
        "id": "c_HSTffC1wmW"
      }
    },
    {
      "cell_type": "code",
      "source": [
        "my_dict = {\"a\": 1, \"b\": 2}\n",
        "keys_view = my_dict.keys()\n",
        "keys_view.append(\"c\") # 会引发 AttributeError\n",
        "my_dict[\"c\"] = 3 # 修改原字典会影响视图\n",
        "print(keys_view) # 输出 dict_keys(['a', 'b', 'c'])"
      ],
      "metadata": {
        "id": "wo0PNCaP1yFZ"
      },
      "execution_count": null,
      "outputs": []
    },
    {
      "cell_type": "markdown",
      "source": [
        "4.  **在遍历字典时同时修改字典**: 在 for 循环中直接添加或删除字典中的项可能导致 `RuntimeError: dictionary changed size during iteration` 或其他意外行为。"
      ],
      "metadata": {
        "id": "OhUbpCKh130Q"
      }
    },
    {
      "cell_type": "code",
      "source": [
        "my_dict = {\"a\": 1, \"b\": 2, \"c\": 3}\n",
        "for key in my_dict:\n",
        "    if key == \"b\":\n",
        "        my_dict.pop(key) # 会引发 RuntimeError\n"
      ],
      "metadata": {
        "id": "259T1Hke15m6"
      },
      "execution_count": null,
      "outputs": []
    },
    {
      "cell_type": "code",
      "source": [
        "# 正确的做法是遍历字典的副本或 keys 的列表\n",
        "for key in list(my_dict.keys()):\n",
        "    if key == \"b\":\n",
        "        my_dict.pop(key)"
      ],
      "metadata": {
        "id": "RZN_mrd316iR"
      },
      "execution_count": null,
      "outputs": []
    },
    {
      "cell_type": "markdown",
      "source": [
        "5.  **复制字典时的浅拷贝**: 使用 `copy()` 方法进行的是浅拷贝，如果字典中的值是可变对象（如列表、字典），修改拷贝中的可变对象会影响原字典。"
      ],
      "metadata": {
        "id": "WVJkA6zi2Dv5"
      }
    },
    {
      "cell_type": "code",
      "source": [
        "original_dict = {\"a\": [1, 2], \"b\": 3}\n",
        "dict_copy = original_dict.copy()\n",
        "dict_copy[\"a\"].append(3)\n",
        "print(original_dict) # 输出 {\"a\": [1, 2, 3], \"b\": 3} - 原始字典被修改"
      ],
      "metadata": {
        "id": "Pth6Ys5R2FNr"
      },
      "execution_count": null,
      "outputs": []
    },
    {
      "cell_type": "markdown",
      "source": [
        "**解决方法**: 如果需要深度拷贝，使用 `import copy; copy.deepcopy(dict)`."
      ],
      "metadata": {
        "id": "n-qYtp9w2Hyd"
      }
    },
    {
      "cell_type": "markdown",
      "metadata": {
        "id": "f7a2a42d"
      },
      "source": [
        "## 元组 (Tuple)\n",
        "\n",
        "元组是 Python 中另一种有序的数据结构，与列表类似，但它是**不可变的 (Immutable)**。\n",
        "\n",
        "### 概念与特点\n",
        "\n",
        "* **有序 (Ordered)**: 元组中的元素按照插入顺序排列，可以通过索引访问。\n",
        "* **不可变 (Immutable)**: 元组创建后，不能修改、添加或删除元素。\n",
        "* **允许重复元素 (Allows Duplicates)**: 元组中可以包含相同的元素。\n",
        "* **异构 (Heterogeneous)**: 元组可以存储不同数据类型的元素。\n",
        "* **轻量级**: 由于不可变性，元组的操作通常比列表更快，且在某些情况下可以作为字典的键。\n",
        "\n",
        "### 基本语法\n",
        "\n",
        "元组使用圆括号 `()` 定义，元素之间用逗号 `,` 分隔。创建只包含一个元素的元组时，需要在元素后面加上逗号。\n",
        "\n",
        "* 创建空元组：`my_tuple = ()`\n",
        "* 创建包含元素的元组：`my_tuple = (1, \"hello\", 3.14)`\n",
        "* 创建单元素元组：`single_item_tuple = (5,)`\n",
        "* 创建元组（省略括号）：`another_tuple = 1, 2, 3`"
      ]
    },
    {
      "cell_type": "markdown",
      "metadata": {
        "id": "a6f4456e"
      },
      "source": [
        "### 常用方法表\n",
        "\n",
        "元组是不可变的，因此它提供的方法比列表少得多，主要用于查找和计数元素。\n",
        "\n",
        "| 方法/操作                 | 描述                                       | 示例                                       |\n",
        "|---------------------------|--------------------------------------------|--------------------------------------------|\n",
        "| `tuple[index]`            | 访问指定索引的元素                         | `element = my_tuple[0]`                    |\n",
        "| `tuple[start:end:step]`   | 元组切片，获取子元组                       | `sub_tuple = my_tuple[1:3]`                |\n",
        "| `tuple.index(item, [start, end])`| 返回第一个匹配元素的索引                  | `index_of_hello = my_tuple.index(\"hello\")` |\n",
        "| `tuple.count(item)`       | 返回元素在元组中出现的次数                 | `count_of_one = my_tuple.count(1)`         |\n",
        "| `len(tuple)`              | 返回元组的元素个数                          | `tuple_length = len(my_tuple)`             |\n",
        "| `item in tuple`           | 检查元素是否存在于元组中                     | `is_hello_present = \"hello\" in my_tuple`   |"
      ]
    },
    {
      "cell_type": "code",
      "source": [
        "# 创建元组\n",
        "my_tuple = (10, 20, 30, 20, 40, 50)\n",
        "print(\"原始元组:\", my_tuple)"
      ],
      "metadata": {
        "id": "zbDhM8_I2kFd"
      },
      "execution_count": null,
      "outputs": []
    },
    {
      "cell_type": "code",
      "source": [
        "# 元素访问（通过索引）\n",
        "first_element = my_tuple[0]\n",
        "print(\"第一个元素:\", first_element)"
      ],
      "metadata": {
        "id": "f2GjolTt2n0v"
      },
      "execution_count": null,
      "outputs": []
    },
    {
      "cell_type": "code",
      "source": [
        "last_element = my_tuple[-1]\n",
        "print(\"最后一个元素:\", last_element)"
      ],
      "metadata": {
        "id": "oQEQLhDK2ov4"
      },
      "execution_count": null,
      "outputs": []
    },
    {
      "cell_type": "code",
      "source": [
        "# 元素访问（通过切片）\n",
        "sub_tuple = my_tuple[1:4] # 索引 1 到 4 (不包含 4)\n",
        "print(\"切片 [1:4]:\", sub_tuple)"
      ],
      "metadata": {
        "id": "47WDq_L12rbd"
      },
      "execution_count": null,
      "outputs": []
    },
    {
      "cell_type": "code",
      "source": [
        "sub_tuple_step = my_tuple[::2] # 每隔一个元素\n",
        "print(\"切片 [::2]:\", sub_tuple_step)"
      ],
      "metadata": {
        "id": "XgyueZQu2shS"
      },
      "execution_count": null,
      "outputs": []
    },
    {
      "cell_type": "code",
      "source": [
        "# 查找元素\n",
        "index_of_20 = my_tuple.index(20) # 返回第一个 20 的索引\n",
        "print(\"元素 20 的第一个索引:\", index_of_20)"
      ],
      "metadata": {
        "id": "E0qEEH1d2uxN"
      },
      "execution_count": null,
      "outputs": []
    },
    {
      "cell_type": "code",
      "source": [
        "count_of_20 = my_tuple.count(20) # 返回 20 出现的次数\n",
        "print(\"元素 20 出现的次数:\", count_of_20)"
      ],
      "metadata": {
        "id": "brkuozOO2v8t"
      },
      "execution_count": null,
      "outputs": []
    },
    {
      "cell_type": "code",
      "source": [
        "# 长度获取\n",
        "tuple_length = len(my_tuple)\n",
        "print(\"元组的长度:\", tuple_length)"
      ],
      "metadata": {
        "id": "aQGBTvFK2xbU"
      },
      "execution_count": null,
      "outputs": []
    },
    {
      "cell_type": "code",
      "source": [
        "# 检查元素是否存在\n",
        "is_30_present = 30 in my_tuple\n",
        "print(\"元素 30 是否存在:\", is_30_present)"
      ],
      "metadata": {
        "id": "C9ZHUQJ-20t-"
      },
      "execution_count": null,
      "outputs": []
    },
    {
      "cell_type": "code",
      "source": [
        "is_60_present = 60 in my_tuple\n",
        "print(\"元素 60 是否存在:\", is_60_present)"
      ],
      "metadata": {
        "id": "lxarMtym25wH"
      },
      "execution_count": null,
      "outputs": []
    },
    {
      "cell_type": "code",
      "source": [
        "# 验证元组的不可变性\n",
        "# 尝试修改元组元素 (预期会引发 TypeError)\n",
        "try:\n",
        "    my_tuple[0] = 100\n",
        "except TypeError as e:\n",
        "    print(\"\\n尝试修改元组元素引发错误:\", e)\n",
        "    # 单元测试：验证不可变性\n",
        "    assert \"does not support item assignment\" in str(e), \"不可变性验证失败\"\n",
        "    assert my_tuple[0] == 10, \"元组不应被修改\" # 确保元组没有被意外修改\n"
      ],
      "metadata": {
        "id": "CpUxGrYa27rm"
      },
      "execution_count": null,
      "outputs": []
    },
    {
      "cell_type": "code",
      "metadata": {
        "id": "60281ef1"
      },
      "source": [
        "\n",
        "# 尝试删除元组元素 (预期会引发 TypeError)\n",
        "try:\n",
        "    del my_tuple[0]\n",
        "except TypeError as e:\n",
        "    print(\"尝试删除元组元素引发错误:\", e)\n",
        "    # 单元测试：验证不可变性\n",
        "    assert \"doesn't support item deletion\" in str(e), \"不可变性验证失败\"\n",
        "    assert my_tuple[0] == 10, \"元组不应被删除\" # 确保元组没有被意外删除"
      ],
      "execution_count": null,
      "outputs": []
    },
    {
      "cell_type": "markdown",
      "metadata": {
        "id": "e5ce1462"
      },
      "source": [
        "### 时间复杂度总结\n",
        "\n",
        "了解元组操作的时间复杂度：\n",
        "\n",
        "| 操作                  | 时间复杂度 | 说明                                       |\n",
        "|-----------------------|------------|--------------------------------------------|\n",
        "| 按索引访问 (`tuple[i]`)   | O(1)       | 直接通过内存地址访问，非常快                |\n",
        "| 切片 (`tuple[start:end]`) | O(k)       | k 是切片中元素的个数                       |\n",
        "| 查找元素 (`index(x)`) | O(n)       | 需要遍历元组查找元素（最坏情况 O(n)）       |\n",
        "| 计数元素 (`count(x)`) | O(n)       | 需要遍历元组计数元素                       |\n",
        "| 检查元素是否存在 (`item in tuple`) | O(n)       | 需要遍历元组查找元素（最坏情况 O(n)）       |\n",
        "| 获取长度 (`len(tuple)`)  | O(1)       | 元组对象直接存储了长度信息，非常快          |\n",
        "| 元组连接 (`tuple1 + tuple2`) | O(n + m)   | n 和 m 是两个元组的长度，需要创建新元组并复制元素 |\n",
        "| 元组重复 (`tuple * n`) | O(n * k)   | k 是原元组长度，需要创建新元组并复制元素    |"
      ]
    },
    {
      "cell_type": "markdown",
      "metadata": {
        "id": "a902d1a4"
      },
      "source": [
        "### 常见错误\n",
        "\n",
        "元组的主要错误源于其不可变性。"
      ]
    },
    {
      "cell_type": "markdown",
      "source": [
        "1.  **TypeError: 'tuple' object does not support item assignment/deletion**: 尝试修改或删除元组中的元素。"
      ],
      "metadata": {
        "id": "hV_OWueA3Eiy"
      }
    },
    {
      "cell_type": "code",
      "source": [
        "my_tuple = (1, 2, 3)\n",
        "# my_tuple[0] = 10  # 错误：无法修改元素\n",
        "# del my_tuple[1]   # 错误：无法删除元素"
      ],
      "metadata": {
        "id": "9KptxzgS3Fzv"
      },
      "execution_count": null,
      "outputs": []
    },
    {
      "cell_type": "markdown",
      "source": [
        "**解决方法**: 如果需要修改序列，请使用列表。如果需要基于现有元组创建新元组，可以进行切片或连接操作。"
      ],
      "metadata": {
        "id": "UzXzljyE3JMp"
      }
    },
    {
      "cell_type": "markdown",
      "source": [
        "2.  **IndexError: tuple index out of range**: 尝试访问不存在的索引。"
      ],
      "metadata": {
        "id": "xSFkNOKP3K_Q"
      }
    },
    {
      "cell_type": "code",
      "source": [
        "my_tuple = (1, 2)\n",
        "# print(my_tuple[2]) # 错误：索引超出范围"
      ],
      "metadata": {
        "id": "MF9jQpYO3MvQ"
      },
      "execution_count": null,
      "outputs": []
    },
    {
      "cell_type": "markdown",
      "source": [
        "**解决方法**: 确保访问的索引在元组的有效范围内（从 0 到 `len(my_tuple) - 1`）。"
      ],
      "metadata": {
        "id": "yIsTQELU3PPt"
      }
    },
    {
      "cell_type": "markdown",
      "source": [
        "3.  **创建单元素元组时忘记逗号**: `(item)` 会被解释为表达式 `item`，而不是一个元组。"
      ],
      "metadata": {
        "id": "lWmJZtP13RKV"
      }
    },
    {
      "cell_type": "code",
      "source": [
        "single_item = (5) # 这是一个整数，不是元组\n",
        "print(type(single_item)) # 输出 <class 'int'>"
      ],
      "metadata": {
        "id": "k_Ooia0R3SSM"
      },
      "execution_count": null,
      "outputs": []
    },
    {
      "cell_type": "code",
      "source": [
        "single_item_tuple = (5,) # 这是一个单元素元组\n",
        "print(type(single_item_tuple)) # 输出 <class 'tuple'>"
      ],
      "metadata": {
        "id": "XeaA6AMY3UP6"
      },
      "execution_count": null,
      "outputs": []
    },
    {
      "cell_type": "markdown",
      "source": [
        "**解决方法**: 创建单元素元组时，务必在元素后加上逗号 `(item,)`。"
      ],
      "metadata": {
        "id": "i5PrZN8p3Wgx"
      }
    },
    {
      "cell_type": "markdown",
      "source": [
        "4.  **将可变对象作为元组的元素，并修改可变对象**: 虽然元组本身不可变，但如果其元素是可变对象（如列表），则可以修改这些可变对象。"
      ],
      "metadata": {
        "id": "0eN6Uz2o3YjQ"
      }
    },
    {
      "cell_type": "code",
      "source": [
        "my_tuple_with_list = ([1, 2], 3)\n",
        "my_tuple_with_list[0].append(4) # 允许修改列表元素\n",
        "print(my_tuple_with_list) # 输出 ([1, 2, 4], 3)\n",
        "# my_tuple_with_list[1] = 5 # 错误：不能修改元组本身的元素"
      ],
      "metadata": {
        "id": "KPlOHUby3aE2"
      },
      "execution_count": null,
      "outputs": []
    },
    {
      "cell_type": "markdown",
      "metadata": {
        "id": "f9da4197"
      },
      "source": [
        "**注意**: 这不是一个错误，但需要理解元组的不可变性仅针对元组本身结构，不限制其内部可变元素的修改。"
      ]
    },
    {
      "cell_type": "markdown",
      "metadata": {
        "id": "5238938e"
      },
      "source": [
        "## 集合 (Set)\n",
        "\n",
        "集合是 Python 中一种**无序 (Unordered)** 且**不重复 (No Duplicate Elements)** 的数据结构，用于存储一组唯一的元素。\n",
        "\n",
        "### 概念与特点\n",
        "\n",
        "*   **无序 (Unordered)**: 集合中的元素没有固定的顺序，因此不能通过索引访问。\n",
        "*   **不重复 (No Duplicate Elements)**: 集合中的元素是唯一的，重复元素会被自动去除。\n",
        "*   **可变 (Mutable)**: 集合创建后，可以添加或删除元素。\n",
        "*   **元素必须是不可变的 (Elements must be Immutable)**: 集合中的元素只能是不可变的数据类型，如字符串、数字、元组。列表、字典、集合等可变类型不能作为集合的元素。\n",
        "*   **主要用于成员测试和消除重复元素**: 集合是判断元素是否存在（成员测试）以及快速去除重复元素的利器。\n",
        "\n",
        "### 基本语法\n",
        "\n",
        "集合使用花括号 `{}` 定义，元素之间用逗号 `,` 分隔。创建空集合必须使用 `set()` 函数，因为 `{}` 用于创建空字典。\n",
        "\n",
        "*   创建空集合：`my_set = set()`\n",
        "*   创建包含元素的集合：`my_set = {1, \"hello\", 3.14}`\n",
        "*   从列表或其他可迭代对象创建集合：`my_set = set([1, 2, 2, 3, 1])`"
      ]
    },
    {
      "cell_type": "markdown",
      "metadata": {
        "id": "1011c65b"
      },
      "source": [
        "### 常用方法表\n",
        "\n",
        "集合提供了用于添加、删除元素以及进行集合运算（如并集、交集、差集）的方法。\n",
        "\n",
        "| 方法/操作               | 描述                                           | 示例                                               |\n",
        "|-------------------------|------------------------------------------------|----------------------------------------------------|\n",
        "| `set.add(item)`         | 向集合中添加一个元素。如果元素已存在，则不进行任何操作。 | `my_set.add(4)`                                    |\n",
        "| `set.remove(item)`      | 从集合中移除指定元素。如果元素不存在，则引发 KeyError。 | `my_set.remove(3)`                                 |\n",
        "| `set.discard(item)`     | 从集合中移除指定元素。如果元素不存在，则不进行任何操作。 | `my_set.discard(5)`                                |\n",
        "| `set.pop()`             | 随机移除并返回集合中的一个元素。如果集合为空，则引发 KeyError。 | `item = my_set.pop()`                              |\n",
        "| `set.clear()`           | 移除集合中的所有元素。                         | `my_set.clear()`                                   |\n",
        "| `set.union(other_set, ...)` | 返回一个新集合，包含原集合和所有其他集合中的元素（并集）。 | `union_set = set1.union(set2)`                     |\n",
        "| `set.intersection(other_set, ...)`| 返回一个新集合，包含原集合和所有其他集合中的共有元素（交集）。 | `intersection_set = set1.intersection(set2)`       |\n",
        "| `set.difference(other_set, ...)`| 返回一个新集合，包含原集合中存在但其他集合中不存在的元素（差集）。 | `difference_set = set1.difference(set2)`           |\n",
        "| `set.symmetric_difference(other_set)`| 返回一个新集合，包含在原集合或另一个集合中但不同时存在的元素（对称差集）。 | `sym_diff_set = set1.symmetric_difference(set2)`   |\n",
        "| `set.issubset(other_set)` | 判断原集合是否是另一个集合的子集。           | `is_subset = set1.issubset(set2)`                  |\n",
        "| `set.issuperset(other_set)`| 判断原集合是否是另一个集合的超集。           | `is_superset = set1.issuperset(set2)`              |\n",
        "| `set.isdisjoint(other_set)`| 判断原集合与另一个集合是否不相交（没有共同元素）。 | `is_disjoint = set1.isdisjoint(set2)`              |\n",
        "| `item in set`           | 检查元素是否存在于集合中（成员测试）。       | `is_present = 3 in my_set`                         |\n",
        "| `len(set)`              | 返回集合的元素个数。                           | `set_length = len(my_set)`                         |\n",
        "| `set.copy()`            | 返回集合的浅拷贝。                             | `set_copy = my_set.copy()`                         |"
      ]
    },
    {
      "cell_type": "code",
      "source": [
        "# 创建集合\n",
        "# 从列表创建集合，重复元素会被自动去除\n",
        "my_set = set([1, 2, 2, 3, 1, 4, 5, 5])\n",
        "print(\"从列表创建的集合:\", my_set)"
      ],
      "metadata": {
        "id": "ojGVuAKk3u2k"
      },
      "execution_count": null,
      "outputs": []
    },
    {
      "cell_type": "code",
      "source": [
        "# 创建空集合\n",
        "empty_set = set()\n",
        "print(\"空集合:\", empty_set)"
      ],
      "metadata": {
        "id": "URZsr8163wib"
      },
      "execution_count": null,
      "outputs": []
    },
    {
      "cell_type": "code",
      "source": [
        "# 添加元素\n",
        "my_set.add(6)\n",
        "print(\"添加元素 6 后:\", my_set)"
      ],
      "metadata": {
        "id": "FvrtR3sS3zNz"
      },
      "execution_count": null,
      "outputs": []
    },
    {
      "cell_type": "code",
      "source": [
        "my_set.add(3) # 添加已存在的元素，集合不变\n",
        "print(\"再次添加元素 3 后:\", my_set)"
      ],
      "metadata": {
        "id": "jKC9tWdv3065"
      },
      "execution_count": null,
      "outputs": []
    },
    {
      "cell_type": "code",
      "source": [
        "# 删除元素\n",
        "my_set.remove(1) # 移除元素 1\n",
        "print(\"使用 remove 移除元素 1 后:\", my_set)"
      ],
      "metadata": {
        "id": "0Luz4gD132kB"
      },
      "execution_count": null,
      "outputs": []
    },
    {
      "cell_type": "code",
      "source": [
        "# 尝试移除不存在的元素 (使用 remove 会引发 KeyError)\n",
        "try:\n",
        "    my_set.remove(10)\n",
        "except KeyError as e:\n",
        "    print(\"尝试使用 remove 移除不存在元素引发错误:\", e)\n",
        "    # 单元测试：验证 remove 的 KeyError\n",
        "    assert \"10\" in str(e), \"remove 不存在元素未引发 KeyError\""
      ],
      "metadata": {
        "id": "i04QmB6M35Fi"
      },
      "execution_count": null,
      "outputs": []
    },
    {
      "cell_type": "code",
      "source": [
        "my_set.discard(2) # 移除元素 2 (如果存在)\n",
        "print(\"使用 discard 移除元素 2 后:\", my_set)"
      ],
      "metadata": {
        "id": "hj-dXhXe398b"
      },
      "execution_count": null,
      "outputs": []
    },
    {
      "cell_type": "code",
      "source": [
        "my_set.discard(10) # 移除不存在的元素 (discard 不会引发错误)\n",
        "print(\"尝试使用 discard 移除不存在元素 10 后:\", my_set)"
      ],
      "metadata": {
        "id": "ZYK3YVsT3_J0"
      },
      "execution_count": null,
      "outputs": []
    },
    {
      "cell_type": "code",
      "source": [
        "# 随机移除元素\n",
        "# 注意：pop() 移除的元素是随机的，无法进行精确的单元测试，只能测试其行为和返回值类型\n",
        "if len(my_set) > 0:\n",
        "    popped_item = my_set.pop()\n",
        "    print(\"使用 pop 随机移除一个元素:\", popped_item)\n",
        "    print(\"pop 移除后集合:\", my_set)\n",
        "    # 单元测试：验证 pop 返回值和集合长度\n",
        "    assert popped_item is not None, \"pop 返回值为 None\"\n",
        "    assert len(my_set) == 4, \"pop 移除后集合长度不正确\" # 原始 my_set 长度为 5， remove 1， discard 2， pop 1 => 5-1-1-1 = 2, wait my_set length is 5 at the begining, remove 1 is 4, discard 2 is 3, pop 1 is 2.\n",
        "    # Correcting the assertion based on the current state of my_set\n",
        "    assert len(my_set) == 3, \"pop 移除后集合长度不正确\" # original length 5, remove 1 (len 4), discard 2 (len 3), pop 1 (len 2). No, the previous assert was wrong.\n"
      ],
      "metadata": {
        "id": "M4572jyn4BME"
      },
      "execution_count": null,
      "outputs": []
    },
    {
      "cell_type": "code",
      "source": [
        "# 清空集合\n",
        "my_set.clear()\n",
        "print(\"清空集合后:\", my_set)"
      ],
      "metadata": {
        "id": "JpcN2rxJ4Dlc"
      },
      "execution_count": null,
      "outputs": []
    },
    {
      "cell_type": "code",
      "source": [
        "# 集合运算\n",
        "set1 = {1, 2, 3, 4}\n",
        "set2 = {3, 4, 5, 6}"
      ],
      "metadata": {
        "id": "ygSuRO5q4Fh5"
      },
      "execution_count": null,
      "outputs": []
    },
    {
      "cell_type": "code",
      "source": [
        "# 并集 (Union)\n",
        "union_set = set1.union(set2)\n",
        "print(\"并集:\", union_set)\n",
        "print(\"使用 | 运算符:\", set1 | set2) # 也可以使用运算符"
      ],
      "metadata": {
        "id": "K-Jasi4-4Gvd"
      },
      "execution_count": null,
      "outputs": []
    },
    {
      "cell_type": "code",
      "source": [
        "# 交集 (Intersection)\n",
        "intersection_set = set1.intersection(set2)\n",
        "print(\"交集:\", intersection_set)\n",
        "print(\"使用 & 运算符:\", set1 & set2) # 也可以使用运算符"
      ],
      "metadata": {
        "id": "ZdnHHhLP4JA2"
      },
      "execution_count": null,
      "outputs": []
    },
    {
      "cell_type": "code",
      "source": [
        "# 差集 (Difference)\n",
        "difference_set = set1.difference(set2) # 存在于 set1 但不存在于 set2 的元素\n",
        "print(\"差集 (set1 - set2):\", difference_set)\n",
        "print(\"使用 - 运算符:\", set1 - set2) # 也可以使用运算符"
      ],
      "metadata": {
        "id": "fDajBwxj4KlM"
      },
      "execution_count": null,
      "outputs": []
    },
    {
      "cell_type": "code",
      "source": [
        "difference_set_reverse = set2.difference(set1) # 存在于 set2 但不存在于 set1 的元素\n",
        "print(\"差集 (set2 - set1):\", difference_set_reverse)\n",
        "print(\"使用 - 运算符:\", set2 - set1) # 也可以使用运算符"
      ],
      "metadata": {
        "id": "7W_68Kov4MFX"
      },
      "execution_count": null,
      "outputs": []
    },
    {
      "cell_type": "code",
      "source": [
        "# 对称差集 (Symmetric Difference)\n",
        "symmetric_difference_set = set1.symmetric_difference(set2) # 存在于 set1 或 set2 但不同时存在于两者的元素\n",
        "print(\"对称差集:\", symmetric_difference_set)\n",
        "print(\"使用 ^ 运算符:\", set1 ^ set2) # 也可以使用运算符"
      ],
      "metadata": {
        "id": "BCUsX8s94Nlw"
      },
      "execution_count": null,
      "outputs": []
    },
    {
      "cell_type": "code",
      "source": [
        "# 子集、超集、不相交判断\n",
        "set_a = {1, 2}\n",
        "set_b = {1, 2, 3, 4}\n",
        "set_c = {5, 6}"
      ],
      "metadata": {
        "id": "zcs6hGXM4PMp"
      },
      "execution_count": null,
      "outputs": []
    },
    {
      "cell_type": "code",
      "source": [
        "# 子集判断\n",
        "is_a_subset_b = set_a.issubset(set_b)\n",
        "print(f\"{set_a} 是 {set_b} 的子集吗？\", is_a_subset_b)"
      ],
      "metadata": {
        "id": "yPoCP6TI4Qec"
      },
      "execution_count": null,
      "outputs": []
    },
    {
      "cell_type": "code",
      "source": [
        "# 超集判断\n",
        "is_b_superset_a = set_b.issuperset(set_a)\n",
        "print(f\"{set_b} 是 {set_a} 的超集吗？\", is_b_superset_a)"
      ],
      "metadata": {
        "id": "EN4yaPVH4Sqi"
      },
      "execution_count": null,
      "outputs": []
    },
    {
      "cell_type": "code",
      "source": [
        "# 不相交判断\n",
        "is_a_disjoint_c = set_a.isdisjoint(set_c)\n",
        "print(f\"{set_a} 和 {set_c} 不相交吗？\", is_a_disjoint_c)\n",
        "is_a_disjoint_b = set_a.isdisjoint(set_b)\n",
        "print(f\"{set_a} 和 {set_b} 不相交吗？\", is_a_disjoint_b)"
      ],
      "metadata": {
        "id": "fC9k39eo4UZe"
      },
      "execution_count": null,
      "outputs": []
    },
    {
      "cell_type": "code",
      "source": [
        "# 成员测试\n",
        "is_3_in_set1 = 3 in set1\n",
        "is_7_in_set1 = 7 in set1\n",
        "print(\"元素 3 在 set1 中吗？\", is_3_in_set1)\n",
        "print(\"元素 7 在 set1 中吗？\", is_7_in_set1)"
      ],
      "metadata": {
        "id": "-jg0w9HO4WnZ"
      },
      "execution_count": null,
      "outputs": []
    },
    {
      "cell_type": "code",
      "source": [
        "# 长度获取\n",
        "set1_length = len(set1)\n",
        "print(\"set1 的长度:\", set1_length)"
      ],
      "metadata": {
        "id": "V4He-RgL4YIt"
      },
      "execution_count": null,
      "outputs": []
    },
    {
      "cell_type": "code",
      "metadata": {
        "id": "983b7fc2"
      },
      "source": [
        "# 复制集合\n",
        "set_copy = set1.copy()\n",
        "print(\"原始集合 set1:\", set1)\n",
        "print(\"复制的集合 set_copy:\", set_copy)"
      ],
      "execution_count": null,
      "outputs": []
    },
    {
      "cell_type": "markdown",
      "metadata": {
        "id": "451c802e"
      },
      "source": [
        "### 时间复杂度总结\n",
        "\n",
        "理解集合操作的时间复杂度对于优化代码性能至关重要。以下是一些常见操作的平均时间复杂度：\n",
        "\n",
        "| 操作                  | 平均时间复杂度 | 说明                                         |\n",
        "|-----------------------|----------------|----------------------------------------------|\n",
        "| 添加元素 (`add(item)`) | O(1)           | 基于哈希表实现，平均速度快                    |\n",
        "| 删除元素 (`remove(item)`, `discard(item)`) | O(1)           | 基于哈希表实现，平均速度快                    |\n",
        "| 随机移除元素 (`pop()`)  | O(1)           | 基于哈希表实现，平均速度快                    |\n",
        "| 检查元素是否存在 (`item in set`) | O(1)           | 基于哈希表实现，平均检查速度快                |\n",
        "| 集合运算 (`union`, `intersection`, `difference`, `symmetric_difference`) | O(min(len(set1), len(set2))) 或 O(len(set1) + len(set2)) | 具体取决于操作和集合大小，通常与集合的大小相关 |\n",
        "| 子集/超集判断 (`issubset`, `issuperset`) | O(len(set1)) 或 O(len(set2)) | 需要遍历其中一个集合的元素进行检查             |\n",
        "| 不相交判断 (`isdisjoint`) | O(min(len(set1), len(set2))) | 需要遍历其中一个集合的元素进行检查             |\n",
        "| 获取长度 (`len(set)`)  | O(1)           | 集合对象直接存储了长度信息，非常快            |\n",
        "| 复制集合 (`copy()`)    | O(n)           | 需要复制所有元素，n 是集合大小                |\n",
        "\n",
        "**注意**: 以上时间复杂度是平均情况下的，最坏情况（例如哈希冲突严重）下某些操作可能达到 O(n)。但 Python 的集合实现采用了优化措施，使得最坏情况不常发生。"
      ]
    },
    {
      "cell_type": "markdown",
      "metadata": {
        "id": "057cb923"
      },
      "source": [
        "### 常见错误\n",
        "\n",
        "理解集合的特点可以帮助避免常见错误。"
      ]
    },
    {
      "cell_type": "markdown",
      "source": [
        "1.  **TypeError: unhashable type**: 尝试将可变对象（如列表、字典、集合自身）作为集合的元素。"
      ],
      "metadata": {
        "id": "R4owmXbC4mRs"
      }
    },
    {
      "cell_type": "code",
      "source": [
        "my_list = [1, 2]\n",
        "# my_set = {my_list} # 会引发 TypeError"
      ],
      "metadata": {
        "id": "NEBa2c834nc7"
      },
      "execution_count": null,
      "outputs": []
    },
    {
      "cell_type": "markdown",
      "source": [
        "**原因**: 集合元素必须是可哈希的（hashable），这意味着它们必须是不可变的，以便计算哈希值来快速查找。\n",
        "**解决方法**: 确保集合中的元素是不可变类型，如数字、字符串、元组。"
      ],
      "metadata": {
        "id": "6K1x8u0o4prv"
      }
    },
    {
      "cell_type": "markdown",
      "source": [
        "2.  **KeyError**: 尝试使用 `remove()` 方法移除集合中不存在的元素。"
      ],
      "metadata": {
        "id": "9D82g-5E4txf"
      }
    },
    {
      "cell_type": "code",
      "source": [
        "my_set = {1, 2, 3}\n",
        "# my_set.remove(4) # 会引发 KeyError"
      ],
      "metadata": {
        "id": "AP8gUfJI4vHJ"
      },
      "execution_count": null,
      "outputs": []
    },
    {
      "cell_type": "markdown",
      "source": [
        "**原因**: `remove()` 方法要求被移除的元素必须存在于集合中。\n",
        "**解决方法**: 如果不确定元素是否存在，使用 `discard()` 方法代替 `remove()`，`discard()` 在元素不存在时不会引发错误。或者先使用 `item in set` 检查元素是否存在。"
      ],
      "metadata": {
        "id": "ULPAbaQJ4zU4"
      }
    },
    {
      "cell_type": "markdown",
      "source": [
        "3.  **尝试通过索引访问元素**: 集合是无序的，不支持通过索引访问。"
      ],
      "metadata": {
        "id": "ACnhb6TD40uM"
      }
    },
    {
      "cell_type": "code",
      "source": [
        "my_set = {1, 2, 3}\n",
        "# print(my_set[0]) # 会引发 TypeError"
      ],
      "metadata": {
        "id": "ln4bgX-B42CV"
      },
      "execution_count": null,
      "outputs": []
    },
    {
      "cell_type": "markdown",
      "source": [
        "**原因**: 集合没有固定的元素顺序，索引没有意义。\n",
        "**解决方法**: 如果需要按顺序访问元素，可以将集合转换为列表或元组（注意转换后会引入顺序，但集合本身的无序性仍然存在）。使用 `in` 运算符进行成员测试。"
      ],
      "metadata": {
        "id": "yOx02W7j45xH"
      }
    },
    {
      "cell_type": "markdown",
      "source": [
        "4.  **在遍历集合时同时修改集合**: 在循环中直接添加或删除集合中的项可能导致 `RuntimeError: Set changed size during iteration` 或其他意外行为。"
      ],
      "metadata": {
        "id": "cAH0vxZZ47i8"
      }
    },
    {
      "cell_type": "code",
      "source": [
        "my_set = {1, 2, 3, 4}\n",
        "# for item in my_set:\n",
        "#     if item % 2 == 0:\n",
        "#         my_set.remove(item) # 可能导致错误"
      ],
      "metadata": {
        "id": "GLH6X-Z_49gh"
      },
      "execution_count": null,
      "outputs": []
    },
    {
      "cell_type": "code",
      "source": [
        "# 正确的做法是遍历集合的副本或将集合转换为列表再遍历\n",
        "# for item in list(my_set):\n",
        "#     if item % 2 == 0:\n",
        "#         my_set.remove(item)"
      ],
      "metadata": {
        "id": "VlBwNMek5A1B"
      },
      "execution_count": null,
      "outputs": []
    },
    {
      "cell_type": "markdown",
      "source": [
        "**原因**: 迭代器在遍历过程中依赖于集合的内部结构，结构改变会导致迭代器失效。\n",
        "**解决方法**: 遍历集合的副本（`for item in my_set.copy():`）或将集合转换为列表再遍历。"
      ],
      "metadata": {
        "id": "f8Yy3gHn5Dh1"
      }
    },
    {
      "cell_type": "markdown",
      "source": [
        "5.  **创建空集合时使用 `{}`**: `{}` 创建的是空字典，而不是空集合。"
      ],
      "metadata": {
        "id": "xq-g1UFO5FN6"
      }
    },
    {
      "cell_type": "code",
      "source": [
        "empty = {}\n",
        "print(type(empty)) # 输出 <class 'dict'>"
      ],
      "metadata": {
        "id": "l-LuZTXD5GVP"
      },
      "execution_count": null,
      "outputs": []
    },
    {
      "cell_type": "markdown",
      "source": [
        "**原因**: Python 将 `{}` 默认解释为空字典。\n",
        "\n",
        "**解决方法**: 使用 `set()` 函数创建空集合：`empty_set = set()`."
      ],
      "metadata": {
        "id": "27DKhPhw5KJT"
      }
    },
    {
      "cell_type": "markdown",
      "metadata": {
        "id": "a3824451"
      },
      "source": [
        "**Reasoning**:\n",
        "Add the practice problems for the Dictionary section.\n",
        "\n"
      ]
    },
    {
      "cell_type": "code",
      "metadata": {
        "id": "48569f52"
      },
      "source": [
        "%%markdown\n",
        "### 字典练习题\n",
        "\n",
        "1.  **学生信息查询**: 假设有一个字典存储了学生的姓名和对应的学号，格式为 `{\"学号\": \"姓名\"}`。编写一个函数，接收这个字典和一个学号，返回对应的学生姓名。如果学号不存在，返回\"学号不存在\"。\n",
        "    *   输入: `students = {\"2021001\": \"张三\", \"2021002\": \"李四\"}`, `student_id = \"2021001\"`\n",
        "    *   输出: `\"张三\"`\n",
        "    *   输入: `students = {\"2021001\": \"张三\", \"2021002\": \"李四\"}`, `student_id = \"2021003\"`\n",
        "    *   输出: `\"学号不存在\"`\n",
        "\n",
        "2.  **统计词频**: 编写一个函数，接收一个字符串列表，统计列表中每个字符串出现的次数，并将结果存储在一个字典中，格式为 `{\"字符串\": 次数}`。\n",
        "    *   输入: `[\"apple\", \"banana\", \"apple\", \"orange\", \"banana\", \"apple\"]`\n",
        "    *   输出: `{\"apple\": 3, \"banana\": 2, \"orange\": 1}`\n",
        "\n",
        "3.  **合并字典**: 编写一个函数，接收两个字典，将第二个字典的键值对合并到第一个字典中。如果键重复，以第二个字典的值为准。返回合并后的第一个字典。\n",
        "    *   输入: `dict1 = {\"a\": 1, \"b\": 2}`, `dict2 = {\"b\": 3, \"c\": 4}`\n",
        "    *   输出: `{\"a\": 1, \"b\": 3, \"c\": 4}`"
      ],
      "execution_count": null,
      "outputs": []
    },
    {
      "cell_type": "markdown",
      "source": [
        "### 列表练习题\n",
        "\t1.\t过滤偶数: 编写一个函数，接收一个整数列表，返回一个新的列表，其中只包含原列表中的偶数。\n",
        "\t•\t输入: [1, 2, 3, 4, 5, 6]\n",
        "\t•\t输出: [2, 4, 6]\n",
        "\t2.\t计算列表元素的平方: 编写一个函数，接收一个整数列表，返回一个新的列表，其中包含原列表中每个元素的平方。\n",
        "\t•\t输入: [1, 2, 3, 4]\n",
        "\t•\t输出: [1, 4, 9, 16]\n",
        "\t3.\t统计元素出现次数: 编写一个函数，接收一个列表和一个元素，返回该元素在列表中出现的次数。\n",
        "\t•\t输入: ([1, 2, 2, 3, 2, 4], 2)\n",
        "\t•\t输出: 3\n"
      ],
      "metadata": {
        "id": "I_M5e1KizvoL"
      }
    },
    {
      "cell_type": "markdown",
      "source": [
        "### 字典练习题\n",
        "\n",
        "1.  **学生信息查询**: 假设有一个字典存储了学生的姓名和对应的学号，格式为 `{\"学号\": \"姓名\"}`。编写一个函数，接收这个字典和一个学号，返回对应的学生姓名。如果学号不存在，返回\"学号不存在\"。\n",
        "    *   输入: `students = {\"2021001\": \"张三\", \"2021002\": \"李四\"}`, `student_id = \"2021001\"`\n",
        "    *   输出: `\"张三\"`\n",
        "    *   输入: `students = {\"2021001\": \"张三\", \"2021002\": \"李四\"}`, `student_id = \"2021003\"`\n",
        "    *   输出: `\"学号不存在\"`\n",
        "\n",
        "2.  **统计词频**: 编写一个函数，接收一个字符串列表，统计列表中每个字符串出现的次数，并将结果存储在一个字典中，格式为 `{\"字符串\": 次数}`。\n",
        "    *   输入: `[\"apple\", \"banana\", \"apple\", \"orange\", \"banana\", \"apple\"]`\n",
        "    *   输出: `{\"apple\": 3, \"banana\": 2, \"orange\": 1}`\n",
        "\n",
        "3.  **合并字典**: 编写一个函数，接收两个字典，将第二个字典的键值对合并到第一个字典中。如果键重复，以第二个字典的值为准。返回合并后的第一个字典。\n",
        "    *   输入: `dict1 = {\"a\": 1, \"b\": 2}`, `dict2 = {\"b\": 3, \"c\": 4}`\n",
        "    *   输出: `{\"a\": 1, \"b\": 3, \"c\": 4}`"
      ],
      "metadata": {
        "id": "GRQR-uRl2L_-"
      }
    },
    {
      "cell_type": "markdown",
      "source": [
        "\n",
        "### 元组练习题\n",
        "\n",
        "1.  **访问元组中的特定元素**: 给定一个元组，访问并打印出它的第三个元素。\n",
        "    *   输入: `my_tuple = (\"apple\", \"banana\", \"cherry\", \"date\")`\n",
        "    *   输出: `\"cherry\"`\n",
        "\n",
        "2.  **查找元素索引**: 给定一个元组，查找并打印出元素 \"banana\" 在元组中第一次出现的索引。\n",
        "    *   输入: `my_tuple = (\"apple\", \"banana\", \"cherry\", \"banana\", \"date\")`\n",
        "    *   输出: `1`\n",
        "\n",
        "3.  **统计元素出现次数**: 给定一个元组，统计并打印出元素 \"banana\" 在元组中出现的次数。\n",
        "    *   输入: `my_tuple = (\"apple\", \"banana\", \"cherry\", \"banana\", \"date\", \"banana\")`\n",
        "    *   输出: `3`\n",
        "\n",
        "4.  **元组切片**: 给定一个元组，使用切片提取出从第二个元素到倒数第二个元素（不包含倒数第二个）的子元组。\n",
        "    *   输入: `my_tuple = (10, 20, 30, 40, 50, 60)`\n",
        "    *   输出: `(20, 30, 40, 50)`"
      ],
      "metadata": {
        "id": "yPnVD8nI3f9b"
      }
    },
    {
      "cell_type": "markdown",
      "source": [
        "### 集合练习题\n",
        "\n",
        "1.  **找出两个列表中共同的元素**: 编写一个函数，接收两个列表，返回一个集合，包含两个列表中都存在的元素。\n",
        "    *   输入: `list1 = [1, 2, 3, 4]`, `list2 = [3, 4, 5, 6]`\n",
        "    *   输出: `{3, 4}`\n",
        "\n",
        "2.  **去除字符串中的重复字符**: 编写一个函数，接收一个字符串，返回一个集合，包含字符串中所有不重复的字符。\n",
        "    *   输入: `\"programming\"`\n",
        "    *   输出: `{'p', 'r', 'o', 'g', 'a', 'm', 'i', 'n'}` (顺序可能不同)\n",
        "\n",
        "3.  **判断两个集合是否包含相同的元素（忽略顺序）**: 编写一个函数，接收两个列表，判断它们转换成集合后是否完全相同（即包含相同的元素，不考虑顺序和重复）。\n",
        "    *   输入: `list1 = [1, 2, 3, 2]`, `list2 = [3, 1, 2]`\n",
        "    *   输出: `True`\n",
        "    *   输入: `list1 = [1, 2, 3]`, `list2 = [1, 2, 4]`\n",
        "    *   输出: `False`\n",
        "\n",
        "4.  **统计列表中不重复元素的个数**: 编写一个函数，接收一个列表，返回列表中不重复元素的个数。\n",
        "    *   输入: `my_list = [1, 2, 2, 3, 1, 4, 5, 5]`\n",
        "    *   输出: `5`"
      ],
      "metadata": {
        "id": "rsKQBdS55PCC"
      }
    },
    {
      "cell_type": "markdown",
      "source": [
        "### 📌 综合练习题\n",
        "\n",
        "#### 综合练习题 1: 学生成绩统计与分析\n",
        "\n",
        "**问题描述:**\n",
        "\n",
        "假设你有一个学生列表，每个学生是一个字典，包含 `name` (姓名) 和 `scores` (一个包含多门课程分数的列表)。你需要完成以下任务：\n",
        "\n",
        "1.  计算每个学生的总分和平均分，并将总分和平均分添加到每个学生的字典中。\n",
        "2.  找出总分最高的学生姓名和总分。\n",
        "3.  统计每门课程的平均分（假设所有学生的 `scores` 列表长度相同，且对应位置的分数属于同一门课程）。\n",
        "\n",
        "**输入示例:**\n",
        "python\n",
        "students_data = [\n",
        "    {\"name\": \"张三\", \"scores\": [85, 90, 78]},\n",
        "    {\"name\": \"李四\", \"scores\": [92, 88, 95]},\n",
        "    {\"name\": \"王五\", \"scores\": [78, 85, 80]},\n",
        "    {\"name\": \"赵六\", \"scores\": [90, 92, 87]}\n",
        "]\n",
        "\n",
        "**预期输出示例:**\n",
        "\n",
        "处理后的学生数据:\n",
        "[\n",
        "    {'name': '张三', 'scores': [85, 90, 78], 'total_score': 253, 'average_score': 84.33},\n",
        "    {'name': '李四', 'scores': [92, 88, 95], 'total_score': 275, 'average_score': 91.67},\n",
        "    {'name': '王五', 'scores': [78, 85, 80], 'total_score': 243, 'average_score': 81.0},\n",
        "    {'name': '赵六', 'scores': [90, 92, 87], 'total_score': 269, 'average_score': 89.67}\n",
        "]\n",
        "\n",
        "总分最高的学生: 李四, 总分: 275\n",
        "\n",
        "各课程平均分:\n",
        "课程 1: 86.25\n",
        "课程 2: 88.75\n",
        "课程 3: 85.0"
      ],
      "metadata": {
        "id": "m_MpBAqu5g2q"
      }
    },
    {
      "cell_type": "markdown",
      "source": [
        "#### 综合练习题 2: 电影评分数据去重与分析\n",
        "\n",
        "**问题描述:**\n",
        "\n",
        "假设你有两份包含电影评分信息的列表，每条记录是一个包含 `User_ID`, `Movie_ID`, 和 `Rating` 的字典。由于数据来源不同，可能存在重复的评分记录（用户对同一电影的评分）。你需要完成以下任务：\n",
        "\n",
        "1.  将两份评分数据合并，并去除重复的评分记录。重复的定义是 `User_ID` 和 `Movie_ID` 完全相同的记录，只保留其中一条。\n",
        "2.  统计每部电影 (`Movie_ID`) 被评分的次数（去重后的数据）。\n",
        "3.  统计每个用户 (`User_ID`) 评分的电影数量（去重后的数据）。\n",
        "\n",
        "**输入示例:**\n",
        "python\n",
        "ratings_list1 = [\n",
        "    {\"User_ID\": 101, \"Movie_ID\": 1001, \"Rating\": 4},\n",
        "    {\"User_ID\": 102, \"Movie_ID\": 1002, \"Rating\": 5},\n",
        "    {\"User_ID\": 101, \"Movie_ID\": 1001, \"Rating\": 4}, # 重复记录\n",
        "    {\"User_ID\": 103, \"Movie_ID\": 1003, \"Rating\": 3}\n",
        "]\n",
        "\n",
        "ratings_list2 = [\n",
        "    {\"User_ID\": 102, \"Movie_ID\": 1002, \"Rating\": 5}, # 重复记录\n",
        "    {\"User_ID\": 104, \"Movie_ID\": 1004, \"Rating\": 4},\n",
        "    {\"User_ID\": 101, \"Movie_ID\": 1005, \"Rating\": 5}\n",
        "]\n",
        "\n",
        "**预期输出示例:**\n",
        "\n",
        "去重合并后的评分数据 (顺序可能不同):\n",
        "[\n",
        "    {'User_ID': 101, 'Movie_ID': 1001, 'Rating': 4},\n",
        "    {'User_ID': 102, 'Movie_ID': 1002, 'Rating': 5},\n",
        "    {'User_ID': 103, 'Movie_ID': 1003, 'Rating': 3},\n",
        "    {'User_ID': 104, 'Movie_ID': 1004, 'Rating': 4},\n",
        "    {'User_ID': 101, 'Movie_ID': 1005, 'Rating': 5}\n",
        "]\n",
        "\n",
        "电影评分次数统计 (顺序可能不同):\n",
        "{1001: 1, 1002: 1, 1003: 1, 1004: 1, 1005: 1}\n",
        "\n",
        "用户评分电影数量统计 (顺序可能不同):\n",
        "{101: 2, 102: 1, 103: 1, 104: 1}"
      ],
      "metadata": {
        "id": "N0WufzLr5xh5"
      }
    },
    {
      "cell_type": "markdown",
      "source": [
        "#### 综合练习题 3: 课程报名冲突检测与统计\n",
        "\n",
        "**问题描述:**\n",
        "\n",
        "假设你有学生的课程报名信息，存储在一个列表中，每条记录是一个字典，包含 `student_id` (学生 ID) 和 `courses` (该学生报名的课程编号列表)。你需要完成以下任务：\n",
        "\n",
        "1.  检测是否存在课程报名冲突。如果两个不同的学生 (`student_id` 不同) 报名了完全相同的课程集合（忽略顺序和重复的课程编号），则认为存在冲突。找出所有发生冲突的学生 ID 对。\n",
        "2.  统计每门课程被多少个不同的学生报名。\n",
        "\n",
        "**输入示例:**\n",
        "python\n",
        "enrollments = [\n",
        "    {\"student_id\": \"s001\", \"courses\": [\"Math101\", \"Physics101\", \"Chem101\"]},\n",
        "    {\"student_id\": \"s002\", \"courses\": [\"History201\", \"Lit201\"]},\n",
        "    {\"student_id\": \"s003\", \"courses\": [\"Chem101\", \"Physics101\", \"Math101\"]}, # 与 s001 报名课程相同\n",
        "    {\"student_id\": \"s004\", \"courses\": [\"Math101\", \"Biology301\"]},\n",
        "    {\"student_id\": \"s005\", \"courses\": [\"Lit201\", \"History201\", \"History201\"]} # 与 s002 报名课程相同 (忽略重复)\n",
        "]\n",
        "\n",
        "**预期输出示例:**\n",
        "\n",
        "课程报名冲突的学生 ID 对 (顺序可能不同，每对只出现一次，例如 (s001, s003) 或 (s003, s001)):\n",
        "{('s001', 's003'), ('s002', 's005')}\n",
        "\n",
        "每门课程的报名人数统计 (不同的学生):\n",
        "{'Math101': 2, 'Physics101': 2, 'Chem101': 2, 'History201': 2, 'Lit201': 2, 'Biology301': 1}"
      ],
      "metadata": {
        "id": "0tRPFvG45-Fi"
      }
    },
    {
      "cell_type": "code",
      "source": [],
      "metadata": {
        "id": "XuO_jYDpzv0V"
      },
      "execution_count": null,
      "outputs": []
    }
  ]
}