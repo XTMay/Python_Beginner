{
  "nbformat": 4,
  "nbformat_minor": 0,
  "metadata": {
    "colab": {
      "provenance": [],
      "collapsed_sections": [
        "Arla6dHtlSjU"
      ],
      "mount_file_id": "13B2iMJq87b4HRQrUAeLZjtywSTG5lNpC",
      "authorship_tag": "ABX9TyMJKaKuiIt4pPK/UijunLbW",
      "include_colab_link": true
    },
    "kernelspec": {
      "name": "python3",
      "display_name": "Python 3"
    },
    "language_info": {
      "name": "python"
    }
  },
  "cells": [
    {
      "cell_type": "markdown",
      "metadata": {
        "id": "view-in-github",
        "colab_type": "text"
      },
      "source": [
        "<a href=\"https://colab.research.google.com/github/XTMay/Python_Beginner/blob/main/Notebook/Lec_1_Python_Basics_1.ipynb\" target=\"_parent\"><img src=\"https://colab.research.google.com/assets/colab-badge.svg\" alt=\"Open In Colab\"/></a>"
      ]
    },
    {
      "cell_type": "markdown",
      "source": [
        "# Lesson 01: Python Basics for Data Science"
      ],
      "metadata": {
        "id": "zXObiq7rcpIK"
      }
    },
    {
      "cell_type": "markdown",
      "source": [
        "**目标**：掌握 Python 的基本语法、变量、数据结构和控制流程，为后续的数据处理和分析打下基础。"
      ],
      "metadata": {
        "id": "E3Kn5szIj_c-"
      }
    },
    {
      "cell_type": "markdown",
      "source": [
        "\n",
        "\n",
        "\n",
        "## 📚 课程提纲\n"
      ],
      "metadata": {
        "id": "ZfgRtt8Wd5EW"
      }
    },
    {
      "cell_type": "markdown",
      "source": [
        "### 1️⃣ Python 简介\n",
        "#### 💻 什么是 Python？\n",
        "\n",
        "[Welcome to Python](https://www.python.org/)"
      ],
      "metadata": {
        "id": "THTfze2skv_g"
      }
    },
    {
      "cell_type": "markdown",
      "source": [
        "Python 是一种高级、通用、解释型的编程语言，由 Guido van Rossum 于 1991 年发布。它以语法简洁、易读性强、开发效率高著称，非常适合初学者入门，也足以支撑大型系统开发。\n",
        "\n",
        "`✅ 一句话理解：Python 就像英文一样自然，它让写代码更接近人类思维。`"
      ],
      "metadata": {
        "id": "ilgVzJ_c0OX0"
      }
    },
    {
      "cell_type": "markdown",
      "source": [
        "[tutorial](https://docs.python.org/3.15/tutorial/index.html)"
      ],
      "metadata": {
        "id": "uyZmmlQ80HU7"
      }
    },
    {
      "cell_type": "markdown",
      "source": [
        "#### 📊 为什么 Python 广泛应用于数据科学？"
      ],
      "metadata": {
        "id": "laRrrSDYyZHW"
      }
    },
    {
      "cell_type": "markdown",
      "source": [
        "#### Python 有大量用于数学运算和分析工具的库\n",
        "\t•\tPandas – 用于结构化数据操作，例如导入 CSV 文件、创建 DataFrame、数据清洗和预处理。\n",
        "\t•\tNumpy – 数学计算库，提供强大的 N 维数组对象、线性代数运算、傅里叶变换等功能。\n",
        "\t•\tMatplotlib – 用于数据可视化，绘制各种图表。\n",
        "\t•\tSciPy – 包含线性代数模块及其他科学计算工具。\n"
      ],
      "metadata": {
        "id": "wVGecev4yJET"
      }
    },
    {
      "cell_type": "markdown",
      "source": [
        "| 优势 | 说明 |\n",
        "|------|------|\n",
        "| 📚 丰富的科学计算库 | 如 NumPy（数值计算）、pandas（数据处理）、Matplotlib/Seaborn（可视化）、scikit-learn（机器学习）等，使得数据处理变得高效而轻松。 |\n",
        "| 🧠 强大的 AI / ML 支持 | 包括 TensorFlow、PyTorch、XGBoost、LightGBM 等深度学习和建模框架，几乎所有主流 AI 工具都有 Python 接口。 |\n",
        "| 🛠️ 简洁易学，代码可读性强 | 相比 R 或 Java，Python 更容易学习和维护，非常适合非程序员背景的数据分析师、科研人员。 |\n",
        "| 🌍 强大的社区和生态系统 | 无论是初学者教程、开源项目还是技术问答（如 StackOverflow），Python 的数据科学社区非常活跃，遇到问题容易找到解决方案。 |\n",
        "| 📈 跨平台和可扩展性 | Python 可以在 Windows / Mac / Linux 上运行，也能与 C/C++/Java 等语言集成，非常灵活。 |"
      ],
      "metadata": {
        "id": "USyJeetvyVHk"
      }
    },
    {
      "cell_type": "markdown",
      "source": [
        "# Python 面向对象编程（OOP）关键字及中文解释表\n",
        "\n",
        "| 关键字 / 概念          | 英文关键词               | 说明（中文）                                                       |\n",
        "|-----------------------|-------------------------|--------------------------------------------------------------------|\n",
        "| 类                    | Class                   | 定义对象的模板或蓝图，描述一类事物的属性和行为                     |\n",
        "| 对象                  | Object / Instance       | 根据类创建的具体实例，具有类定义的属性和方法                       |\n",
        "| 方法                  | Method                  | 定义在类中的函数，用于描述对象的行为                               |\n",
        "| 属性                  | Attribute               | 类或对象中存储的数据，用于描述对象的状态                           |\n",
        "| 继承                  | Inheritance             | 子类继承父类的属性和方法，实现代码复用和层次结构                   |\n",
        "| 多态                  | Polymorphism            | 不同类的对象对同一消息（方法调用）作出不同的响应                   |\n",
        "| 封装                  | Encapsulation           | 将数据和方法包装在类内部，隐藏实现细节，保护对象的状态            |\n",
        "| 构造函数              | Constructor (`__init__`) | 类被实例化时自动调用的方法，用于初始化对象属性                     |\n",
        "| 继承父类构造函数      | super()                 | 用于调用父类的方法，通常用于子类中调用父类的构造函数               |\n",
        "| 私有属性/方法        | Private Attribute/Method | 以双下划线开头（如 `__name`），在类外部不可直接访问               |\n",
        "| 公有属性/方法        | Public Attribute/Method  | 默认访问权限，类内外均可访问                                       |\n",
        "| 类变量                | Class Variable          | 属于类的变量，所有实例共享                                         |\n",
        "| 实例变量              | Instance Variable       | 属于对象的变量，每个实例拥有独立副本                               |\n",
        "| 抽象类                | Abstract Class          | 不能被实例化，只能被继承，通常包含抽象方法（接口规范）            |\n",
        "| 抽象方法              | Abstract Method         | 只声明不实现的方法，子类必须实现                                   |\n",
        "| 接口                  | Interface               | 定义规范，约束类必须实现某些方法（Python中通过抽象基类实现）      |\n",
        "\n",
        "---"
      ],
      "metadata": {
        "id": "OlTrb080ZxxS"
      }
    },
    {
      "cell_type": "markdown",
      "source": [
        "# Python 面向对象编程相关基础关键字及中文解释表\n",
        "\n",
        "| 关键字 / 概念    | 英文关键词        | 说明（中文）                                                |\n",
        "|-----------------|------------------|-------------------------------------------------------------|\n",
        "| 变量            | Variable         | 用于存储数据的命名空间，值可以改变                          |\n",
        "| 数据类型        | Data Type        | 数据的种类，如整数(int)、浮点数(float)、字符串(str)等       |\n",
        "| 条件语句        | Conditional      | 根据条件执行不同代码，如 if、elif、else                      |\n",
        "| 循环            | Loop             | 重复执行代码块，如 for、while                               |\n",
        "| 函数            | Function         | 封装可复用代码块，用 def 定义                                |\n",
        "| 参数            | Parameter        | 传递给函数的变量                                            |\n",
        "| 返回值          | Return Value     | 函数执行后输出的结果                                        |\n",
        "| 模块            | Module           | 包含代码的文件或库，用于组织和复用代码                       |\n",
        "| 异常处理        | Exception Handling | 用 try-except 捕获和处理运行时错误                         |\n",
        "| 类              | Class            | 面向对象编程的模板，定义属性和方法                           |\n",
        "| 对象            | Object           | 类的实例，具体的数据和行为实体                               |\n",
        "| 继承            | Inheritance      | 子类继承父类的属性和方法                                    |\n",
        "| 多态            | Polymorphism     | 不同对象对相同方法调用有不同响应                            |\n",
        "| 封装            | Encapsulation    | 隐藏内部实现，保护对象数据                                  |\n",
        "| 构造函数        | Constructor      | 用 __init__ 初始化对象属性                                   |\n",
        "| 私有变量/方法   | Private Member   | 以双下划线开头，外部不可访问                                |\n",
        "\n",
        "---"
      ],
      "metadata": {
        "id": "4G-RpTYcZ0xc"
      }
    },
    {
      "cell_type": "code",
      "source": [
        "print(\"Hello World!\") # Function: print, parameter: \"Hello World!\""
      ],
      "metadata": {
        "id": "JS5KlKm1eTAb",
        "colab": {
          "base_uri": "https://localhost:8080/"
        },
        "outputId": "bfafdd74-78e3-489f-9a96-39560500d94b"
      },
      "execution_count": 3,
      "outputs": [
        {
          "output_type": "stream",
          "name": "stdout",
          "text": [
            "Hello World!\n"
          ]
        }
      ]
    },
    {
      "cell_type": "code",
      "source": [
        "print(\"Hello, Data Science! 👋\")"
      ],
      "metadata": {
        "id": "gXm01V-lkmHR",
        "colab": {
          "base_uri": "https://localhost:8080/"
        },
        "outputId": "391b1f93-f7a4-4971-ea94-9c84ace108a3"
      },
      "execution_count": 4,
      "outputs": [
        {
          "output_type": "stream",
          "name": "stdout",
          "text": [
            "Hello, Data Science! 👋\n"
          ]
        }
      ]
    },
    {
      "cell_type": "markdown",
      "source": [
        "### 2️⃣ 变量与基本数据类型"
      ],
      "metadata": {
        "id": "p1DbL7Aic280"
      }
    },
    {
      "cell_type": "markdown",
      "source": [
        "\t•\t常见类型：int, float, str, bool\n",
        "\t•\t类型检查与转换：type(), int(), float(), str()"
      ],
      "metadata": {
        "id": "7ymzpi9TkyyK"
      }
    },
    {
      "cell_type": "code",
      "source": [
        "name = \"Alice\"\n",
        "age = 28\n",
        "height = 1.65\n",
        "is_data_scientist = False"
      ],
      "metadata": {
        "id": "_ucb5GLKk0Ng"
      },
      "execution_count": 5,
      "outputs": []
    },
    {
      "cell_type": "code",
      "source": [
        "print(name, age, height, is_data_scientist)"
      ],
      "metadata": {
        "id": "TyMjhQQ0erIt",
        "colab": {
          "base_uri": "https://localhost:8080/"
        },
        "outputId": "58ecd537-3283-47b7-f406-2bdc65e579ea"
      },
      "execution_count": 6,
      "outputs": [
        {
          "output_type": "stream",
          "name": "stdout",
          "text": [
            "Alice 28 1.65 False\n"
          ]
        }
      ]
    },
    {
      "cell_type": "code",
      "source": [
        "print(type(height))"
      ],
      "metadata": {
        "id": "trjKjlh7ezsG",
        "colab": {
          "base_uri": "https://localhost:8080/"
        },
        "outputId": "46ab583f-cbab-4bcc-f6f8-4d0aba4da45a"
      },
      "execution_count": 8,
      "outputs": [
        {
          "output_type": "stream",
          "name": "stdout",
          "text": [
            "<class 'float'>\n"
          ]
        }
      ]
    },
    {
      "cell_type": "code",
      "source": [
        "print(type(True))"
      ],
      "metadata": {
        "id": "lQwh7A_Ze23P",
        "colab": {
          "base_uri": "https://localhost:8080/"
        },
        "outputId": "3e16ec0c-9e8a-48c8-ca17-d850d55e36ad"
      },
      "execution_count": 11,
      "outputs": [
        {
          "output_type": "stream",
          "name": "stdout",
          "text": [
            "<class 'bool'>\n"
          ]
        }
      ]
    },
    {
      "cell_type": "markdown",
      "source": [
        "- True: 1, False: 0"
      ],
      "metadata": {
        "id": "kY9DMA0h9IVz"
      }
    },
    {
      "cell_type": "code",
      "source": [
        "True and False"
      ],
      "metadata": {
        "colab": {
          "base_uri": "https://localhost:8080/"
        },
        "id": "u_RlFqm4ODst",
        "outputId": "82d40c79-c81f-4128-94ba-a73e043d75c8"
      },
      "execution_count": 13,
      "outputs": [
        {
          "output_type": "execute_result",
          "data": {
            "text/plain": [
              "False"
            ]
          },
          "metadata": {},
          "execution_count": 13
        }
      ]
    },
    {
      "cell_type": "code",
      "source": [
        "False or True"
      ],
      "metadata": {
        "colab": {
          "base_uri": "https://localhost:8080/"
        },
        "id": "rB-wWx1ZOHkP",
        "outputId": "6aafa7dd-b567-48b0-96a2-d02d1ad78f0b"
      },
      "execution_count": 14,
      "outputs": [
        {
          "output_type": "execute_result",
          "data": {
            "text/plain": [
              "True"
            ]
          },
          "metadata": {},
          "execution_count": 14
        }
      ]
    },
    {
      "cell_type": "code",
      "source": [
        "is_data_scientist = False"
      ],
      "metadata": {
        "id": "7e_uPu-n9URw"
      },
      "execution_count": 15,
      "outputs": []
    },
    {
      "cell_type": "code",
      "source": [
        "type(\"123\")"
      ],
      "metadata": {
        "colab": {
          "base_uri": "https://localhost:8080/"
        },
        "id": "6a6bJecIORar",
        "outputId": "1d9d0551-39e6-4f57-a2c2-00847391713e"
      },
      "execution_count": 19,
      "outputs": [
        {
          "output_type": "execute_result",
          "data": {
            "text/plain": [
              "str"
            ]
          },
          "metadata": {},
          "execution_count": 19
        }
      ]
    },
    {
      "cell_type": "code",
      "source": [
        "int(is_data_scientist)"
      ],
      "metadata": {
        "colab": {
          "base_uri": "https://localhost:8080/"
        },
        "id": "PNp03MoG9AoP",
        "outputId": "a16f782a-fc9e-4748-92f2-87928e7b54d5"
      },
      "execution_count": 20,
      "outputs": [
        {
          "output_type": "execute_result",
          "data": {
            "text/plain": [
              "0"
            ]
          },
          "metadata": {},
          "execution_count": 20
        }
      ]
    },
    {
      "cell_type": "code",
      "source": [
        "int('dsgdh')"
      ],
      "metadata": {
        "colab": {
          "base_uri": "https://localhost:8080/",
          "height": 141
        },
        "id": "LzXaLyWaOk3r",
        "outputId": "178a28c3-2818-4793-e2f8-6dee8c68b769"
      },
      "execution_count": 22,
      "outputs": [
        {
          "output_type": "error",
          "ename": "ValueError",
          "evalue": "invalid literal for int() with base 10: 'dsgdh'",
          "traceback": [
            "\u001b[0;31m---------------------------------------------------------------------------\u001b[0m",
            "\u001b[0;31mValueError\u001b[0m                                Traceback (most recent call last)",
            "\u001b[0;32m/tmp/ipython-input-3076519643.py\u001b[0m in \u001b[0;36m<cell line: 0>\u001b[0;34m()\u001b[0m\n\u001b[0;32m----> 1\u001b[0;31m \u001b[0mint\u001b[0m\u001b[0;34m(\u001b[0m\u001b[0;34m'dsgdh'\u001b[0m\u001b[0;34m)\u001b[0m\u001b[0;34m\u001b[0m\u001b[0;34m\u001b[0m\u001b[0m\n\u001b[0m",
            "\u001b[0;31mValueError\u001b[0m: invalid literal for int() with base 10: 'dsgdh'"
          ]
        }
      ]
    },
    {
      "cell_type": "markdown",
      "source": [
        "### \t用户输入函数（Data Collection）"
      ],
      "metadata": {
        "id": "ZoNyuNeCk9Z1"
      }
    },
    {
      "cell_type": "code",
      "source": [
        "user_name = input(\"请输入你的名字：\")\n",
        "print(\"欢迎加入数据科学世界，\", user_name)"
      ],
      "metadata": {
        "id": "YNBmh-5Yk998",
        "colab": {
          "base_uri": "https://localhost:8080/"
        },
        "outputId": "dbf0282e-995c-43a3-f47e-cb98e71df9fc"
      },
      "execution_count": 23,
      "outputs": [
        {
          "output_type": "stream",
          "name": "stdout",
          "text": [
            "请输入你的名字：May\n",
            "欢迎加入数据科学世界， May\n"
          ]
        }
      ]
    },
    {
      "cell_type": "code",
      "source": [
        "user_name"
      ],
      "metadata": {
        "colab": {
          "base_uri": "https://localhost:8080/",
          "height": 35
        },
        "id": "hZXYxGffO7Z1",
        "outputId": "0b3f095b-a8a4-4a7e-c252-ed010c595072"
      },
      "execution_count": 24,
      "outputs": [
        {
          "output_type": "execute_result",
          "data": {
            "text/plain": [
              "'May'"
            ],
            "application/vnd.google.colaboratory.intrinsic+json": {
              "type": "string"
            }
          },
          "metadata": {},
          "execution_count": 24
        }
      ]
    },
    {
      "cell_type": "markdown",
      "source": [
        "### 3️⃣ 常见数据结构"
      ],
      "metadata": {
        "id": "UwJsjKkIlFFm"
      }
    },
    {
      "cell_type": "markdown",
      "source": [
        "#### 🔹 List（列表）— 数据集基本容器"
      ],
      "metadata": {
        "id": "4hO2dB9plHhe"
      }
    },
    {
      "cell_type": "code",
      "source": [
        "lst = []"
      ],
      "metadata": {
        "id": "WyQV4uEnPLSX"
      },
      "execution_count": 25,
      "outputs": []
    },
    {
      "cell_type": "code",
      "source": [
        "cities = [\"Tokyo\", \"New York\", \"London\"]"
      ],
      "metadata": {
        "id": "Va13YIaClFl0"
      },
      "execution_count": 26,
      "outputs": []
    },
    {
      "cell_type": "code",
      "source": [
        "cities"
      ],
      "metadata": {
        "colab": {
          "base_uri": "https://localhost:8080/"
        },
        "id": "TrF38XgQPPss",
        "outputId": "ff3af723-2eee-4503-a299-0a9ab5f33317"
      },
      "execution_count": 27,
      "outputs": [
        {
          "output_type": "execute_result",
          "data": {
            "text/plain": [
              "['Tokyo', 'New York', 'London']"
            ]
          },
          "metadata": {},
          "execution_count": 27
        }
      ]
    },
    {
      "cell_type": "code",
      "source": [
        "cities = cities + ['Shanghai']"
      ],
      "metadata": {
        "id": "IN1D1mAJPRYG"
      },
      "execution_count": 32,
      "outputs": []
    },
    {
      "cell_type": "code",
      "source": [
        "cities"
      ],
      "metadata": {
        "colab": {
          "base_uri": "https://localhost:8080/"
        },
        "id": "NwiCku3_PbYF",
        "outputId": "2aa121f0-3d06-493f-8cde-95a8c94280b8"
      },
      "execution_count": 46,
      "outputs": [
        {
          "output_type": "execute_result",
          "data": {
            "text/plain": [
              "['New York', 'London', 'Shanghai', 'Seattle', 'Chicago']"
            ]
          },
          "metadata": {},
          "execution_count": 46
        }
      ]
    },
    {
      "cell_type": "code",
      "source": [
        "cities.append('Seattle')"
      ],
      "metadata": {
        "id": "KXPw6icYPwgo"
      },
      "execution_count": 34,
      "outputs": []
    },
    {
      "cell_type": "code",
      "source": [
        "cities.append(\"Chicago\") # List use append"
      ],
      "metadata": {
        "id": "b3BH0zYAfPGP"
      },
      "execution_count": 36,
      "outputs": []
    },
    {
      "cell_type": "code",
      "source": [
        "cities.remove('Tokyo')"
      ],
      "metadata": {
        "id": "1lmwtPlBfRdj"
      },
      "execution_count": 39,
      "outputs": []
    },
    {
      "cell_type": "code",
      "source": [
        "cities[3]"
      ],
      "metadata": {
        "id": "dBgFPgsYfVQG",
        "colab": {
          "base_uri": "https://localhost:8080/",
          "height": 35
        },
        "outputId": "969a06ef-3bed-4887-8057-b4a2a6ffe98a"
      },
      "execution_count": 42,
      "outputs": [
        {
          "output_type": "execute_result",
          "data": {
            "text/plain": [
              "'Seattle'"
            ],
            "application/vnd.google.colaboratory.intrinsic+json": {
              "type": "string"
            }
          },
          "metadata": {},
          "execution_count": 42
        }
      ]
    },
    {
      "cell_type": "code",
      "source": [
        "len(cities)"
      ],
      "metadata": {
        "colab": {
          "base_uri": "https://localhost:8080/"
        },
        "id": "twXd59GUQuXA",
        "outputId": "5febfb97-f84e-4869-a284-cb925ccd54e5"
      },
      "execution_count": 48,
      "outputs": [
        {
          "output_type": "execute_result",
          "data": {
            "text/plain": [
              "5"
            ]
          },
          "metadata": {},
          "execution_count": 48
        }
      ]
    },
    {
      "cell_type": "code",
      "source": [
        "cities[2:len(cities)] # idx_0 <= idx < idx_1"
      ],
      "metadata": {
        "colab": {
          "base_uri": "https://localhost:8080/"
        },
        "id": "_EKGsP3Q94Ce",
        "outputId": "e01d427a-98e3-4993-e9e7-bb0d3e08cef1"
      },
      "execution_count": 49,
      "outputs": [
        {
          "output_type": "execute_result",
          "data": {
            "text/plain": [
              "['Shanghai', 'Seattle', 'Chicago']"
            ]
          },
          "metadata": {},
          "execution_count": 49
        }
      ]
    },
    {
      "cell_type": "code",
      "source": [
        "'123456' + '789'"
      ],
      "metadata": {
        "colab": {
          "base_uri": "https://localhost:8080/",
          "height": 35
        },
        "id": "6uk4esuLRaYM",
        "outputId": "ea2cf6b3-60ee-4400-8a4f-b308c1cbf0e1"
      },
      "execution_count": 56,
      "outputs": [
        {
          "output_type": "execute_result",
          "data": {
            "text/plain": [
              "'123456789'"
            ],
            "application/vnd.google.colaboratory.intrinsic+json": {
              "type": "string"
            }
          },
          "metadata": {},
          "execution_count": 56
        }
      ]
    },
    {
      "cell_type": "code",
      "source": [
        "len('123456' + '789')"
      ],
      "metadata": {
        "id": "bh_PgZfLfato",
        "colab": {
          "base_uri": "https://localhost:8080/"
        },
        "outputId": "ec952b61-6ecb-4a0f-bb76-7e324c213912"
      },
      "execution_count": 55,
      "outputs": [
        {
          "output_type": "execute_result",
          "data": {
            "text/plain": [
              "9"
            ]
          },
          "metadata": {},
          "execution_count": 55
        }
      ]
    },
    {
      "cell_type": "code",
      "source": [
        "lst_test = [123, \"123\", 123.45, True]"
      ],
      "metadata": {
        "id": "ynetdDWgftpN"
      },
      "execution_count": 57,
      "outputs": []
    },
    {
      "cell_type": "code",
      "source": [
        "lst_test[-1]"
      ],
      "metadata": {
        "id": "w7SCeopff14D",
        "colab": {
          "base_uri": "https://localhost:8080/"
        },
        "outputId": "a5c419a0-1336-479f-b9c4-2977389fcaba"
      },
      "execution_count": 58,
      "outputs": [
        {
          "output_type": "execute_result",
          "data": {
            "text/plain": [
              "True"
            ]
          },
          "metadata": {},
          "execution_count": 58
        }
      ]
    },
    {
      "cell_type": "code",
      "source": [
        "lst_test[-6:-2]"
      ],
      "metadata": {
        "id": "2CwksyK-f4XH",
        "colab": {
          "base_uri": "https://localhost:8080/"
        },
        "outputId": "c7d42866-318e-4774-fd1c-620175847162"
      },
      "execution_count": 61,
      "outputs": [
        {
          "output_type": "execute_result",
          "data": {
            "text/plain": [
              "[123, '123']"
            ]
          },
          "metadata": {},
          "execution_count": 61
        }
      ]
    },
    {
      "cell_type": "markdown",
      "source": [
        "#### 🔹 Dict（字典）— 类似数据库中键值结构 (key-value)"
      ],
      "metadata": {
        "id": "1KOpfD5dlKk5"
      }
    },
    {
      "cell_type": "code",
      "source": [
        "person = {\"name\": \"Alice\", \"age\": 28, \"score\": [98, 87, 66]} # key: value(any type)"
      ],
      "metadata": {
        "id": "mEsnfYKdlLNs"
      },
      "execution_count": 62,
      "outputs": []
    },
    {
      "cell_type": "code",
      "source": [
        "person"
      ],
      "metadata": {
        "colab": {
          "base_uri": "https://localhost:8080/"
        },
        "id": "fhpO8axq-R__",
        "outputId": "e53d768b-234e-408a-af12-c7137ccfac76"
      },
      "execution_count": 63,
      "outputs": [
        {
          "output_type": "execute_result",
          "data": {
            "text/plain": [
              "{'name': 'Alice', 'age': 28, 'score': [98, 87, 66]}"
            ]
          },
          "metadata": {},
          "execution_count": 63
        }
      ]
    },
    {
      "cell_type": "code",
      "source": [
        "print(person[\"age\"])"
      ],
      "metadata": {
        "id": "8iAGybeDgEys",
        "colab": {
          "base_uri": "https://localhost:8080/"
        },
        "outputId": "ffc3f2d6-90f3-41f9-c8a7-7394ca86d359"
      },
      "execution_count": 65,
      "outputs": [
        {
          "output_type": "stream",
          "name": "stdout",
          "text": [
            "28\n"
          ]
        }
      ]
    },
    {
      "cell_type": "code",
      "source": [
        "person.items()"
      ],
      "metadata": {
        "colab": {
          "base_uri": "https://localhost:8080/"
        },
        "id": "VOVauDPqSjOM",
        "outputId": "144d89e9-c787-4c73-bcec-d044d05e6492"
      },
      "execution_count": 66,
      "outputs": [
        {
          "output_type": "execute_result",
          "data": {
            "text/plain": [
              "dict_items([('name', 'Alice'), ('age', 28), ('score', [98, 87, 66])])"
            ]
          },
          "metadata": {},
          "execution_count": 66
        }
      ]
    },
    {
      "cell_type": "code",
      "source": [
        "person[\"name\"] = 'May'"
      ],
      "metadata": {
        "id": "a4UZAcQtgKML"
      },
      "execution_count": 67,
      "outputs": []
    },
    {
      "cell_type": "code",
      "source": [
        "person['height'] = 1.78"
      ],
      "metadata": {
        "id": "cJV4pR6VgPfq"
      },
      "execution_count": 74,
      "outputs": []
    },
    {
      "cell_type": "code",
      "source": [
        "person"
      ],
      "metadata": {
        "colab": {
          "base_uri": "https://localhost:8080/"
        },
        "id": "-PEg0fstTLuh",
        "outputId": "1d8a30c1-0978-4a0a-c112-b0ebf06e2679"
      },
      "execution_count": 81,
      "outputs": [
        {
          "output_type": "execute_result",
          "data": {
            "text/plain": [
              "{'name': 'May', 'age': 28, 'score': [98, 100, 66], 'height': 1.78}"
            ]
          },
          "metadata": {},
          "execution_count": 81
        }
      ]
    },
    {
      "cell_type": "code",
      "source": [
        "score = person[\"score\"]"
      ],
      "metadata": {
        "id": "v5J1ISU-Sqew"
      },
      "execution_count": 77,
      "outputs": []
    },
    {
      "cell_type": "code",
      "source": [
        "height"
      ],
      "metadata": {
        "colab": {
          "base_uri": "https://localhost:8080/"
        },
        "id": "jSs1jQJCTUgk",
        "outputId": "dd13f441-b7a7-4d09-d185-4ee190316035"
      },
      "execution_count": 78,
      "outputs": [
        {
          "output_type": "execute_result",
          "data": {
            "text/plain": [
              "1.78"
            ]
          },
          "metadata": {},
          "execution_count": 78
        }
      ]
    },
    {
      "cell_type": "code",
      "source": [
        "height = 1.6\n",
        "height"
      ],
      "metadata": {
        "colab": {
          "base_uri": "https://localhost:8080/"
        },
        "id": "Q6I54z61Sx5I",
        "outputId": "ac8c6068-5667-450f-aca3-13debeefd423"
      },
      "execution_count": 79,
      "outputs": [
        {
          "output_type": "execute_result",
          "data": {
            "text/plain": [
              "1.6"
            ]
          },
          "metadata": {},
          "execution_count": 79
        }
      ]
    },
    {
      "cell_type": "code",
      "source": [
        "dic_test = {1: '1', '2': 2}"
      ],
      "metadata": {
        "id": "8TzPa1FtgoRj"
      },
      "execution_count": 82,
      "outputs": []
    },
    {
      "cell_type": "code",
      "source": [
        "dic_test[1]"
      ],
      "metadata": {
        "id": "JCGGbOFSgwDQ",
        "colab": {
          "base_uri": "https://localhost:8080/",
          "height": 35
        },
        "outputId": "f5260f1f-0015-4e1b-c397-95ad1732b5d2"
      },
      "execution_count": 83,
      "outputs": [
        {
          "output_type": "execute_result",
          "data": {
            "text/plain": [
              "'1'"
            ],
            "application/vnd.google.colaboratory.intrinsic+json": {
              "type": "string"
            }
          },
          "metadata": {},
          "execution_count": 83
        }
      ]
    },
    {
      "cell_type": "code",
      "source": [
        "dic_test = {3.14: '1', 4.23: 2}"
      ],
      "metadata": {
        "id": "EquBp6wPgx9X"
      },
      "execution_count": 84,
      "outputs": []
    },
    {
      "cell_type": "code",
      "source": [
        "dic_test[3.14]"
      ],
      "metadata": {
        "id": "eZmOR8thg1xJ",
        "colab": {
          "base_uri": "https://localhost:8080/",
          "height": 35
        },
        "outputId": "179801da-e25a-4b72-8270-76505b8abca5"
      },
      "execution_count": 85,
      "outputs": [
        {
          "output_type": "execute_result",
          "data": {
            "text/plain": [
              "'1'"
            ],
            "application/vnd.google.colaboratory.intrinsic+json": {
              "type": "string"
            }
          },
          "metadata": {},
          "execution_count": 85
        }
      ]
    },
    {
      "cell_type": "code",
      "source": [
        "dic_test = {True: 1, False: 0}"
      ],
      "metadata": {
        "id": "QnCrXEVIg4Kv"
      },
      "execution_count": 86,
      "outputs": []
    },
    {
      "cell_type": "code",
      "source": [
        "dic_test[True]"
      ],
      "metadata": {
        "id": "w_V24-XYg7lq",
        "colab": {
          "base_uri": "https://localhost:8080/"
        },
        "outputId": "12662f98-eb6d-4dbb-d4de-ba9df298a458"
      },
      "execution_count": 87,
      "outputs": [
        {
          "output_type": "execute_result",
          "data": {
            "text/plain": [
              "1"
            ]
          },
          "metadata": {},
          "execution_count": 87
        }
      ]
    },
    {
      "cell_type": "code",
      "source": [
        "dic_test = {\"list\": {\"1\": 1, \"5\": 5}, \"dict\": {\"key\": \"value\", \"key2\": \"value2\"}}"
      ],
      "metadata": {
        "id": "zzU4Liajg_cY"
      },
      "execution_count": 88,
      "outputs": []
    },
    {
      "cell_type": "code",
      "source": [
        "dic_test"
      ],
      "metadata": {
        "colab": {
          "base_uri": "https://localhost:8080/"
        },
        "id": "_Wqyz2RZUPSo",
        "outputId": "6f8798b0-772e-41f8-a3a7-045da8a2fe46"
      },
      "execution_count": 89,
      "outputs": [
        {
          "output_type": "execute_result",
          "data": {
            "text/plain": [
              "{'list': {'1': 1, '5': 5}, 'dict': {'key': 'value', 'key2': 'value2'}}"
            ]
          },
          "metadata": {},
          "execution_count": 89
        }
      ]
    },
    {
      "cell_type": "code",
      "source": [
        "dic_test[\"dict\"][\"key2\"]"
      ],
      "metadata": {
        "colab": {
          "base_uri": "https://localhost:8080/",
          "height": 35
        },
        "id": "GYNCblL1UQqO",
        "outputId": "8802129b-1793-4fbf-c33f-1fafdb55ad24"
      },
      "execution_count": 90,
      "outputs": [
        {
          "output_type": "execute_result",
          "data": {
            "text/plain": [
              "'value2'"
            ],
            "application/vnd.google.colaboratory.intrinsic+json": {
              "type": "string"
            }
          },
          "metadata": {},
          "execution_count": 90
        }
      ]
    },
    {
      "cell_type": "code",
      "source": [
        "dic_test_2 = {[1, 2, 3]: \"test\"} # key: int, float, str, bool, value:  any"
      ],
      "metadata": {
        "id": "MlUrHHzJhSXS",
        "colab": {
          "base_uri": "https://localhost:8080/",
          "height": 141
        },
        "outputId": "aa8f6178-6c91-4b94-d01f-83a69830df84"
      },
      "execution_count": 91,
      "outputs": [
        {
          "output_type": "error",
          "ename": "TypeError",
          "evalue": "unhashable type: 'list'",
          "traceback": [
            "\u001b[0;31m---------------------------------------------------------------------------\u001b[0m",
            "\u001b[0;31mTypeError\u001b[0m                                 Traceback (most recent call last)",
            "\u001b[0;32m/tmp/ipython-input-761493458.py\u001b[0m in \u001b[0;36m<cell line: 0>\u001b[0;34m()\u001b[0m\n\u001b[0;32m----> 1\u001b[0;31m \u001b[0mdic_test_2\u001b[0m \u001b[0;34m=\u001b[0m \u001b[0;34m{\u001b[0m\u001b[0;34m[\u001b[0m\u001b[0;36m1\u001b[0m\u001b[0;34m,\u001b[0m \u001b[0;36m2\u001b[0m\u001b[0;34m,\u001b[0m \u001b[0;36m3\u001b[0m\u001b[0;34m]\u001b[0m\u001b[0;34m:\u001b[0m \u001b[0;34m\"test\"\u001b[0m\u001b[0;34m}\u001b[0m \u001b[0;31m# key: int, float, str, bool, value:  any\u001b[0m\u001b[0;34m\u001b[0m\u001b[0;34m\u001b[0m\u001b[0m\n\u001b[0m",
            "\u001b[0;31mTypeError\u001b[0m: unhashable type: 'list'"
          ]
        }
      ]
    },
    {
      "cell_type": "markdown",
      "source": [
        "- Key: Unique"
      ],
      "metadata": {
        "id": "dIEV4XFG-3in"
      }
    },
    {
      "cell_type": "code",
      "source": [
        "person['height'] = 164 # add an item/update"
      ],
      "metadata": {
        "id": "ymCnSb9Mh_kM"
      },
      "execution_count": null,
      "outputs": []
    },
    {
      "cell_type": "code",
      "source": [
        "person"
      ],
      "metadata": {
        "id": "zT4tBo7chjpQ"
      },
      "execution_count": null,
      "outputs": []
    },
    {
      "cell_type": "code",
      "source": [
        "person['age'] = 18"
      ],
      "metadata": {
        "id": "dyO6XI2IiOjw"
      },
      "execution_count": null,
      "outputs": []
    },
    {
      "cell_type": "code",
      "source": [
        "person"
      ],
      "metadata": {
        "colab": {
          "base_uri": "https://localhost:8080/"
        },
        "id": "dPmYAsi8UmIc",
        "outputId": "ad772426-7695-46a0-956d-9707fab1fb7c"
      },
      "execution_count": 92,
      "outputs": [
        {
          "output_type": "execute_result",
          "data": {
            "text/plain": [
              "{'name': 'May', 'age': 28, 'score': [98, 100, 66], 'height': 1.78}"
            ]
          },
          "metadata": {},
          "execution_count": 92
        }
      ]
    },
    {
      "cell_type": "code",
      "source": [
        "person['score']"
      ],
      "metadata": {
        "colab": {
          "base_uri": "https://localhost:8080/"
        },
        "id": "FTAV7il_U1Ye",
        "outputId": "2b8e8150-570c-424b-fc91-3a6d0910fc9d"
      },
      "execution_count": 93,
      "outputs": [
        {
          "output_type": "execute_result",
          "data": {
            "text/plain": [
              "[98, 100, 66]"
            ]
          },
          "metadata": {},
          "execution_count": 93
        }
      ]
    },
    {
      "cell_type": "code",
      "source": [
        "person['Total'] = sum(person['score'])"
      ],
      "metadata": {
        "id": "qLuFK1Y5UoW7"
      },
      "execution_count": 97,
      "outputs": []
    },
    {
      "cell_type": "code",
      "source": [
        "person"
      ],
      "metadata": {
        "colab": {
          "base_uri": "https://localhost:8080/"
        },
        "id": "n3ofYO4iVYvS",
        "outputId": "92dbe7fd-d9b5-4104-aa3f-bf421220da91"
      },
      "execution_count": 98,
      "outputs": [
        {
          "output_type": "execute_result",
          "data": {
            "text/plain": [
              "{'name': 'May',\n",
              " 'age': 28,\n",
              " 'score': [98, 100, 66],\n",
              " 'height': 1.78,\n",
              " 'Total': 264}"
            ]
          },
          "metadata": {},
          "execution_count": 98
        }
      ]
    },
    {
      "cell_type": "markdown",
      "source": [
        "#### 🔹 Tuple（元组）& Set（集合）"
      ],
      "metadata": {
        "id": "C2uJkfFVlNfn"
      }
    },
    {
      "cell_type": "markdown",
      "source": [
        "[], {}"
      ],
      "metadata": {
        "id": "Mjm3hkxiVvYZ"
      }
    },
    {
      "cell_type": "code",
      "source": [
        "coordinates = (35.6, 139.6, 99, 88, 100) # Tuple 不可修改"
      ],
      "metadata": {
        "id": "iDmYzEpgiipJ"
      },
      "execution_count": 107,
      "outputs": []
    },
    {
      "cell_type": "code",
      "source": [
        "coordinates"
      ],
      "metadata": {
        "colab": {
          "base_uri": "https://localhost:8080/"
        },
        "id": "kgfWld75_Sng",
        "outputId": "053dda8c-cfdc-4f7c-bdb0-f9aa3f03dd0e"
      },
      "execution_count": 108,
      "outputs": [
        {
          "output_type": "execute_result",
          "data": {
            "text/plain": [
              "(35.6, 139.6, 99, 88, 100)"
            ]
          },
          "metadata": {},
          "execution_count": 108
        }
      ]
    },
    {
      "cell_type": "code",
      "source": [
        "coordinates[1:3]"
      ],
      "metadata": {
        "colab": {
          "base_uri": "https://localhost:8080/"
        },
        "id": "euMuA9TZ_Vpj",
        "outputId": "778cd0f2-7a75-47ab-ca93-12660b1eee43"
      },
      "execution_count": 109,
      "outputs": [
        {
          "output_type": "execute_result",
          "data": {
            "text/plain": [
              "(139.6, 99)"
            ]
          },
          "metadata": {},
          "execution_count": 109
        }
      ]
    },
    {
      "cell_type": "code",
      "source": [
        "coordinates[1] = 123 # 'tuple' object does not support item assignment"
      ],
      "metadata": {
        "id": "8V4I8eBHimbw",
        "colab": {
          "base_uri": "https://localhost:8080/",
          "height": 141
        },
        "outputId": "aeb879d7-39d3-4587-d780-e2b2d9dd368b"
      },
      "execution_count": 102,
      "outputs": [
        {
          "output_type": "error",
          "ename": "TypeError",
          "evalue": "'tuple' object does not support item assignment",
          "traceback": [
            "\u001b[0;31m---------------------------------------------------------------------------\u001b[0m",
            "\u001b[0;31mTypeError\u001b[0m                                 Traceback (most recent call last)",
            "\u001b[0;32m/tmp/ipython-input-3722967674.py\u001b[0m in \u001b[0;36m<cell line: 0>\u001b[0;34m()\u001b[0m\n\u001b[0;32m----> 1\u001b[0;31m \u001b[0mcoordinates\u001b[0m\u001b[0;34m[\u001b[0m\u001b[0;36m1\u001b[0m\u001b[0;34m]\u001b[0m \u001b[0;34m=\u001b[0m \u001b[0;36m123\u001b[0m \u001b[0;31m# 'tuple' object does not support item assignment\u001b[0m\u001b[0;34m\u001b[0m\u001b[0;34m\u001b[0m\u001b[0m\n\u001b[0m",
            "\u001b[0;31mTypeError\u001b[0m: 'tuple' object does not support item assignment"
          ]
        }
      ]
    },
    {
      "cell_type": "code",
      "source": [
        "unique_items = set([\"1\", \"2\", \"2\", 3, True, False, True, 3.14])  # Set 自动去重"
      ],
      "metadata": {
        "id": "LHrHA413ixhg"
      },
      "execution_count": 110,
      "outputs": []
    },
    {
      "cell_type": "code",
      "source": [
        "s = set()"
      ],
      "metadata": {
        "id": "wxtTp93OWihH"
      },
      "execution_count": 112,
      "outputs": []
    },
    {
      "cell_type": "code",
      "source": [
        "s.add(\"1\")"
      ],
      "metadata": {
        "id": "9bxGMvzMWmpn"
      },
      "execution_count": 113,
      "outputs": []
    },
    {
      "cell_type": "code",
      "source": [
        "s"
      ],
      "metadata": {
        "colab": {
          "base_uri": "https://localhost:8080/"
        },
        "id": "Hs0Rg_-MWpz_",
        "outputId": "153759b8-5955-43b5-b35a-d5ec78e7ecee"
      },
      "execution_count": 115,
      "outputs": [
        {
          "output_type": "execute_result",
          "data": {
            "text/plain": [
              "{'1'}"
            ]
          },
          "metadata": {},
          "execution_count": 115
        }
      ]
    },
    {
      "cell_type": "code",
      "source": [
        "s.add(1)"
      ],
      "metadata": {
        "id": "8Co4uC9zWrq0"
      },
      "execution_count": 116,
      "outputs": []
    },
    {
      "cell_type": "code",
      "source": [
        "s"
      ],
      "metadata": {
        "colab": {
          "base_uri": "https://localhost:8080/"
        },
        "id": "QhyWS0oZWuNH",
        "outputId": "f945a70e-5d47-43b7-91a3-3e31a39fb319"
      },
      "execution_count": 117,
      "outputs": [
        {
          "output_type": "execute_result",
          "data": {
            "text/plain": [
              "{1, '1'}"
            ]
          },
          "metadata": {},
          "execution_count": 117
        }
      ]
    },
    {
      "cell_type": "code",
      "source": [
        "s.add('1')"
      ],
      "metadata": {
        "id": "nJ-sCtLtWxau"
      },
      "execution_count": 118,
      "outputs": []
    },
    {
      "cell_type": "code",
      "source": [
        "s"
      ],
      "metadata": {
        "colab": {
          "base_uri": "https://localhost:8080/"
        },
        "id": "XD-XYAlZWzSy",
        "outputId": "f0cbab92-405e-4f1c-a6d0-4b21655d882b"
      },
      "execution_count": 119,
      "outputs": [
        {
          "output_type": "execute_result",
          "data": {
            "text/plain": [
              "{1, '1'}"
            ]
          },
          "metadata": {},
          "execution_count": 119
        }
      ]
    },
    {
      "cell_type": "code",
      "source": [
        "s.add(False)"
      ],
      "metadata": {
        "id": "uIRlNtNyW2Zv"
      },
      "execution_count": 124,
      "outputs": []
    },
    {
      "cell_type": "code",
      "source": [
        "s"
      ],
      "metadata": {
        "colab": {
          "base_uri": "https://localhost:8080/"
        },
        "id": "tbGwVjGmW6i1",
        "outputId": "e5266bad-8a65-45a5-9581-8cd5d5c658f9"
      },
      "execution_count": 125,
      "outputs": [
        {
          "output_type": "execute_result",
          "data": {
            "text/plain": [
              "{1, '1', False}"
            ]
          },
          "metadata": {},
          "execution_count": 125
        }
      ]
    },
    {
      "cell_type": "code",
      "source": [
        "s.add(True)\n",
        "s"
      ],
      "metadata": {
        "colab": {
          "base_uri": "https://localhost:8080/"
        },
        "id": "r-Axn-nDW9wF",
        "outputId": "6d9e0049-33ee-4480-fb6c-13f97d328ac9"
      },
      "execution_count": 126,
      "outputs": [
        {
          "output_type": "execute_result",
          "data": {
            "text/plain": [
              "{1, '1', False}"
            ]
          },
          "metadata": {},
          "execution_count": 126
        }
      ]
    },
    {
      "cell_type": "code",
      "source": [
        "s.add(0)\n",
        "s"
      ],
      "metadata": {
        "colab": {
          "base_uri": "https://localhost:8080/"
        },
        "id": "KwEH5sOpXAi9",
        "outputId": "562ae66c-1bbc-4e1c-c2d9-e774448e0253"
      },
      "execution_count": 127,
      "outputs": [
        {
          "output_type": "execute_result",
          "data": {
            "text/plain": [
              "{1, '1', False}"
            ]
          },
          "metadata": {},
          "execution_count": 127
        }
      ]
    },
    {
      "cell_type": "code",
      "source": [
        "s.remove(False)"
      ],
      "metadata": {
        "id": "RthgYdytXUBl"
      },
      "execution_count": 128,
      "outputs": []
    },
    {
      "cell_type": "code",
      "source": [
        "s"
      ],
      "metadata": {
        "colab": {
          "base_uri": "https://localhost:8080/"
        },
        "id": "RvHJFRc3XXMN",
        "outputId": "ea5fe331-cc9d-4490-f69b-13e477290329"
      },
      "execution_count": 129,
      "outputs": [
        {
          "output_type": "execute_result",
          "data": {
            "text/plain": [
              "{1, '1'}"
            ]
          },
          "metadata": {},
          "execution_count": 129
        }
      ]
    },
    {
      "cell_type": "code",
      "source": [
        "unique_items"
      ],
      "metadata": {
        "id": "DjPhXuRHlOHC",
        "colab": {
          "base_uri": "https://localhost:8080/"
        },
        "outputId": "6d502d7b-b73a-4fde-d8d8-d7b5d150106a"
      },
      "execution_count": 111,
      "outputs": [
        {
          "output_type": "execute_result",
          "data": {
            "text/plain": [
              "{'1', '2', 3, 3.14, False, True}"
            ]
          },
          "metadata": {},
          "execution_count": 111
        }
      ]
    },
    {
      "cell_type": "markdown",
      "source": [
        "### 4️⃣ 控制流程"
      ],
      "metadata": {
        "id": "UXjr4L_HlQpn"
      }
    },
    {
      "cell_type": "markdown",
      "source": [
        "#### 🔸 条件判断：if / elif / else"
      ],
      "metadata": {
        "id": "Arla6dHtlSjU"
      }
    },
    {
      "cell_type": "code",
      "source": [
        "score = 85"
      ],
      "metadata": {
        "id": "u95NO4wXlRQ4"
      },
      "execution_count": null,
      "outputs": []
    },
    {
      "cell_type": "code",
      "source": [
        "if score >= 90:\n",
        "    print(\"优秀\")\n",
        "elif 60 <= score < 80:\n",
        "    print(\"及格\")\n",
        "else:\n",
        "    print(\"不及格\")"
      ],
      "metadata": {
        "id": "E2yOUTj6jACz"
      },
      "execution_count": null,
      "outputs": []
    },
    {
      "cell_type": "markdown",
      "source": [
        "- condition 1 **AND** condition 2\n",
        "- condition 1 **OR** condition 2"
      ],
      "metadata": {
        "id": "BVA6NUSskDDv"
      }
    },
    {
      "cell_type": "code",
      "source": [
        "True or False"
      ],
      "metadata": {
        "id": "L8ZW0iwR_1b_"
      },
      "execution_count": null,
      "outputs": []
    },
    {
      "cell_type": "code",
      "source": [
        "height = 170"
      ],
      "metadata": {
        "id": "KirnSuchABz2"
      },
      "execution_count": null,
      "outputs": []
    },
    {
      "cell_type": "code",
      "source": [
        "if height > 170 and height < 2:\n",
        "  print(\"high\")\n",
        "elif height <= 170 or height > 164: # height < 170 AND height >= 160\n",
        "  print(\"medium\")\n",
        "else:\n",
        "  print(\"low\")"
      ],
      "metadata": {
        "id": "0Jr-SE4njMGI"
      },
      "execution_count": null,
      "outputs": []
    },
    {
      "cell_type": "markdown",
      "source": [
        "#### 🔸 循环结构：for / while"
      ],
      "metadata": {
        "id": "qZFxJSrXlVde"
      }
    },
    {
      "cell_type": "code",
      "source": [
        "lst = [1, 2, 3]"
      ],
      "metadata": {
        "id": "C0QKTVpqAf84"
      },
      "execution_count": null,
      "outputs": []
    },
    {
      "cell_type": "code",
      "source": [
        "for item in lst:\n",
        "  print(item)"
      ],
      "metadata": {
        "id": "X84yYBMrAdel"
      },
      "execution_count": null,
      "outputs": []
    },
    {
      "cell_type": "code",
      "source": [
        "for i in range(1, 15, 5):\n",
        "    print(\"Data point\", i)"
      ],
      "metadata": {
        "id": "dODktx65kMxS"
      },
      "execution_count": null,
      "outputs": []
    },
    {
      "cell_type": "code",
      "source": [
        "n = 0"
      ],
      "metadata": {
        "id": "0H2j-29qBT2a"
      },
      "execution_count": null,
      "outputs": []
    },
    {
      "cell_type": "code",
      "source": [
        "while n < 6:\n",
        "    print(\"循环次数:\", n)\n",
        "    if n == 4:\n",
        "      n += 1\n",
        "      continue\n",
        "\n",
        "    n += 1\n",
        "    print('n+1')\n"
      ],
      "metadata": {
        "id": "oTfMZY3JlWFw"
      },
      "execution_count": null,
      "outputs": []
    },
    {
      "cell_type": "code",
      "source": [
        "# continue/break : continue: skip loop, continue next loop, break: jump"
      ],
      "metadata": {
        "id": "fsEzrp4aj-Cb"
      },
      "execution_count": null,
      "outputs": []
    },
    {
      "cell_type": "code",
      "source": [
        "# 在1 到 20 之间 「1， 20」， 如果是偶数（2， 4， 6， 8， 10），(2 * 2)计算这个数字的平方，并打印输出"
      ],
      "metadata": {
        "id": "8iSfGi6pkkrq"
      },
      "execution_count": null,
      "outputs": []
    },
    {
      "cell_type": "code",
      "source": [
        "for i in range(1, 21):\n",
        "  if i % 2 == 0:\n",
        "    print(i, i ** 2)"
      ],
      "metadata": {
        "id": "q1wt4LRgnJpn"
      },
      "execution_count": null,
      "outputs": []
    },
    {
      "cell_type": "code",
      "source": [
        "# 偶数 n % 2 == 0\n",
        "i = 2"
      ],
      "metadata": {
        "id": "slXHylA5ltwg"
      },
      "execution_count": null,
      "outputs": []
    },
    {
      "cell_type": "code",
      "source": [
        "for i in range(1, 21): # 死循环 1， 20\n",
        "  # 偶数\n",
        "  if i % 2 == 0:\n",
        "    print(i * i)\n",
        "  # 奇数\n",
        "  elif i % 2 == 1:\n",
        "    print(i * i * i)"
      ],
      "metadata": {
        "id": "Z61TNZIxlEXi"
      },
      "execution_count": null,
      "outputs": []
    },
    {
      "cell_type": "markdown",
      "source": [
        "### 5️⃣ 课堂练习"
      ],
      "metadata": {
        "id": "YJ0ubfBHlY0z"
      }
    },
    {
      "cell_type": "code",
      "source": [
        "name = input(\"你的名字：\")\n",
        "city = input(\"你最想去的数据城市：\")\n",
        "print(f\"{name} 想成为一位在 {city} 工作的数据科学家！\")"
      ],
      "metadata": {
        "id": "-41ibkb_lZRy"
      },
      "execution_count": null,
      "outputs": []
    },
    {
      "cell_type": "code",
      "source": [
        "def calculate_bmi(weight, height): # function\n",
        "    return weight / (height ** 2)\n",
        "\n",
        "bmi = calculate_bmi(60, 1.65)\n",
        "print(\"你的 BMI 为：\", bmi)"
      ],
      "metadata": {
        "id": "FveQMU38lefH"
      },
      "execution_count": null,
      "outputs": []
    },
    {
      "cell_type": "markdown",
      "source": [
        "## 数据分析"
      ],
      "metadata": {
        "id": "ZKhTGpG3Gxj4"
      }
    },
    {
      "cell_type": "code",
      "source": [
        "import pandas as pd\n",
        "\n",
        "df_movie = pd.read_csv('/content/drive/MyDrive/AI_Lecture/AI_Data_Scientist/dataset/Netflix_Dataset_Movie.csv')\n",
        "print(df_movie.head())"
      ],
      "metadata": {
        "id": "TULDlMfEnYM5",
        "colab": {
          "base_uri": "https://localhost:8080/"
        },
        "outputId": "e9da148b-ce96-4527-92de-010278fd122a"
      },
      "execution_count": 2,
      "outputs": [
        {
          "output_type": "stream",
          "name": "stdout",
          "text": [
            "   Movie_ID  Year                          Name\n",
            "0         1  2003               Dinosaur Planet\n",
            "1         2  2004    Isle of Man TT 2004 Review\n",
            "2         3  1997                     Character\n",
            "3         4  1994  Paula Abdul's Get Up & Dance\n",
            "4         5  2004      The Rise and Fall of ECW\n"
          ]
        }
      ]
    },
    {
      "cell_type": "code",
      "source": [
        "# convert df_movie['Year'] to list\n",
        "lst_year = df_movie['Year'].tolist()\n",
        "lst_year"
      ],
      "metadata": {
        "id": "wdcqDmSQ2bf8"
      },
      "execution_count": null,
      "outputs": []
    },
    {
      "cell_type": "code",
      "source": [
        "lst_movie = list(df_movie['Year'])\n",
        "lst_movie"
      ],
      "metadata": {
        "id": "lGr9-T8z10Ph"
      },
      "execution_count": null,
      "outputs": []
    },
    {
      "cell_type": "code",
      "source": [
        "type(lst_movie)"
      ],
      "metadata": {
        "id": "xuJDXe0l2FqK"
      },
      "execution_count": null,
      "outputs": []
    },
    {
      "cell_type": "code",
      "source": [
        "# convert df_movie['Name'] df_movie['Year'] as dictionary\n",
        "movie_dict = df_movie.set_index('Name')['Year'].to_dict()\n",
        "movie_dict"
      ],
      "metadata": {
        "id": "Q7qaulAK2YdK"
      },
      "execution_count": null,
      "outputs": []
    },
    {
      "cell_type": "code",
      "source": [
        "df_rating = pd.read_csv('/content/drive/MyDrive/AI_Lecture/AI_Data_Scientist/dataset/Netflix_Dataset_Rating.csv')\n",
        "print(df_rating.head())"
      ],
      "metadata": {
        "id": "rVxMHItQ1hMg"
      },
      "execution_count": null,
      "outputs": []
    },
    {
      "cell_type": "code",
      "source": [
        "# 电影数据\n",
        "movies = [\n",
        "    {\"1\": \"Dinosaur Planet\"},\n",
        "    {\"2\":\"Isle of Man TT 2004 Review\"}\n",
        "]\n",
        "\n",
        "# 评分数据\n",
        "ratings = [\n",
        "    {\"User_ID\": 712664, \"Rating\": 5, \"Movie_ID\": 3},\n",
        "    {\"User_ID\": 1331154, \"Rating\": 4, \"Movie_ID\": 3},\n",
        "    {\"User_ID\": 2632461, \"Rating\": 3, \"Movie_ID\": 3},\n",
        "    {\"User_ID\": 44937, \"Rating\": 5, \"Movie_ID\": 3},\n",
        "    {\"User_ID\": 656399, \"Rating\": 4, \"Movie_ID\": 3},\n",
        "]"
      ],
      "metadata": {
        "id": "4kqy-RKDli7_"
      },
      "execution_count": null,
      "outputs": []
    },
    {
      "cell_type": "markdown",
      "source": [
        "### 📌 课后练习题\n",
        "\n",
        "#### ✅ Q1：输出所有电影名称\n",
        "\n",
        "用 for 循环遍历 movies 列表，并打印所有电影的名称（Name 字段）。\n"
      ],
      "metadata": {
        "id": "sLdoUloU3nry"
      }
    },
    {
      "cell_type": "code",
      "source": [
        "movies[:10]"
      ],
      "metadata": {
        "id": "M9g2BcBK983F"
      },
      "execution_count": null,
      "outputs": []
    },
    {
      "cell_type": "code",
      "source": [
        "type(movies[0])"
      ],
      "metadata": {
        "id": "lbhwKUQwDVhX"
      },
      "execution_count": null,
      "outputs": []
    },
    {
      "cell_type": "code",
      "source": [
        "for movie in movies:\n",
        "  for key, val in movie.items():\n",
        "    print(val)"
      ],
      "metadata": {
        "id": "Ui8bVDJF-LEt"
      },
      "execution_count": null,
      "outputs": []
    },
    {
      "cell_type": "markdown",
      "source": [
        "#### ✅ Q2：找出年份1990 < Year <= 2000 年的电影\n",
        "\n",
        "写一个程序，找出并输出 1990 < Year <= 2000 的所有电影名称。"
      ],
      "metadata": {
        "id": "5U0oswFi3ptb"
      }
    },
    {
      "cell_type": "code",
      "source": [
        "movie_dict = df_movie.set_index('Name')['Year'].to_dict()\n",
        "for name, year in movie_dict.items():\n",
        "  if 1990 < year <= 2000:\n",
        "    print(name)"
      ],
      "metadata": {
        "id": "GP5Kw-77-VSo"
      },
      "execution_count": null,
      "outputs": []
    },
    {
      "cell_type": "markdown",
      "source": [
        "\n",
        "#### ✅ Q3：计算电影 ID 为 3 的平均评分\n",
        "\n",
        "从 ratings 中提取所有 Movie_ID == 3 的评分，并计算平均分（四舍五入保留 1 位小数）。"
      ],
      "metadata": {
        "id": "trr5J9VA3Khl"
      }
    },
    {
      "cell_type": "markdown",
      "source": [
        "提示："
      ],
      "metadata": {
        "id": "ExrDj6cK3OCG"
      }
    },
    {
      "cell_type": "code",
      "source": [
        "df_rating.head(10)"
      ],
      "metadata": {
        "id": "eoM2onYr-h3F"
      },
      "execution_count": null,
      "outputs": []
    },
    {
      "cell_type": "code",
      "source": [
        "ratings_id_3 = df_rating[df_rating['Movie_ID'] == 3]['Rating'].tolist()\n",
        "ratings_id_3[:10]"
      ],
      "metadata": {
        "id": "4iAwzcKk-eGr"
      },
      "execution_count": null,
      "outputs": []
    },
    {
      "cell_type": "code",
      "source": [
        "total = 0\n",
        "count = 0\n",
        "for score in ratings_id_3:\n",
        "    total += score\n",
        "    count += 1\n",
        "average = round(total / count, 1)\n",
        "print(\"Movie_ID == 3 的平分均\", average)"
      ],
      "metadata": {
        "id": "GTSrq6Qv3K7c"
      },
      "execution_count": null,
      "outputs": []
    },
    {
      "cell_type": "markdown",
      "source": [
        "#### ✅ Q4：把评分记录中的电影名也加上（字典合并练习）\n",
        "\n",
        "用 for 循环，将每条评分(rating)记录补充上该电影的名称（来自 movies），并组成一个新列表 ratings_with_name：\n",
        "\n",
        "输出示例："
      ],
      "metadata": {
        "id": "x4Ey8myV3RYc"
      }
    },
    {
      "cell_type": "code",
      "source": [
        "{\n",
        "  'User_ID': 712664,\n",
        "  'Rating': 5,\n",
        "  'Movie_ID': 3,\n",
        "  'Name': 'Character'\n",
        "}"
      ],
      "metadata": {
        "id": "sHJvSoK93TmH"
      },
      "execution_count": null,
      "outputs": []
    },
    {
      "cell_type": "code",
      "source": [
        "movie_dict = df_movie.set_index('Movie_ID')['Name'].to_dict()\n",
        "movie_dict.get(3)"
      ],
      "metadata": {
        "id": "8JVKxcJKAjgr"
      },
      "execution_count": null,
      "outputs": []
    },
    {
      "cell_type": "code",
      "source": [
        "lst_all = []\n",
        "for idx in range(len(df_rating)):\n",
        "  dic_user_rating_movie = {}\n",
        "  # print(df_rating.iloc[idx])\n",
        "  dic_user_rating_movie['User_ID'] = int(df_rating.iloc[idx]['User_ID'])\n",
        "  dic_user_rating_movie['Rating'] = int(df_rating.iloc[idx]['Rating'])\n",
        "\n",
        "  movie_id = df_rating.iloc[idx]['Movie_ID']\n",
        "  dic_user_rating_movie['Movie_ID'] = int(movie_id)\n",
        "  dic_user_rating_movie['Name'] = movie_dict[int(movie_id)]\n",
        "  lst_all.append(dic_user_rating_movie)\n",
        "\n",
        "  if idx > 5000:\n",
        "    break"
      ],
      "metadata": {
        "id": "XMLLgnuz_onK"
      },
      "execution_count": null,
      "outputs": []
    },
    {
      "cell_type": "code",
      "source": [
        "lst_all[:10]"
      ],
      "metadata": {
        "id": "yrkJzjIfAyJt"
      },
      "execution_count": null,
      "outputs": []
    },
    {
      "cell_type": "code",
      "source": [
        "int('123')"
      ],
      "metadata": {
        "id": "MiQAHyvrml8g"
      },
      "execution_count": null,
      "outputs": []
    },
    {
      "cell_type": "markdown",
      "source": [
        "#### ✅ Q5（挑战题）：统计每部电影的评分人数\n",
        "\n",
        "输出格式：\n",
        "\n",
        "\n",
        "\n",
        "```\n",
        "Character: 4人\n",
        "Dinosaur Planet: 0人\n",
        "...\n",
        "```\n",
        "\n",
        "\n",
        "提示：\n",
        "\t•\t用字典统计：{\"Movie_Name\": count}"
      ],
      "metadata": {
        "id": "cXhtWlIQ3VWo"
      }
    },
    {
      "cell_type": "code",
      "source": [
        "import collections"
      ],
      "metadata": {
        "id": "FQXv-9WzBfPq"
      },
      "execution_count": null,
      "outputs": []
    },
    {
      "cell_type": "code",
      "source": [
        "dic_cnt = collections.defaultdict(int) # initialize a dictionary\n",
        "dic_cnt"
      ],
      "metadata": {
        "id": "h0eXKcU6BAs8"
      },
      "execution_count": null,
      "outputs": []
    },
    {
      "cell_type": "code",
      "source": [
        "{key:value} # value --> int (0)"
      ],
      "metadata": {
        "id": "FjyDqQykmzp8"
      },
      "execution_count": null,
      "outputs": []
    },
    {
      "cell_type": "code",
      "source": [
        "for i in range(len(lst_all)):\n",
        "  movie_name = lst_all[i]['Name']\n",
        "  dic_cnt[movie_name] += 1 # dic_cnt[movie_name] = 0\n",
        "dic_cnt"
      ],
      "metadata": {
        "id": "VwvHR3p2A8MK"
      },
      "execution_count": null,
      "outputs": []
    }
  ]
}