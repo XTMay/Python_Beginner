{
  "nbformat": 4,
  "nbformat_minor": 0,
  "metadata": {
    "colab": {
      "provenance": [],
      "authorship_tag": "ABX9TyPhJiKr6w29u4J1W8eYBOmg",
      "include_colab_link": true
    },
    "kernelspec": {
      "name": "python3",
      "display_name": "Python 3"
    },
    "language_info": {
      "name": "python"
    }
  },
  "cells": [
    {
      "cell_type": "markdown",
      "metadata": {
        "id": "view-in-github",
        "colab_type": "text"
      },
      "source": [
        "<a href=\"https://colab.research.google.com/github/XTMay/Python_Beginner/blob/main/Homework/HW_Function_%E5%AD%A6%E7%94%9F%E4%BF%A1%E6%81%AF%E4%B8%8E%E6%88%90%E7%BB%A9%E7%AE%A1%E7%90%86%E7%B3%BB%E7%BB%9F.ipynb\" target=\"_parent\"><img src=\"https://colab.research.google.com/assets/colab-badge.svg\" alt=\"Open In Colab\"/></a>"
      ]
    },
    {
      "cell_type": "markdown",
      "metadata": {
        "id": "f9725a95"
      },
      "source": [
        "# Python基础编程课后作业：学生信息与成绩管理系统\n",
        "\n",
        "## 项目说明\n",
        "\n",
        "本次作业是一个小型项目，旨在通过构建一个简单的学生信息与成绩管理系统，帮助你巩固和应用Python基础知识，包括变量、列表、字典、for循环和函数。\n",
        "\n",
        "你将模拟管理班级学生的基本信息（如姓名、年龄）以及他们的各科成绩。通过完成这个项目，你将学会如何组织和处理结构化数据，并编写可重用的代码来执行常见任务。\n",
        "\n",
        "## 作业要求\n",
        "\n",
        "请根据以下步骤和要求，在Python环境中完成你的学生信息与成绩管理系统。每个部分都包含了你需要练习的特定知识点。\n",
        "\n",
        "### 存储学生基本信息（使用变量和字典）\n",
        "\n",
        "*   **说明:** 首先，我们需要存储一些学生的基本信息。你可以使用变量来存储单个学生的属性，然后使用字典来将这些属性组织起来，代表一个学生。"
      ]
    },
    {
      "cell_type": "code",
      "metadata": {
        "id": "83c0e34a"
      },
      "source": [
        "# 创建一个空列表来存储所有学生的字典\n",
        "students_list = []\n",
        "\n",
        "# 定义第一个学生的信息\n",
        "student_info = {\n",
        "    \"姓名\": \"张三\",\n",
        "    \"年龄\": 18\n",
        "}\n",
        "\n",
        "# TODO: 定义更多学生的信息\n",
        "\n",
        "# 将上面创建的学生字典添加到列表中\n",
        "# TODO\n",
        "\n",
        "# 打印列表，看看是否添加成功\n",
        "# TODO"
      ],
      "execution_count": null,
      "outputs": []
    },
    {
      "cell_type": "code",
      "metadata": {
        "id": "8470183e"
      },
      "source": [
        "print(\"\\n遍历学生列表并打印信息:\")\n",
        "# TODO"
      ],
      "execution_count": null,
      "outputs": []
    },
    {
      "cell_type": "code",
      "metadata": {
        "id": "6416d307"
      },
      "source": [
        "def calculate_average_score(scores_dict):\n",
        "    \"\"\"计算给定成绩字典的平均分\"\"\"\n",
        "    pass\n",
        "\n",
        "print(\"\\n计算并打印每个学生的平均成绩:\")\n",
        "# TODO"
      ],
      "execution_count": null,
      "outputs": []
    },
    {
      "cell_type": "markdown",
      "metadata": {
        "id": "c7f76238"
      },
      "source": [
        "## 修改成绩功能\n",
        "\n",
        "修改成绩功能：编写一个函数，允许用户选择一个学生和科目，然后更新该学生的成绩。\n"
      ]
    },
    {
      "cell_type": "code",
      "metadata": {
        "id": "effe98ca"
      },
      "source": [
        "def modify_score(students_list):\n",
        "    \"\"\"允许用户选择一个学生和科目，然后更新该学生的成绩。\"\"\"\n",
        "    student_name = input(\"请输入要修改成绩的学生姓名: \")\n",
        "    found_student = None\n",
        "    for student in students_list:\n",
        "        if student[\"姓名\"] == student_name:\n",
        "            found_student = student\n",
        "            break\n",
        "\n",
        "    if found_student:\n",
        "      # TODO\n",
        "      pass\n",
        "\n",
        "# Example usage (you can call this function later in your notebook)\n",
        "# modify_score(students_list)"
      ],
      "execution_count": null,
      "outputs": []
    },
    {
      "cell_type": "markdown",
      "metadata": {
        "id": "4d69facb"
      },
      "source": [
        "## 添加学生功能\n",
        "\n",
        "添加学生功能：编写一个函数，允许用户输入新的学生信息并将其添加到 `students_list` 中。\n"
      ]
    },
    {
      "cell_type": "code",
      "metadata": {
        "id": "6b4dca94"
      },
      "source": [
        "def add_student(students_list):\n",
        "    \"\"\"允许用户输入新的学生信息并将其添加到 students_list 中。\"\"\"\n",
        "    name = input(\"请输入新学生的姓名: \")\n",
        "    age = input(\"请输入新学生的年龄: \") # Age can be stored as string or converted to int\n",
        "    try:\n",
        "        age = int(age) # Attempt to convert age to integer\n",
        "    except ValueError:\n",
        "        print(\"年龄输入无效，将按字符串存储。\")\n",
        "\n",
        "    # TODO\n",
        "    pass\n",
        "\n",
        "    print(f\"学生 {name} 已添加到列表中。\")\n",
        "\n",
        "# add_student(students_list)\n",
        "# print(\"\\n更新后的学生列表:\")\n",
        "# print(students_list)"
      ],
      "execution_count": null,
      "outputs": []
    },
    {
      "cell_type": "markdown",
      "metadata": {
        "id": "b6e53d95"
      },
      "source": [
        "## 删除学生功能\n",
        "\n",
        "删除学生功能：编写一个函数，根据学生的姓名或其他标识符从 `students_list` 中移除学生。\n"
      ]
    },
    {
      "cell_type": "code",
      "metadata": {
        "id": "36792a11"
      },
      "source": [
        "def delete_student(students_list):\n",
        "    \"\"\"根据学生的姓名从 students_list 中移除学生。\"\"\"\n",
        "    student_name_to_delete = input(\"请输入要删除的学生姓名: \")\n",
        "    student_found = False\n",
        "    # TODO: Iterate through the list in reverse order to safely remove items\n",
        "    pass\n",
        "\n",
        "    if not student_found:\n",
        "        print(f\"未找到学生 '{student_name_to_delete}'。\")\n",
        "\n",
        "# delete_student(students_list)\n",
        "# print(\"\\n删除后的学生列表:\")\n",
        "# print(students_list)"
      ],
      "execution_count": null,
      "outputs": []
    },
    {
      "cell_type": "markdown",
      "metadata": {
        "id": "529a0d48"
      },
      "source": [
        "## 按平均分排序功能\n",
        "\n",
        "编写代码，利用之前计算平均分的函数，对 `students_list` 中的学生按照平均成绩进行排序。\n"
      ]
    },
    {
      "cell_type": "code",
      "metadata": {
        "id": "e5abf8a7"
      },
      "source": [
        "# 1. Define a helper function to calculate average score for sorting\n",
        "def get_average_score_for_sort(student):\n",
        "    \"\"\"Helper function to get average score for sorting, returns 0 if no scores.\"\"\"\n",
        "    if \"成绩\" in student and student[\"成绩\"]:\n",
        "        return calculate_average_score(student[\"成绩\"])\n",
        "    else:\n",
        "        return 0.0 # Return 0.0 for students with no scores\n",
        "\n",
        "# 2. and 3. Use sorted() with the helper function as the key\n",
        "# 4. Optional: Use reverse=True for descending order\n",
        "# TODO\n",
        "\n",
        "\n",
        "# 6. Print the sorted list\n",
        "print(\"\\n按照平均成绩排序后的学生列表 (从高到低):\")\n",
        "# TODO"
      ],
      "execution_count": null,
      "outputs": []
    }
  ]
}