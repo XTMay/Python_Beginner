{
  "nbformat": 4,
  "nbformat_minor": 0,
  "metadata": {
    "colab": {
      "provenance": [],
      "authorship_tag": "ABX9TyOkea17em+WzvXpXbrmHI+S",
      "include_colab_link": true
    },
    "kernelspec": {
      "name": "python3",
      "display_name": "Python 3"
    },
    "language_info": {
      "name": "python"
    }
  },
  "cells": [
    {
      "cell_type": "markdown",
      "metadata": {
        "id": "view-in-github",
        "colab_type": "text"
      },
      "source": [
        "<a href=\"https://colab.research.google.com/github/XTMay/Python_Beginner/blob/main/Homework/HW_DataType.ipynb\" target=\"_parent\"><img src=\"https://colab.research.google.com/assets/colab-badge.svg\" alt=\"Open In Colab\"/></a>"
      ]
    },
    {
      "cell_type": "markdown",
      "source": [
        "# 📝 Python 数据类型课后练习"
      ],
      "metadata": {
        "id": "DnQTQAa4ZzHY"
      }
    },
    {
      "cell_type": "markdown",
      "source": [
        "## 一、List（列表）"
      ],
      "metadata": {
        "id": "YSYDwFW3Z8zq"
      }
    },
    {
      "cell_type": "markdown",
      "source": [
        "\t1.\t创建一个列表 nums = [3, 1, 4]，完成以下操作：\n",
        "\t•\t使用 append 添加数字 2。\n",
        "\t•\t使用 insert 在开头插入数字 0。\n",
        "\t•\t使用 sort 将列表升序排列。\n",
        "\t•\t使用 pop 删除最后一个元素，并打印被删除的值。"
      ],
      "metadata": {
        "id": "vDY5PD5zZ_nI"
      }
    },
    {
      "cell_type": "code",
      "source": [],
      "metadata": {
        "id": "B_v4KOY0aAU_"
      },
      "execution_count": null,
      "outputs": []
    },
    {
      "cell_type": "markdown",
      "source": [
        "\t2.\t已知列表 words = [\"apple\", \"banana\", \"apple\", \"cherry\"]：\n",
        "\t•\t使用 count 统计 \"apple\" 出现的次数。\n",
        "\t•\t使用 index 找到 \"banana\" 的位置。\n",
        "\t•\t使用 remove 删除第一个 \"apple\"。"
      ],
      "metadata": {
        "id": "XlvAysR-aCOK"
      }
    },
    {
      "cell_type": "code",
      "source": [],
      "metadata": {
        "id": "QgAxDAgbaDKM"
      },
      "execution_count": null,
      "outputs": []
    },
    {
      "cell_type": "markdown",
      "source": [
        "## 二、Dictionary（字典）"
      ],
      "metadata": {
        "id": "u_eplNv2aFFo"
      }
    },
    {
      "cell_type": "markdown",
      "source": [
        "\t1.\t已知字典 student = {\"name\": \"Tom\", \"age\": 20, \"major\": \"CS\"}：\n",
        "\t•\t使用 get 取出 \"age\" 的值。\n",
        "\t•\t使用 update 修改 \"major\" 为 \"AI\"。\n",
        "\t•\t使用 pop 删除 \"age\"。\n",
        "\t•\t使用 items() 打印所有键值对。"
      ],
      "metadata": {
        "id": "mxRptyT3aHPJ"
      }
    },
    {
      "cell_type": "code",
      "source": [],
      "metadata": {
        "id": "6wOfBlzSaIAG"
      },
      "execution_count": null,
      "outputs": []
    },
    {
      "cell_type": "markdown",
      "source": [
        "\t2.\t写一段代码：\n",
        "\t•\t创建一个空字典 score_dict。\n",
        "\t•\t往字典里加入三名学生的分数，比如：Alice: 85, Bob: 92, Carol: 78。\n",
        "\t•\t遍历字典，打印每个学生的名字和分数。"
      ],
      "metadata": {
        "id": "miQJP5aSaJTt"
      }
    },
    {
      "cell_type": "code",
      "source": [],
      "metadata": {
        "id": "SZPlVlX1aKBQ"
      },
      "execution_count": null,
      "outputs": []
    },
    {
      "cell_type": "markdown",
      "source": [
        "## 三、Tuple（元组）"
      ],
      "metadata": {
        "id": "C_5W3tKnaMFl"
      }
    },
    {
      "cell_type": "markdown",
      "source": [
        "\t1.\t创建一个元组 colors = (\"red\", \"blue\", \"green\", \"blue\")：\n",
        "\t•\t使用 count 统计 \"blue\" 出现的次数。\n",
        "\t•\t使用 index 找到 \"green\" 的位置。"
      ],
      "metadata": {
        "id": "dqQewN-raPxE"
      }
    },
    {
      "cell_type": "code",
      "source": [],
      "metadata": {
        "id": "xFfHkOLeaRla"
      },
      "execution_count": null,
      "outputs": []
    },
    {
      "cell_type": "markdown",
      "source": [
        "2.\t元组是不可变的，请解释下面代码为什么会报错？如何正确修改元组？\n",
        "```\n",
        "colors = (\"red\", \"blue\", \"green\")\n",
        "colors[0] = \"black\"\n",
        "```"
      ],
      "metadata": {
        "id": "t11JmNwsaR1y"
      }
    },
    {
      "cell_type": "code",
      "source": [],
      "metadata": {
        "id": "7HUp5QN3aW3J"
      },
      "execution_count": null,
      "outputs": []
    },
    {
      "cell_type": "markdown",
      "source": [
        "## 四、Set（集合）"
      ],
      "metadata": {
        "id": "7XHes5PFaWL6"
      }
    },
    {
      "cell_type": "markdown",
      "source": [
        "\t1.\t已知集合 a = {1, 2, 3}, b = {3, 4, 5}：\n",
        "\t•\t求 a 和 b 的并集、交集、差集、对称差集。\n",
        "\t•\t判断 a 是否是 {1, 2, 3, 4, 5} 的子集。"
      ],
      "metadata": {
        "id": "q2t0qWX2aYhZ"
      }
    },
    {
      "cell_type": "code",
      "source": [],
      "metadata": {
        "id": "SKYOZ-X2aY_m"
      },
      "execution_count": null,
      "outputs": []
    },
    {
      "cell_type": "markdown",
      "source": [
        "\t2.\t已知集合 fruits = {\"apple\", \"banana\", \"cherry\"}：\n",
        "\t•\t使用 add 添加 \"orange\"。\n",
        "\t•\t使用 discard 删除 \"banana\"。\n",
        "\t•\t使用 clear 清空集合。"
      ],
      "metadata": {
        "id": "NA7mH2GYaaHv"
      }
    },
    {
      "cell_type": "code",
      "source": [],
      "metadata": {
        "id": "96TqUdGdaarq"
      },
      "execution_count": null,
      "outputs": []
    },
    {
      "cell_type": "markdown",
      "source": [
        "## 五、综合练习\n",
        "\n",
        "写一个小程序，输入一段英文句子：\n",
        "\n",
        "\t1.\t用 split() 把句子分割成单词，存入 List。\n",
        "\t2.\t统计每个单词出现的次数，存入 Dictionary。\n",
        "\t3.\t把单词去重后存入 Set。\n",
        "\t4.\t把单词转成 Tuple，并输出第一个和最后一个单词。"
      ],
      "metadata": {
        "id": "0rGvbfNRZwVP"
      }
    },
    {
      "cell_type": "code",
      "source": [],
      "metadata": {
        "id": "-x8a3Qzjafi5"
      },
      "execution_count": null,
      "outputs": []
    }
  ]
}