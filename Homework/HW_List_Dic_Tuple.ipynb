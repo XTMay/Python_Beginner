{
  "nbformat": 4,
  "nbformat_minor": 0,
  "metadata": {
    "colab": {
      "provenance": [],
      "authorship_tag": "ABX9TyN00iO83t20NaY4Z4RZNJ4F",
      "include_colab_link": true
    },
    "kernelspec": {
      "name": "python3",
      "display_name": "Python 3"
    },
    "language_info": {
      "name": "python"
    }
  },
  "cells": [
    {
      "cell_type": "markdown",
      "metadata": {
        "id": "view-in-github",
        "colab_type": "text"
      },
      "source": [
        "<a href=\"https://colab.research.google.com/github/XTMay/Python_Beginner/blob/main/Homework/HW_List_Dic_Tuple.ipynb\" target=\"_parent\"><img src=\"https://colab.research.google.com/assets/colab-badge.svg\" alt=\"Open In Colab\"/></a>"
      ]
    },
    {
      "cell_type": "markdown",
      "metadata": {
        "id": "66dc3985"
      },
      "source": [
        "### Python 数据结构操作练习题\n",
        "\n",
        "请根据题目要求，在 Python 环境中编写代码完成以下练习：\n",
        "\n",
        "1.  **列表操作 - 添加元素**:\n",
        "    给定一个水果列表 `fruits = ['apple', 'banana']`，请使用 `append()` 方法在列表的末尾添加一个新的水果 `'orange'`，并输出添加后的列表。"
      ]
    },
    {
      "cell_type": "code",
      "source": [],
      "metadata": {
        "id": "V5ve0819WKoo"
      },
      "execution_count": null,
      "outputs": []
    },
    {
      "cell_type": "markdown",
      "metadata": {
        "id": "45794d31"
      },
      "source": [
        "2.  **列表操作 - 合并列表**:\n",
        "    你有两个数字列表 `list1 = [1, 2, 3]` 和 `list2 = [4, 5, 6]`。请使用 `extend()` 方法将 `list2` 中的所有元素添加到 `list1` 中，并输出合并后的 `list1`。"
      ]
    },
    {
      "cell_type": "code",
      "source": [],
      "metadata": {
        "id": "R6bNEw9cWLFd"
      },
      "execution_count": null,
      "outputs": []
    },
    {
      "cell_type": "markdown",
      "metadata": {
        "id": "0bc4f1bf"
      },
      "source": [
        "3.  **列表操作 - 插入元素**:\n",
        "    在一个颜色列表 `colors = ['red', 'blue', 'green']` 中，你想在 `'blue'` 前面插入 `'yellow'`。请使用 `insert()` 方法在正确的索引位置插入 `'yellow'`，并输出修改后的列表。"
      ]
    },
    {
      "cell_type": "code",
      "source": [],
      "metadata": {
        "id": "TdM5oRdcWMES"
      },
      "execution_count": null,
      "outputs": []
    },
    {
      "cell_type": "markdown",
      "metadata": {
        "id": "ddad3dbb"
      },
      "source": [
        "4.  **列表操作 - 删除元素**:\n",
        "    你有一个包含重复数字的列表 `numbers = [10, 20, 30, 20, 40]`。请使用 `remove()` 方法删除列表中第一个出现的数字 `20`，并输出删除后的列表。"
      ]
    },
    {
      "cell_type": "code",
      "source": [],
      "metadata": {
        "id": "bLawT__wWMtU"
      },
      "execution_count": null,
      "outputs": []
    },
    {
      "cell_type": "markdown",
      "metadata": {
        "id": "e4c35061"
      },
      "source": [
        "5.  **列表操作 - 删除并获取元素**:\n",
        "    在一个字母列表 `letters = ['a', 'b', 'c', 'd']` 中，请使用 `pop()` 方法删除并获取索引为 1 的元素，然后输出被删除的元素和删除后的列表。"
      ]
    },
    {
      "cell_type": "code",
      "source": [],
      "metadata": {
        "id": "bwfju9cwWNdv"
      },
      "execution_count": null,
      "outputs": []
    },
    {
      "cell_type": "markdown",
      "metadata": {
        "id": "e817e927"
      },
      "source": [
        "6.  **列表操作 - 查找元素索引**:\n",
        "    请在列表 `data = ['apple', 'banana', 'cherry', 'banana']` 中查找 `'cherry'` 第一次出现的索引位置，并输出该索引。"
      ]
    },
    {
      "cell_type": "code",
      "source": [],
      "metadata": {
        "id": "PL25kvbEWONi"
      },
      "execution_count": null,
      "outputs": []
    },
    {
      "cell_type": "markdown",
      "metadata": {
        "id": "fc7336e3"
      },
      "source": [
        "7.  **列表操作 - 统计元素次数**:\n",
        "    统计列表 `items = ['apple', 'banana', 'apple', 'orange', 'banana', 'apple']` 中元素 `'banana'` 出现的次数，并输出统计结果。"
      ]
    },
    {
      "cell_type": "code",
      "source": [],
      "metadata": {
        "id": "ueNBlB4vWOz1"
      },
      "execution_count": null,
      "outputs": []
    },
    {
      "cell_type": "markdown",
      "metadata": {
        "id": "8d2b7466"
      },
      "source": [
        "8.  **列表操作 - 排序和反转**:\n",
        "    对一个乱序的数字列表 `scores = [85, 92, 78, 95, 88]` 进行升序排序，然后将排序后的列表进行反转。请分别输出排序后的列表和反转后的列表。"
      ]
    },
    {
      "cell_type": "code",
      "source": [],
      "metadata": {
        "id": "v6SUpSWvWPjF"
      },
      "execution_count": null,
      "outputs": []
    },
    {
      "cell_type": "markdown",
      "metadata": {
        "id": "f4a469a2"
      },
      "source": [
        "9.  **列表操作 - 获取长度**:\n",
        "    获取列表 `my_list = [100, 200, 300, 400, 500]` 的长度（元素的个数），并输出该长度。"
      ]
    },
    {
      "cell_type": "code",
      "source": [],
      "metadata": {
        "id": "BKvmETUvWQMY"
      },
      "execution_count": null,
      "outputs": []
    },
    {
      "cell_type": "markdown",
      "metadata": {
        "id": "b71053b7"
      },
      "source": [
        "10. **列表操作 - 索引和切片**:\n",
        "    给定一个动物列表 `animals = ['cat', 'dog', 'elephant', 'lion', 'tiger']`。请使用索引访问列表中的 `'elephant'`，并使用切片获取从 `'dog'` 到 `'lion'`（包含 `'dog'` 和 `'lion'`）的子列表。分别输出访问的元素和子列表。"
      ]
    },
    {
      "cell_type": "code",
      "source": [],
      "metadata": {
        "id": "W7UaIS09WQ8i"
      },
      "execution_count": null,
      "outputs": []
    },
    {
      "cell_type": "markdown",
      "metadata": {
        "id": "3230f5d6"
      },
      "source": [
        "11. **字典操作 - 访问和修改键值**:\n",
        "    创建一个字典 `student_info = {'name': 'Bob', 'major': 'Computer Science'}`。请访问并输出 `'major'` 键对应的值，然后将 `'major'` 键的值修改为 `'Electrical Engineering'`，并输出修改后的字典。"
      ]
    },
    {
      "cell_type": "code",
      "source": [],
      "metadata": {
        "id": "FCHGIikyWRxB"
      },
      "execution_count": null,
      "outputs": []
    },
    {
      "cell_type": "markdown",
      "metadata": {
        "id": "5c5e17fe"
      },
      "source": [
        "12. **字典操作 - 安全访问键值**:\n",
        "    给定字典 `config = {'theme': 'dark', 'fontSize': 12}`。请使用 `get()` 方法尝试访问 `'language'` 键的值，如果该键不存在，则返回默认值 `'English'`。输出访问结果。"
      ]
    },
    {
      "cell_type": "code",
      "source": [],
      "metadata": {
        "id": "Zl1WyzXuWSdB"
      },
      "execution_count": null,
      "outputs": []
    },
    {
      "cell_type": "markdown",
      "metadata": {
        "id": "ee8d6808"
      },
      "source": [
        "13. **字典操作 - 删除键值对**:\n",
        "    从字典 `settings = {'volume': 80, 'brightness': 90, 'contrast': 75}` 中删除键 `'brightness'` 及其对应的值，并输出删除后的字典。"
      ]
    },
    {
      "cell_type": "code",
      "source": [],
      "metadata": {
        "id": "d04rJAN7WTSo"
      },
      "execution_count": null,
      "outputs": []
    },
    {
      "cell_type": "markdown",
      "metadata": {
        "id": "2f9ce726"
      },
      "source": [
        "14. **字典操作 - 获取视图对象**:\n",
        "    对于字典 `product = {'id': 10, 'name': 'Keyboard', 'price': 75}`，请分别获取并输出字典的所有键、所有值和所有键值对的视图对象。"
      ]
    },
    {
      "cell_type": "code",
      "source": [],
      "metadata": {
        "id": "KEAuTgbfWU5l"
      },
      "execution_count": null,
      "outputs": []
    },
    {
      "cell_type": "markdown",
      "metadata": {
        "id": "f2077a71"
      },
      "source": [
        "15. **字典操作 - 更新字典**:\n",
        "    你有两个字典，一个是用户信息 `user = {'id': 1, 'username': 'Alice'}`，另一个是用户详情 `user_details = {'email': 'alice@example.com', 'username': 'AliceSmith'}`。请使用 `update()` 方法将 `user_details` 中的键值对添加到 `user` 中，并输出更新后的 `user` 字典。注意观察 `'username'` 键的值是否被更新。"
      ]
    },
    {
      "cell_type": "code",
      "source": [],
      "metadata": {
        "id": "_shrES88WVe3"
      },
      "execution_count": null,
      "outputs": []
    },
    {
      "cell_type": "markdown",
      "metadata": {
        "id": "f7233500"
      },
      "source": [
        "16. **字典操作 - 检查键是否存在**:\n",
        "    检查键 `'city'` 是否存在于字典 `location = {'country': 'USA', 'state': 'California'}` 中，并输出检查结果（True 或 False）。"
      ]
    },
    {
      "cell_type": "code",
      "source": [],
      "metadata": {
        "id": "4gXC5MakWWBI"
      },
      "execution_count": null,
      "outputs": []
    },
    {
      "cell_type": "markdown",
      "metadata": {
        "id": "b84505cb"
      },
      "source": [
        "17. **字典操作 - 获取长度**:\n",
        "    获取字典 `inventory_counts = {'screws': 500, 'nuts': 1000, 'washers': 750}` 的长度（键值对的数量），并输出该长度。"
      ]
    },
    {
      "cell_type": "code",
      "source": [],
      "metadata": {
        "id": "NHYcrZVSWWpG"
      },
      "execution_count": null,
      "outputs": []
    },
    {
      "cell_type": "markdown",
      "metadata": {
        "id": "c37898be"
      },
      "source": [
        "18. **字典操作 - 清空字典**:\n",
        "    清空字典 `temp_settings = {'cache': True, 'log_level': 'DEBUG'}`，并输出清空后的字典。"
      ]
    },
    {
      "cell_type": "code",
      "source": [],
      "metadata": {
        "id": "f4FqyzmvWXbM"
      },
      "execution_count": null,
      "outputs": []
    },
    {
      "cell_type": "markdown",
      "metadata": {
        "id": "9770925f"
      },
      "source": [
        "19. **字典操作 - 字典拷贝**:\n",
        "    创建一个字典 `original_settings = {'auto_save': True, 'interval': 60}`。使用 `copy()` 方法创建一个该字典的浅拷贝 `backup_settings`，并输出原始字典和拷贝字典。"
      ]
    },
    {
      "cell_type": "code",
      "source": [],
      "metadata": {
        "id": "TEVQLC0qWYEB"
      },
      "execution_count": null,
      "outputs": []
    },
    {
      "cell_type": "markdown",
      "metadata": {
        "id": "0d0e7ad6"
      },
      "source": [
        "20. **元组操作 - 访问元素**:\n",
        "    给定一个包含星期几的元组 `weekdays = ('Monday', 'Tuesday', 'Wednesday', 'Thursday', 'Friday', 'Saturday', 'Sunday')`。请使用索引访问元组中的 `'Thursday'`，并输出该元素。"
      ]
    },
    {
      "cell_type": "code",
      "source": [],
      "metadata": {
        "id": "nuMdwtWeWY0-"
      },
      "execution_count": null,
      "outputs": []
    },
    {
      "cell_type": "markdown",
      "metadata": {
        "id": "35e1ebb5"
      },
      "source": [
        "21. **元组操作 - 获取子元组**:\n",
        "    从元组 `numbers_tuple = (1, 2, 3, 4, 5, 6, 7, 8, 9, 10)` 中使用切片获取包含元素 3 到 7 的子元组（包含 3 和 7），并输出该子元组。"
      ]
    },
    {
      "cell_type": "code",
      "source": [],
      "metadata": {
        "id": "LaODV4ftWZ04"
      },
      "execution_count": null,
      "outputs": []
    },
    {
      "cell_type": "markdown",
      "metadata": {
        "id": "93240271"
      },
      "source": [
        "22. **元组操作 - 查找元素索引**:\n",
        "    在元组 `colors_tuple = ('red', 'blue', 'green', 'blue', 'yellow')` 中查找 `'blue'` 第一次出现的索引位置，并输出该索引。"
      ]
    },
    {
      "cell_type": "code",
      "source": [],
      "metadata": {
        "id": "ez0HRzwNWacj"
      },
      "execution_count": null,
      "outputs": []
    },
    {
      "cell_type": "markdown",
      "metadata": {
        "id": "752a3fd2"
      },
      "source": [
        "23. **元组操作 - 统计元素次数**:\n",
        "    统计元组 `fruits_tuple = ('apple', 'banana', 'cherry', 'apple', 'date', 'apple')` 中元素 `'apple'` 出现的次数，并输出统计结果。"
      ]
    },
    {
      "cell_type": "code",
      "source": [],
      "metadata": {
        "id": "tQNUjAfFWb0V"
      },
      "execution_count": null,
      "outputs": []
    },
    {
      "cell_type": "markdown",
      "metadata": {
        "id": "d581d16c"
      },
      "source": [
        "24. **元组操作 - 获取长度**:\n",
        "    获取元组 `mix_tuple = (1, 'hello', 3.14, True, None)` 的长度，并输出该长度。"
      ]
    },
    {
      "cell_type": "code",
      "source": [],
      "metadata": {
        "id": "iJSoBEyZWcg3"
      },
      "execution_count": null,
      "outputs": []
    },
    {
      "cell_type": "markdown",
      "metadata": {
        "id": "02ef02ec"
      },
      "source": [
        "25. **元组操作 - 检查元素是否存在**:\n",
        "    检查元素 `'grape'` 是否存在于元组 `fruits_inventory = ('apple', 'banana', 'cherry')` 中，并输出检查结果（True 或 False）。"
      ]
    },
    {
      "cell_type": "code",
      "source": [],
      "metadata": {
        "id": "iWQ9x0bnWd3l"
      },
      "execution_count": null,
      "outputs": []
    }
  ]
}