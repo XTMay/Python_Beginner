{
  "nbformat": 4,
  "nbformat_minor": 0,
  "metadata": {
    "colab": {
      "provenance": [],
      "authorship_tag": "ABX9TyMSeGFgbbMvsGdq1zLDOYts",
      "include_colab_link": true
    },
    "kernelspec": {
      "name": "python3",
      "display_name": "Python 3"
    },
    "language_info": {
      "name": "python"
    }
  },
  "cells": [
    {
      "cell_type": "markdown",
      "metadata": {
        "id": "view-in-github",
        "colab_type": "text"
      },
      "source": [
        "<a href=\"https://colab.research.google.com/github/XTMay/Python_Beginner/blob/main/Homework/HW_2.ipynb\" target=\"_parent\"><img src=\"https://colab.research.google.com/assets/colab-badge.svg\" alt=\"Open In Colab\"/></a>"
      ]
    },
    {
      "cell_type": "markdown",
      "metadata": {
        "id": "dd9a0b2b"
      },
      "source": [
        "# HW_2: List\n",
        "\n",
        "根据以下列表方法及其说明，完成下面的题目：\n",
        "\n",
        "*   `append(item)`: 在列表末尾添加一个元素\n",
        "*   `extend(iterable)`: 在列表末尾添加另一个可迭代对象的所有元素\n",
        "*   `insert(index, item)`: 在指定索引位置插入一个元素\n",
        "*   `remove(item)`: 删除列表中第一个匹配的元素\n",
        "*   `pop([index])`: 删除并返回指定索引（默认为最后一个）的元素\n",
        "\n",
        "**题目：**\n",
        "\n",
        "1.  创建一个包含水果名称的列表 `fruits`，初始值为 `['apple', 'banana', 'cherry']`。\n",
        "2.  使用 `append()` 方法在 `fruits` 列表末尾添加 'date'。\n",
        "3.  使用 `extend()` 方法将列表 `['elderberry', 'fig']` 添加到 `fruits` 列表的末尾。\n",
        "4.  使用 `insert()` 方法在索引为 1 的位置插入 'blueberry'。\n",
        "5.  使用 `remove()` 方法删除列表中的 'banana'。\n",
        "6.  使用 `pop()` 方法删除列表的最后一个元素，并将删除的元素存储在变量 `last_fruit` 中。\n",
        "7.  打印出修改后的 `fruits` 列表和 `last_fruit` 的值。"
      ]
    },
    {
      "cell_type": "code",
      "metadata": {
        "id": "ddeeebe8"
      },
      "source": [
        "# 在这里写下你的代码来完成题目"
      ],
      "execution_count": 1,
      "outputs": []
    }
  ]
}