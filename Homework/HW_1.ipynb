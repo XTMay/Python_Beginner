{
  "nbformat": 4,
  "nbformat_minor": 0,
  "metadata": {
    "colab": {
      "provenance": [],
      "authorship_tag": "ABX9TyMBFCQaOrVr/uNityw0/gOF",
      "include_colab_link": true
    },
    "kernelspec": {
      "name": "python3",
      "display_name": "Python 3"
    },
    "language_info": {
      "name": "python"
    }
  },
  "cells": [
    {
      "cell_type": "markdown",
      "metadata": {
        "id": "view-in-github",
        "colab_type": "text"
      },
      "source": [
        "<a href=\"https://colab.research.google.com/github/XTMay/Python_Beginner/blob/main/Homework/HW_1.ipynb\" target=\"_parent\"><img src=\"https://colab.research.google.com/assets/colab-badge.svg\" alt=\"Open In Colab\"/></a>"
      ]
    },
    {
      "cell_type": "markdown",
      "source": [
        "# 课后练习"
      ],
      "metadata": {
        "id": "KiO3faLftzm2"
      }
    },
    {
      "cell_type": "markdown",
      "source": [
        "## 一、基础题"
      ],
      "metadata": {
        "id": "RSF9JH_zt5p0"
      }
    },
    {
      "cell_type": "markdown",
      "source": [
        "\t1.\t创建四个变量，分别存放以下数据：\n",
        "\t•\t你的年龄（int）\n",
        "\t•\t你的身高（float）\n",
        "\t•\t你的姓名（str）\n",
        "\t•\t是否是学生（bool）\n",
        "\n",
        "使用 print() 打印这些变量，并用 type() 检查它们的数据类型。"
      ],
      "metadata": {
        "id": "9NqXG4Out6yu"
      }
    },
    {
      "cell_type": "code",
      "source": [],
      "metadata": {
        "id": "k6fgR1Twt7pK"
      },
      "execution_count": null,
      "outputs": []
    },
    {
      "cell_type": "markdown",
      "source": [
        "2.\t将一个浮点数 3.9 转换成整数，并打印结果和类型。\n",
        "再把一个整数 10 转换成字符串，并打印结果和类型。"
      ],
      "metadata": {
        "id": "jeZV5-wgt9oy"
      }
    },
    {
      "cell_type": "code",
      "source": [],
      "metadata": {
        "id": "WaZSKXhXt-nQ"
      },
      "execution_count": null,
      "outputs": []
    },
    {
      "cell_type": "markdown",
      "source": [
        "## 二、进阶题"
      ],
      "metadata": {
        "id": "uCO_pff8uD-Z"
      }
    },
    {
      "cell_type": "markdown",
      "source": [
        "3.\t写一个小程序，输入一个数字，判断它是 偶数 还是 奇数。\n",
        "（提示：先用 int() 把输入转换成整数，再用 % 运算符）"
      ],
      "metadata": {
        "id": "vSUGr746uFVb"
      }
    },
    {
      "cell_type": "code",
      "source": [],
      "metadata": {
        "id": "pxiZs6qMuG4i"
      },
      "execution_count": null,
      "outputs": []
    },
    {
      "cell_type": "markdown",
      "source": [
        "4.\t让用户输入一个名字，并打印：\n",
        "\n",
        "```\n",
        "欢迎加入数据科学世界，XXX\n",
        "\n",
        "（把 XXX 替换成用户输入的名字）\n",
        "\n",
        "```"
      ],
      "metadata": {
        "id": "dUJdmG0WuM-g"
      }
    },
    {
      "cell_type": "markdown",
      "source": [
        "## 三、挑战题"
      ],
      "metadata": {
        "id": "75YzbocJuPA9"
      }
    },
    {
      "cell_type": "markdown",
      "source": [
        "\t5.\t定义一个 List，里面包含你最喜欢的 3 门学科（例如：[\"数学\", \"编程\", \"人工智能\"]）。\n",
        "\t•\t打印整个 List\n",
        "\t•\t打印第一门学科\n",
        "\t•\t打印学科总数（用 len()）"
      ],
      "metadata": {
        "id": "dzOA05b9uQzR"
      }
    },
    {
      "cell_type": "code",
      "source": [],
      "metadata": {
        "id": "WDPi7q2JuX6N"
      },
      "execution_count": null,
      "outputs": []
    },
    {
      "cell_type": "markdown",
      "source": [
        "6.\t综合练习：\n",
        "```\n",
        "\t•\t让用户输入三门课程的名字\n",
        "\t•\t把它们存放到一个 List 中\n",
        "\t•\t最后打印出：\n",
        "\n",
        "你选择的课程有：XXX, XXX, XXX\n",
        "```"
      ],
      "metadata": {
        "id": "flC7bV1ztuXa"
      }
    },
    {
      "cell_type": "code",
      "source": [],
      "metadata": {
        "id": "XyLAR8sLuUpn"
      },
      "execution_count": null,
      "outputs": []
    }
  ]
}