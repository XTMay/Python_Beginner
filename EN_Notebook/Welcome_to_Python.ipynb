{
  "nbformat": 4,
  "nbformat_minor": 0,
  "metadata": {
    "colab": {
      "provenance": [],
      "authorship_tag": "ABX9TyOAQ/PVTQMniJShJfm957j4",
      "include_colab_link": true
    },
    "kernelspec": {
      "name": "python3",
      "display_name": "Python 3"
    },
    "language_info": {
      "name": "python"
    }
  },
  "cells": [
    {
      "cell_type": "markdown",
      "metadata": {
        "id": "view-in-github",
        "colab_type": "text"
      },
      "source": [
        "<a href=\"https://colab.research.google.com/github/XTMay/Python_Beginner/blob/main/EN_Notebook/Welcome_to_Python.ipynb\" target=\"_parent\"><img src=\"https://colab.research.google.com/assets/colab-badge.svg\" alt=\"Open In Colab\"/></a>"
      ]
    },
    {
      "cell_type": "markdown",
      "source": [
        "# Welocome to Python Trial Lesson\n",
        "\n",
        "Welcome! In this short hands-on Python session, you’ll:\n",
        "- Write your first Python code\n",
        "- Use variables, logic, loops, and functions\n",
        "- Learn the basics of Object-Oriented Programming (OOP)"
      ],
      "metadata": {
        "id": "7NIt_oXCgWP3"
      }
    },
    {
      "cell_type": "markdown",
      "source": [
        "# 👩‍💻 About Me (May)\n",
        "\n",
        "- Full-stack developer with over **9 years of experience**\n",
        "- **3+ years of teaching** programming to beginners and professionals\n",
        "- Passionate about **practical, project-based learning**\n",
        "- Currently working as an **AI researcher** exploring real-world applications\n"
      ],
      "metadata": {
        "id": "bzXtGfcRgXa4"
      }
    },
    {
      "cell_type": "markdown",
      "source": [
        "# 🧑‍🎓 How about you?\n",
        "\n",
        "- Programming background\n",
        "- Why did you booked this lesson?\n",
        "- Your learning goal?\n",
        "- What's the final goal you want to achive?"
      ],
      "metadata": {
        "id": "wchdYbz1hLcR"
      }
    },
    {
      "cell_type": "code",
      "execution_count": 46,
      "metadata": {
        "id": "Ijr9QpcoZBwk",
        "colab": {
          "base_uri": "https://localhost:8080/"
        },
        "outputId": "29c9c6cc-3567-4254-8221-881d27dabe60"
      },
      "outputs": [
        {
          "output_type": "stream",
          "name": "stdout",
          "text": [
            "Hello world!!\n"
          ]
        }
      ],
      "source": [
        "# 🎉 Your first Python script\n",
        "print(\"Hello world!!\") # parameter = Hello world!!, function: print"
      ]
    },
    {
      "cell_type": "markdown",
      "source": [
        "## 🧮 Variables & Data Types\n",
        "Python supports basic types like strings, numbers, booleans:"
      ],
      "metadata": {
        "id": "gzHIu8sQg2uQ"
      }
    },
    {
      "cell_type": "markdown",
      "source": [
        "\n",
        "\n",
        "*   May: Text String\n",
        "*   34: Number Integer\n",
        "*   78.5: float Float\n",
        "*   is_hot or not: boolean\n",
        "\n",
        "\n",
        "\n"
      ],
      "metadata": {
        "id": "SmaKtePVjB8E"
      }
    },
    {
      "cell_type": "code",
      "source": [
        "name = \"Alice\"\n",
        "age = 25\n",
        "height = 1.68\n",
        "is_student = True"
      ],
      "metadata": {
        "id": "JU-RWJFWg171"
      },
      "execution_count": null,
      "outputs": []
    },
    {
      "cell_type": "code",
      "source": [
        "animal = \"dog\""
      ],
      "metadata": {
        "id": "2xEp5mFtmC17"
      },
      "execution_count": null,
      "outputs": []
    },
    {
      "cell_type": "code",
      "source": [
        "print(type(animal))"
      ],
      "metadata": {
        "id": "ErOiE_VBmbRv",
        "colab": {
          "base_uri": "https://localhost:8080/"
        },
        "outputId": "ea1b99cf-6a09-47ca-ac94-fe9bcdf8e141"
      },
      "execution_count": null,
      "outputs": [
        {
          "output_type": "stream",
          "name": "stdout",
          "text": [
            "<class 'str'>\n"
          ]
        }
      ]
    },
    {
      "cell_type": "code",
      "source": [
        "print(name, age, height, is_student)"
      ],
      "metadata": {
        "id": "GdMkpxOcjdJw",
        "colab": {
          "base_uri": "https://localhost:8080/"
        },
        "outputId": "67b4c4c2-ca42-4c30-8c7e-a0ba2b5df809"
      },
      "execution_count": null,
      "outputs": [
        {
          "output_type": "stream",
          "name": "stdout",
          "text": [
            "Alice 25 1.68 True\n"
          ]
        }
      ]
    },
    {
      "cell_type": "code",
      "source": [
        "print(type(name))"
      ],
      "metadata": {
        "id": "G_bNq_6kjqG4"
      },
      "execution_count": null,
      "outputs": []
    },
    {
      "cell_type": "code",
      "source": [
        "is_student = False"
      ],
      "metadata": {
        "id": "9HJTA1LXjvQT"
      },
      "execution_count": null,
      "outputs": []
    },
    {
      "cell_type": "code",
      "source": [
        "print(is_student)"
      ],
      "metadata": {
        "id": "u5vcyKuIjy_s"
      },
      "execution_count": null,
      "outputs": []
    },
    {
      "cell_type": "code",
      "source": [
        "print(type(is_student))"
      ],
      "metadata": {
        "id": "YXFXowS2kBfO",
        "colab": {
          "base_uri": "https://localhost:8080/"
        },
        "outputId": "94868781-ec64-48dd-aa9b-b07355b76db9"
      },
      "execution_count": null,
      "outputs": [
        {
          "output_type": "stream",
          "name": "stdout",
          "text": [
            "<class 'bool'>\n"
          ]
        }
      ]
    },
    {
      "cell_type": "markdown",
      "source": [
        "False -> 0, True -> 1"
      ],
      "metadata": {
        "id": "MXV8NFcxClMZ"
      }
    },
    {
      "cell_type": "code",
      "source": [
        "type(1234.098)"
      ],
      "metadata": {
        "colab": {
          "base_uri": "https://localhost:8080/"
        },
        "id": "ZLr5rnPlQa1u",
        "outputId": "a734cbcc-6d54-49a9-db0d-a479e939faaf"
      },
      "execution_count": null,
      "outputs": [
        {
          "output_type": "execute_result",
          "data": {
            "text/plain": [
              "float"
            ]
          },
          "metadata": {},
          "execution_count": 5
        }
      ]
    },
    {
      "cell_type": "markdown",
      "source": [
        "#### AND / OR"
      ],
      "metadata": {
        "id": "XsHVBuMECumN"
      }
    },
    {
      "cell_type": "markdown",
      "source": [
        "OR: AS LONG AS 1 TRUE --> True"
      ],
      "metadata": {
        "id": "3rj2d2IcRGLR"
      }
    },
    {
      "cell_type": "markdown",
      "source": [
        "AND: AS LONG AS False --> False"
      ],
      "metadata": {
        "id": "rTZ7p4QzRdar"
      }
    },
    {
      "cell_type": "code",
      "source": [
        "(False or True)"
      ],
      "metadata": {
        "colab": {
          "base_uri": "https://localhost:8080/"
        },
        "id": "02QDvPSNR67P",
        "outputId": "a2b1ddd0-ecc3-4ec7-f970-1017cd3afeed"
      },
      "execution_count": null,
      "outputs": [
        {
          "output_type": "execute_result",
          "data": {
            "text/plain": [
              "True"
            ]
          },
          "metadata": {},
          "execution_count": 17
        }
      ]
    },
    {
      "cell_type": "code",
      "source": [
        "True and (False or True) # True"
      ],
      "metadata": {
        "colab": {
          "base_uri": "https://localhost:8080/"
        },
        "id": "otjNjiruQ9MZ",
        "outputId": "628d2512-37d2-4b55-984e-d9dd1be1bff6"
      },
      "execution_count": null,
      "outputs": [
        {
          "output_type": "execute_result",
          "data": {
            "text/plain": [
              "True"
            ]
          },
          "metadata": {},
          "execution_count": 16
        }
      ]
    },
    {
      "cell_type": "code",
      "source": [
        "False and True"
      ],
      "metadata": {
        "id": "N3sBE-3ICr3s",
        "colab": {
          "base_uri": "https://localhost:8080/"
        },
        "outputId": "1248c173-eb4e-43bc-ae8f-cc76d1e3a489"
      },
      "execution_count": null,
      "outputs": [
        {
          "output_type": "execute_result",
          "data": {
            "text/plain": [
              "False"
            ]
          },
          "metadata": {},
          "execution_count": 11
        }
      ]
    },
    {
      "cell_type": "code",
      "source": [
        "True and False"
      ],
      "metadata": {
        "colab": {
          "base_uri": "https://localhost:8080/"
        },
        "id": "AcXKGMSXQ_df",
        "outputId": "9412e68b-5559-490f-edd5-eb49196f57ab"
      },
      "execution_count": null,
      "outputs": [
        {
          "output_type": "execute_result",
          "data": {
            "text/plain": [
              "False"
            ]
          },
          "metadata": {},
          "execution_count": 14
        }
      ]
    },
    {
      "cell_type": "code",
      "source": [
        "False and False"
      ],
      "metadata": {
        "colab": {
          "base_uri": "https://localhost:8080/"
        },
        "id": "zbspEfLoRDR-",
        "outputId": "24378fcc-313e-4103-9d98-9f5e8b00d1af"
      },
      "execution_count": null,
      "outputs": [
        {
          "output_type": "execute_result",
          "data": {
            "text/plain": [
              "False"
            ]
          },
          "metadata": {},
          "execution_count": 15
        }
      ]
    },
    {
      "cell_type": "markdown",
      "source": [
        "## 🔁 Lists and Loops\n",
        "Lists store multiple items. You can loop through them:"
      ],
      "metadata": {
        "id": "1_t1qTdCg4KS"
      }
    },
    {
      "cell_type": "code",
      "source": [
        "lst = []"
      ],
      "metadata": {
        "id": "dg08YvP2SpDU"
      },
      "execution_count": null,
      "outputs": []
    },
    {
      "cell_type": "code",
      "source": [
        "lst"
      ],
      "metadata": {
        "colab": {
          "base_uri": "https://localhost:8080/"
        },
        "id": "yV01Xv6PS7WX",
        "outputId": "cc7f78b1-1c41-4bc3-df5d-7281bd2e714a"
      },
      "execution_count": null,
      "outputs": [
        {
          "output_type": "execute_result",
          "data": {
            "text/plain": [
              "[99, 88]"
            ]
          },
          "metadata": {},
          "execution_count": 29
        }
      ]
    },
    {
      "cell_type": "code",
      "source": [
        "names = [\"Alice\", \"John\", \"May\"]# >= 0"
      ],
      "metadata": {
        "id": "X06Dh-Q2kNMc"
      },
      "execution_count": null,
      "outputs": []
    },
    {
      "cell_type": "code",
      "source": [
        "print(type(names))"
      ],
      "metadata": {
        "id": "yqI5WMN_kVNg",
        "colab": {
          "base_uri": "https://localhost:8080/"
        },
        "outputId": "8847291d-6689-4c29-91bb-2cd1d09cb107"
      },
      "execution_count": null,
      "outputs": [
        {
          "output_type": "stream",
          "name": "stdout",
          "text": [
            "<class 'list'>\n"
          ]
        }
      ]
    },
    {
      "cell_type": "code",
      "source": [
        "any_lst = [\"Alice\", \"John\", \"May\", 99, 13.44, True, False, \"po\"] # index >= 0\n",
        "any_lst"
      ],
      "metadata": {
        "colab": {
          "base_uri": "https://localhost:8080/"
        },
        "id": "OpR1CDSFTHm9",
        "outputId": "b5f3793c-0bbd-40af-aa36-1574e1259da4"
      },
      "execution_count": null,
      "outputs": [
        {
          "output_type": "execute_result",
          "data": {
            "text/plain": [
              "['Alice', 'John', 'May', 99, 13.44, True, False, 'po']"
            ]
          },
          "metadata": {},
          "execution_count": 34
        }
      ]
    },
    {
      "cell_type": "code",
      "source": [
        "any_lst.append(101)"
      ],
      "metadata": {
        "id": "J9KWS12HTUk0"
      },
      "execution_count": null,
      "outputs": []
    },
    {
      "cell_type": "code",
      "source": [
        "dic_name = {\"Alice\": 24, \"John\": 30, \"May\": 25}\n",
        "# dictionary : key-value"
      ],
      "metadata": {
        "id": "fWTa-h6UkyTB"
      },
      "execution_count": null,
      "outputs": []
    },
    {
      "cell_type": "code",
      "source": [
        "dic_name['Alice']"
      ],
      "metadata": {
        "id": "wP8cmysnlf7t"
      },
      "execution_count": null,
      "outputs": []
    },
    {
      "cell_type": "code",
      "source": [
        "print(type(dic_name))"
      ],
      "metadata": {
        "id": "L5OOubuRk5El"
      },
      "execution_count": null,
      "outputs": []
    },
    {
      "cell_type": "code",
      "source": [
        "colors = [\"red\", \"green\", \"blue\"]\n",
        "\n",
        "for color in colors: # for 循环，迭代，内部项目必须 > 0\n",
        "    print(\"Color:\", color)"
      ],
      "metadata": {
        "id": "PJ_4l5Ougz8q"
      },
      "execution_count": null,
      "outputs": []
    },
    {
      "cell_type": "code",
      "source": [
        "colors = [\"pink\"]\n",
        "for color in colors:\n",
        "  print(\"Color:\", color)"
      ],
      "metadata": {
        "id": "Xl8Qv_8blxed"
      },
      "execution_count": null,
      "outputs": []
    },
    {
      "cell_type": "markdown",
      "source": [
        "## 🧠 If-Else Conditions\n",
        "Use conditions to control program flow."
      ],
      "metadata": {
        "id": "XdOc1UQ7g8Qa"
      }
    },
    {
      "cell_type": "code",
      "source": [
        "score = 85\n",
        "\n",
        "if score >= 90:\n",
        "    print(\"Awesome!\")\n",
        "elif score >= 60:\n",
        "    print(\"Pass！\")\n",
        "else:\n",
        "    print(\"Try it again!\")"
      ],
      "metadata": {
        "id": "aZ0axuTDg9YB"
      },
      "execution_count": null,
      "outputs": []
    },
    {
      "cell_type": "code",
      "source": [
        "score = 75\n",
        "\n",
        "if score < 90 and score > 85: #85 < score < 90\n",
        "  print('B')\n",
        "elif score <= 85 and score > 80: #80 < score <= 85\n",
        "  print('C')\n",
        "else:\n",
        "  print('D')"
      ],
      "metadata": {
        "id": "o5csnutSm2cU"
      },
      "execution_count": null,
      "outputs": []
    },
    {
      "cell_type": "code",
      "source": [
        "height = 13 # 狗的高度\n",
        "\n",
        "if height > 12:\n",
        "  print('medium')\n",
        "elif height < 10:\n",
        "  print('small')\n",
        "elif height > 20:\n",
        "  print('big')\n",
        "else:\n",
        "  print('I don\\'t know')"
      ],
      "metadata": {
        "id": "Z6pLLuV6nh8L"
      },
      "execution_count": null,
      "outputs": []
    },
    {
      "cell_type": "markdown",
      "source": [
        "## ⚙️ Functions\n",
        "Functions let you reuse code.'"
      ],
      "metadata": {
        "id": "yMAeAbXYg-m7"
      }
    },
    {
      "cell_type": "code",
      "source": [
        "def greet(name):\n",
        "    return f\"Hello , {name}!\"\n",
        "\n",
        "print(greet(\"Bob\"))"
      ],
      "metadata": {
        "id": "2cXl6xm6hAEa"
      },
      "execution_count": null,
      "outputs": []
    },
    {
      "cell_type": "markdown",
      "source": [
        "## 🧰 Mini Challenge: BMI Calculator\n",
        "\n",
        "Write a function to calculate BMI:"
      ],
      "metadata": {
        "id": "1iuq4ODIhBT2"
      }
    },
    {
      "cell_type": "code",
      "source": [
        "def bmi(weight, height):\n",
        "    return weight / (height ** 2)\n",
        "\n",
        "print(bmi(60, 1.68))  # eg：60kg, 1.68m"
      ],
      "metadata": {
        "id": "_tK4PG_nhCcg"
      },
      "execution_count": null,
      "outputs": []
    },
    {
      "cell_type": "markdown",
      "source": [
        "# 🧱 Intro to Object-Oriented Programming (OOP)\n",
        "\n",
        "OOP helps you model real-world things.\n",
        "\n",
        "### Class = Blueprint  \n",
        "### Object = Instance of class"
      ],
      "metadata": {
        "id": "Cj-dtQJghDiD"
      }
    },
    {
      "cell_type": "code",
      "source": [
        "class Person:\n",
        "    def __init__(self, name, age):\n",
        "        self.name = name\n",
        "        self.age = age\n",
        "\n",
        "    def greet(self):\n",
        "        print(f\"Hi, I’m {self.name} and I’m {self.age} years old.\")\n",
        "\n",
        "p1 = Person(\"Alice\", 25)\n",
        "p1.greet()"
      ],
      "metadata": {
        "id": "QyzK8uVkhE4O"
      },
      "execution_count": null,
      "outputs": []
    },
    {
      "cell_type": "markdown",
      "source": [
        "## ✨ Bonus: Simple Calculator Class"
      ],
      "metadata": {
        "id": "uBkREVXkhGDw"
      }
    },
    {
      "cell_type": "code",
      "source": [
        "class Calculator:\n",
        "    def add(self, a, b):\n",
        "        return a + b\n",
        "\n",
        "    def multiply(self, a, b):\n",
        "        return a * b\n",
        "\n",
        "calc = Calculator()\n",
        "print(calc.add(3, 5))\n",
        "print(calc.multiply(4, 7))"
      ],
      "metadata": {
        "id": "zxHAvooJhHWj"
      },
      "execution_count": null,
      "outputs": []
    },
    {
      "cell_type": "markdown",
      "source": [
        "## ✅ Summary\n",
        "\n",
        "You’ve learned:\n",
        "- Variables, types, loops, conditions\n",
        "- Functions\n",
        "- OOP basics: class, object, method"
      ],
      "metadata": {
        "id": "cYyM69zChIur"
      }
    },
    {
      "cell_type": "code",
      "metadata": {
        "id": "QyzK8uKhE4O"
      },
      "source": [
        "class Person:\n",
        "    def __init__(self, name, age):\n",
        "        self.name = name\n",
        "        self.age = age\n",
        "\n",
        "    def greet(self):\n",
        "        print(f\"Hi，I am {self.name}, I am {self.age} years old.\")\n",
        "\n",
        "p1 = Person(\"Alice\", 25)\n",
        "p1.greet()"
      ],
      "execution_count": null,
      "outputs": []
    }
  ]
}